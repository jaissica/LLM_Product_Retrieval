{
 "cells": [
  {
   "cell_type": "code",
   "execution_count": 35,
   "metadata": {},
   "outputs": [
    {
     "name": "stderr",
     "output_type": "stream",
     "text": [
      "[nltk_data] Downloading package punkt to\n",
      "[nltk_data]     /Users/jaissicahora/nltk_data...\n",
      "[nltk_data]   Unzipping tokenizers/punkt.zip.\n"
     ]
    },
    {
     "data": {
      "text/plain": [
       "True"
      ]
     },
     "execution_count": 35,
     "metadata": {},
     "output_type": "execute_result"
    }
   ],
   "source": [
    "import json\n",
    "import nltk\n",
    "import re\n",
    "from nltk.tokenize import word_tokenize\n",
    "import os\n",
    "\n",
    "# Ensure you have the necessary NLTK data (run this once)\n",
    "nltk.download('punkt')"
   ]
  },
  {
   "cell_type": "code",
   "execution_count": 36,
   "metadata": {},
   "outputs": [],
   "source": [
    "def read_file(path):\n",
    "    f = open(path, \"r\")\n",
    "    prod = json.load(f)\n",
    "\n",
    "    \n",
    "\n",
    "    return prod"
   ]
  },
  {
   "cell_type": "code",
   "execution_count": 37,
   "metadata": {},
   "outputs": [
    {
     "name": "stdout",
     "output_type": "stream",
     "text": [
      "{'0feecb11-2ff1-49c0-9e89-ff661109b710': {'name': 'WI-1000XM2 Wireless In-ear Noise Canceling Headphones with Microphone | Black', 'link': 'https://electronics.sony.com/audio/headphones/c/all-headphones/audio/headphones/in-ear/p/wi1000xm2-b', 'price': '$299.99', 'emi': '', 'about_us': ['Industry-leading noise canceling1 with HD Noise Canceling Processor QN1', 'Newly-designed flexible, comfortable neck band for all-day listening', 'Battery life up to 10 hours2 (with 10min quick charge for\\xa0 80min of play time)', 'Activate your voice assistant with a simple touch3, 6', '“Sony | Headphones Connect” APP for Android /iOS to control your ambient sound settings3', 'Smart Listening by Adaptive Sound Control automatically adjusts ambient sound to your activity', 'Ambient Sound Mode lets you hear essential sounds while listening on the move', 'Atmospheric Pressure Optimizing delivers optimal sound at high altitudes', 'Easy hands-free calling at the touch of a button', 'Magnetic earbuds for easy, tangle-free storage'], 'specification': {'Battery': [{'BATTERY LIFE (CONTINUOUS COMMUNICATION TIME)': 'Max. 9 hours (NC ON), Max. 10 hours (Ambient Sound Mode), Max. 13 hours (NC OFF)'}, {'Battery Charge Method': 'USB'}, {'Battery Charge Time': 'Approx. 3.5 hours, This unit can be used for 80 minutes after 10 minutes of charging.'}, {'Battery Life (Waiting Time)': 'Max. 11 hours (NC ON), Max. 13 hours (Ambient Sound Mode), Max. 100 hours (NC OFF)'}, {'Battery Life (continuous music playback time)': 'Max. 10 hours (NC ON), Max. 12 hours (Ambient Sound Mode), Max. 15 hours (NC OFF)'}, {'Lithium Battery': 'Yes'}], 'Bluetooth® Specification': [{'Bluetooth® version': 'Bluetooth Specification Version 5.0'}, {'Effective Range': 'Line of sight approx. 30 ft (10 m)'}, {'FREQUENCY RANGE': '2.4 GHz band (2.4000–2.4835 GHz)'}, {'Profile': 'A2DP, AVRCP, HFP, HSP'}, {'Supported Audio Format(s)': 'SBC, AAC, LDAC'}, {'Supported Content Protection': 'SCMS-T'}], 'General Features': [{'Cord Length': 'approx. 3.28 ft'}, {'Cord type': 'Single-sided (detachable)'}, {'DSEE HX': 'Yes'}, {'Driver Unit': 'Hybrid'}, {'Frequency Response': '3 Hz–40,000 Hz'}, {'Frequency Response (Active Operation)': '20 Hz–20,000 Hz (44.1 kHz Sampling)/20 Hz–40,000 Hz (LDAC 96 kHz Sampling, 990 kbps)'}, {'Frequency Response (Bluetooth® Communication)': '20 Hz–20,000 Hz (44.1 kHz Sampling)/20 Hz–40,000 Hz (LDAC 96 kHz Sampling, 990 kbps)'}, {'Headphone Type': 'Closed, Hybrid'}, {'Impedance (Ohm)': '50 ohm (1 kHz) (when connecting via the headphone cable with the unit turned on), 17 ohm (1kHz) (when connecting via the headphone cable with the unit turned off)'}, {'Input(s)': 'Stereo Mini'}, {'Magnet': 'Neodymium'}, {'NFC': 'Yes'}, {'Passive Operation': 'Yes'}, {'Plug': 'Gold-plated L-shaped Stereo Mini'}, {'Sensitivities (dB/mW)': '99 dB/mW (when connecting via the headphone cable with the unit turned on), 94 dB/mW (when connecting via the headphone cable with the unit turned off)'}, {'Volume Control': 'Yes'}, {'Wearing Style': 'Neckband'}], 'Noise Canceling': [{'Ambient Sound Mode': 'Yes'}, {'Noise Canceling ON/OFF Switch': 'Yes'}], 'Size & Weight': [{'Weight': 'Approx. 2.05 oz (main unit approx. 1.55 oz)'}]}, 'features': {}}}\n"
     ]
    }
   ],
   "source": [
    "f= read_file(\"Corpus/Headphones/0feecb11-2ff1-49c0-9e89-ff661109b710.json\")\n",
    "print(str(f))"
   ]
  },
  {
   "cell_type": "code",
   "execution_count": 38,
   "metadata": {},
   "outputs": [],
   "source": [
    "def tokenize(f):\n",
    "    fstr = str(f)\n",
    "    final = re.sub(r'[\\[\\]\\{\\}\\(\\)]', '\\n', fstr)\n",
    "    final = re.sub(r'[\\'\\\"]', '', final)\n",
    "    final = re.sub(r\"\\\\u[a-fA-F0-9]{4}\", \" \", final)\n",
    "    final = re.sub(r\":\", \" \", final)\n",
    "    final = re.sub(r\",\", \" \", final)\n",
    "    \n",
    "    words = word_tokenize(final)\n",
    "    print(words)\n",
    "    rm_stop = []\n",
    "    for w in words:\n",
    "        if w not in nltk.corpus.stopwords.words('english'):\n",
    "            rm_stop.append(w)\n",
    "\n",
    "    return rm_stop"
   ]
  },
  {
   "cell_type": "code",
   "execution_count": 39,
   "metadata": {},
   "outputs": [
    {
     "name": "stdout",
     "output_type": "stream",
     "text": [
      "['0045161d-b36f-4a3b-97dd-ecb4cc2ff410', 'name', 'MDR-1AM2', 'Premium', 'Hi-Res', 'Headphones', 'link', 'https', '//electronics.sony.com/audio/headphones/c/all-headphones/audio/headphones/all-headphones/p/mdr1am2-b', 'price', '$', '299.99', 'specification', 'Cord', 'Length', '47-1/4', 'Cord', 'type', 'Detachable/Silver-coated', 'OFC', 'Diaphragm', 'Aluminum-Coated', 'LCP', 'Driver', 'Unit', '1.57', 'in', 'Dome', 'Type', 'Frequency', 'Response', '3–100', '000', 'Hz', 'Headphone', 'Type', 'Closed', 'Dynamic', 'Impedance', 'Ohm', '16', 'Ω', 'Magnet', 'Neodymium', 'Plug', 'Gold-plated', 'L-shaped', 'Stereo', 'Mini', 'Sensitivities', 'dB/mW', '98', 'dB', '/', 'mW', 'Wearing', 'Style', 'Circumaural', 'Weight', '6.60', 'oz', 'features', 'Enjoy', 'music', 'as', 'the', 'artist', 'intended', 'with', 'High-Resolution', 'Audio', 'Aluminum-coated', 'LCP', 'diaphragm', 'for', 'more', 'precision']\n",
      "\n",
      "['72bbb368-5a0d-41d5-a08f-cfdced2142b9', 'name', 'WH-RF400', 'Home', 'Wireless', 'Headphones', 'link', 'https', '//electronics.sony.com/audio/headphones/c/all-headphones/audio/headphones/headband/p/whrf400', 'price', '$', '139.99', 'specification', 'Charge', 'Time', 'Approx', '.', '7', 'hrs', 'Full', 'charge', 'Cord', 'Length', 'N/A', 'Cord', 'type', 'N/A', 'Diaphragm', 'PET', 'Driver', 'Unit', '1.57', 'Frequency', 'Response', '10\\\\xa0Hz-22', '000\\\\xa0Hz', 'Headphone', 'Type', 'Dynamic', 'Impedance', 'Ohm', '32', 'ohm', '1', 'kHz', 'Magnet', 'Neodymium', 'Plug', 'N/A', 'Sensitivities', 'dB/mW', '100\\\\xa0dB/mW', 'Usage', 'Time', 'Maximum', '20', 'Hours', 'Volume', 'Control', 'Yes', 'Rotary', 'Wearing', 'Style', 'Over-ear', 'Weight', '275', 'g', 'with', 'supplied', 'rechargeable', 'battery', 'features', 'Zone', 'out', 'and', 'tune', 'in', '150-ft', 'wireless', 'range']\n",
      "\n",
      "['077bdb72-619f-4e04-b272-5a1d9f4358b3', 'name', 'WF-C700N', 'Noise', 'Canceling', 'Truly', 'Wireless', 'Earbuds', '|', 'Black', 'link', 'https', '//electronics.sony.com/audio/headphones/c/all-headphones/audio/headphones/truly-wireless-earbuds/p/wfc700n-b', 'price', '$', '119.99', 'specification', 'Headphone', 'Type', 'Closed', 'Driver', 'Unit', '5mm', 'Magnet', '-', 'Wearing', 'Style', 'Yes', 'IPX4', 'Frequency', 'Response', 'Bluetooth®', 'Communication', '20', 'Hz', '-', '20', '000', 'Hz', '44.1', 'kHz', 'sampling', 'DSEE', 'Yes', 'General', 'Features', 'Active', 'Headphones', 'Yes', 'Weight', 'Approx', '.', '31', 'g', 'Weight', 'Approx', '.', '4.6', 'g', 'x', '2', 'including', 'earbuds', 'tips', 'M', 'Battery', 'Charge', 'Method', 'USB', 'Charge', 'with', 'case', 'BATTERY', 'LIFE', 'CONTINUOUS', 'COMMUNICATION', 'TIME', 'Max', '.', '5', 'hrs', 'NC', 'ON', '/', 'Max', '.', '5', 'hrs', 'NC', 'OFF', 'General', 'Features', 'Active', 'Headphones', 'Max', '.', '7.5', 'hrs', 'NC', 'ON', '/', 'Max', '.', '10', 'hrs', 'NC', 'OFF', 'Bluetooth®', 'version', 'BLUETOOTH', 'Specification', 'Version', '5.2', 'Effective', 'Range', '10', 'm', 'FREQUENCY', 'RANGE', '2.4', 'GHz', 'band', '2.400', '0', 'GHz', '-', '2.483', '5', 'GHz', 'Profile', 'A2DP', 'AVRCP', 'HFP', 'HSP', 'Supported', 'Audio', 'Format', 's', 'SBC', 'AAC', 'Supported', 'Content', 'Protection', 'SCMS-T', 'Ambient', 'Sound', 'Mode', 'Yes', 'SUPPLIED', 'ACCESSORIES', 'Yes', 'features']\n",
      "\n",
      "['8b089ede-3fb6-4e7a-a9d8-b9e42a515305', 'name', 'NS7', 'Wireless', 'Wearable', 'TV', 'Speaker', 'link', 'https', '//electronics.sony.com/audio/headphones/c/all-headphones/audio/speakers/wearable-speakers/p/srsns7', 'price', '$', '299.99', 'specification', 'Speaker', 'type', 'Full', 'Range', 'Speaker', 'Size', '32ΦX33mm', 'DSEE', 'Yes', 'Preset', 'EQ', 'Yes', 'Custom', 'EQ', '5', 'band', 'Output', 'Power', '3W+3W', 'Dimensions', 'W', 'x', 'H', 'x', 'D', '244x53x185mm', '9', '5/8', 'x', '2', '1/8', 'x', '7', '3/8in', 'Weight', '0lb', '12oz', 'Approx.319g', 'Communication', 'System', 'Version', '5.0', 'Max', '.', 'Communication', 'Range', '30m', '98feet', 'Compatible', 'Profiles', 'A2DP', 'AVRCP', 'HFP', 'HSP', 'SPP', 'Supported', 'Codecs', 'SBC', 'AAC', 'LADC', 'Frequency', 'Transmission', 'Range', '20', 'Hz', '-', '20', '000', 'Hz', '44.1', 'kHz', 'sampling', 'Input', 'and', 'Output', 'Terminals', 'USB', 'Type-C®', 'COMPATIBLE', 'SMARTPHONE', 'APPS', 'Music', 'Center', 'Headphone', 'Connect', '360', 'Spatial', 'Sound', 'Personalizer', 'Battery', 'Life', 'Approx', '.', '12h', 'Power', 'Consumption', '7.5W', '*', 'Charging', 'Built-in', 'microphone', 'Hands', 'Free', 'Calling', 'Yes', 'Whats', 'In', 'The', 'Box', 'Optical', 'Cable\\\\nUSB', 'Cable', 'features', 'Your', 'wearable', 'personal', 'theater', '360', 'Spatial', 'Sound', 'that', 'adapts', 'to', 'your', 'ears', 'with', 'BRAVIA', 'XR™']\n",
      "\n",
      "['0814995b-8b6c-4404-a167-8d1297f60047', 'name', 'MDR-EX110AP', 'Wired', 'In-ear', 'Headphones', 'with', 'Microphone', '|', 'Black', 'link', 'https', '//electronics.sony.com/audio/headphones/c/all-headphones/audio/headphones/in-ear/p/mdrex110ap-b', 'price', '$', '19.99', 'specification', 'Cord', 'Length', '3.94', 'ft', 'Cord', 'type', 'Y-shape', 'Driver', 'Unit', '0.35', 'in', 'dynamic', 'Frequency', 'Response', '5-24', '000\\\\xa0Hz', 'Headphone', 'Type', 'Closed', 'dynamic', 'microphone', 'Impedance', 'Ohm', '16', 'ohm', '1', 'kHz', 'Magnet', 'Neodymium', 'Plug', 'Gold-plated', 'L-shaped', 'four-conductor', 'stereo', 'mini', 'Sensitivities', 'dB/mW', '103', 'dB', '/', 'mW', 'Wearing', 'Style', 'Closed', 'earbuds', 'Weight', '3g', 'features', 'Smartphone', 'playback', 'control1', 'Upgraded', 'sound', 'quality']\n",
      "\n",
      "['e72b080e-422a-48d8-a1bd-5b6a338b66f4', 'name', 'MDR-ZX110AP', 'Wired', 'On-Ear', 'Headphones', 'with', 'Microphone', '|', 'Black', 'link', 'https', '//electronics.sony.com/audio/headphones/c/all-headphones/audio/headphones/headband/p/mdrzx110ap-b', 'price', '$', '19.99', 'specification', 'Closed', 'Type', 'Yes', 'Cord', 'Length', '3.94', 'ft', 'Cord', 'type', 'Y-Shape', 'Diaphragm', 'PET', 'Driver', 'Unit', '1.18\\\\xa0in', 'dynamic', '–', 'Dome', 'type', 'Dynamic', 'Type', 'Yes', 'Frequency', 'Response', '12–22', '000Hz', 'Impedance', 'Ohm', '24', 'ohm', '1KHz', 'Plug', 'Gold-plated', 'L-shaped', 'stereo', 'mini', 'Sensitivities', 'dB/mW', '98', 'dB/mW', 'Wearing', 'Style', 'Over-ear\\\\nHeadband', 'Direction', 'of', 'In-Line', 'Microphone', 'Omni', 'Direction', 'Unit', 'of', 'Microphone', 'Electret', 'Condenser', 'Microphone', 'Weight', '4.23', 'oz', 'features', 'Neodymium', 'dynamic', 'drivers', 'deliver', 'precise', 'sound', 'Swivel', 'folding', 'design', 'makes', 'travel', 'easy']\n",
      "\n",
      "['33b4d175-f60a-49ab-80bc-9084d368e225', 'name', 'INZONE', 'H5', 'Wired', 'and', 'Wireless', 'Gaming', 'Headset', '|\\\\xa0White', 'link', 'https', '//electronics.sony.com/audio/headphones/c/all-headphones/audio/gaming-audio/all-inzone-headsets/p/whg500-w', 'price', '$', '129.99', 'specification', 'Headphone', 'Type', 'Closed', 'dynamic', 'Driver', 'Unit', '40mm', 'Wearing', 'Style', 'Circum', 'Aural', 'Sensitivity', '89dB', 'Frequency', 'Response', '5Hz-20', '000Hz', 'IEC', 'Impedance', '21ohm', '1kHz', 'Cable', 'Length', 'm', 'Approx', '.', '1.5m', 'Cable', 'Type', 'Gold-plated', 'L-shaped', '4-pole', 'mini', 'plug', 'Plug', 'Single-sided', 'detachable', 'Detachable', 'Yes', 'Weights', 'Approx', '.', '*', 'excl.cable', 'erights', 'Approx', '.', '260g', 'MICROPHONE', 'MUTE', 'Flip', 'up', 'Battery', 'Charge', 'Method', 'DC3.85V', 'Built-in', 'litium-ion', 'rechargeable', 'battery', 'Volume', 'Control', 'Yes', 'Battery', 'Charge', 'Time', 'Approx', '.', '3.5', 'hours', 'Battery', 'Life', 'Max', '.', '28', 'hours', 'Passive', 'Operation', 'Yes', 'USB', 'Cable', 'Yes', 'Reference', 'Guide', 'Yes', 'USB', 'transceiver', 'Yes', 'Color1', 'White', '/', 'Black', 'Country', 'of', 'Origin', 'Vietnam', 'Serial', 'Nr', 'Yes', 'Master', 'Carton', 'Qty', '4', 'Master', 'Carton', 'Length', 'cm', '38.0', 'Master', 'Carton', 'Width', 'cm', '25.5', 'Master', 'Carton', 'Weight', 'kg', '3.64', 'Individual', 'Package', 'Dimension', 'Length', 'cm', '24.0', 'Individual', 'Package', 'Dimension', 'Width', 'cm', '9.0', 'Individual', 'Package', 'Dimension', 'Height', 'cm', '24.8', 'Individual', 'Package', 'Weight', 'kg', '0.75', 'Master', 'Carton', 'Height', 'cm', '28.0', 'Battery1', 'Battery', 'Cell', 'Type', 'Square', 'Battery1', 'Chemical', 'Composition', 'Li-ion', 'Battery1', 'Number', 'of', 'Batteries', 'X', '1', 'Battery1', 'Battery', 'Weight', 'g', 'XX.Xg', 'Approx', '.', '9.5g', 'Battery1', 'Number', 'of', 'Lithium', 'Ion', 'Cells', 'X', '1', 'Battery1', 'How', 'is', 'the', 'lithium', 'battery', 'packaged', 'Laminate', 'Battery1', 'Energy', 'Content', 'Wh', 'X.XXXWh', '2.00', 'Wh', 'Battery1', 'Battery', 'Voltage', 'V', 'X.XV', '3.85', 'V', 'Battery1', 'Discharge', 'Capacity', 'mAh', 'X.XXXmAh', '520', 'mAh', '360', 'SPATIAL', 'SOUND', 'FOR', 'GAMING', 'Yes', 'series', 'INZONE', 'type', 'Gaming', 'features']\n",
      "\n",
      "['3e392426-783e-4abc-be0a-f1868a4fd686', 'name', 'Starting', '$', '17/mo', 'link', 'https', '//electronics.sony.com/audio/headphones/c/all-headphones/audio/gaming-audio/inzone-headsets/p/whg900n-w', 'price', '$', '199.99', 'specification', 'Headphone', 'Type', 'Closed', 'dynamic', 'Driver', 'Unit', '40mm', 'dome', 'type', 'EDCCA', 'Voice', 'coil', 'Magnet', 'Neodymium', 'Wearing', 'Style', 'Circum', 'Aural', 'Sensitivity', '-', 'Frequency', 'Response', '5Hz-20', '000Hz', 'JEITA', 'Impedance', '-', 'CableLength', 'm', '-', 'Cable', 'Type', '-', 'Plug', '-', 'Weights', 'Approx', '.', '*', 'excl.cable', 'erights', 'Approx', '.', '330g', 'Waterproof', '-', 'Diaphragm', 'PET', 'Film', 'Wireless', 'Connection', 'method', '2.4GHz', 'Unit', 'of', 'Microphone', 'ECM', 'Direction', 'of', 'Microphone', 'Bi', 'directional', 'Effective', 'Frequency', 'of', 'Microphone', '100Hz-8', '000Hz', 'Bluetooth®', 'Technology', 'Version5.0', 'Power', 'Output', 'class1', 'NFC', '-', 'Effective', 'Range', 'Line', 'of', 'sight', 'approx.30ft', '10m', 'FREQUENCY', 'RANGE', '2.4GHz', 'band', '2.4000GHz-2.4835GHz', 'Interface', 'A2DP', 'AVRCP', 'HFP', 'HSP', 'Supported', 'Audio', 'Format', 's', 'SBC', 'AAC', 'Noise', 'Canceling', 'ON/OFF', 'Switch', 'Yes', 'Ambient', 'Sound', 'Mode', '-', 'Normal', 'Yes', 'USB', 'Cable', 'Yes', 'Warranty', 'card', 'Yes', 'USB', 'transceiver', 'Yes', 'Reference', 'Guide', 'Yes', 'Color1', 'White', 'Country', 'of', 'Origin', 'Vietnam', 'Serial', 'Nr', 'Yes', 'Individual', 'Package', 'Dimension', 'Length', 'cm', '27.5', 'Individual', 'Package', 'Dimension', 'Width', 'cm', '10.8', 'Individual', 'Package', 'Dimension', 'Height', 'cm', '27.5', 'Sub', 'Master', 'Carton', 'Qty', '-', 'Sub', 'Master', 'Carton', 'Length', 'cm', '-', 'Sub', 'Master', 'Carton', 'Width', 'cm', '-', 'Sub', 'Master', 'Carton', 'Height', 'cm', '-', 'Master', 'Carton', 'Qty', '4', 'Master', 'Carton', 'Length', 'cm', '44.9', 'Master', 'Carton', 'Width', 'cm', '29.0', 'Master', 'Carton', 'Height', 'cm', '30.8', 'Individual', 'Package', 'Weight', 'kg', '0.98', 'Master', 'Carton', 'Weight', 'kg', '4.7', 'Sub', 'Master', 'Carton', 'Weight', 'kg', '-', 'series', 'INZONE', 'type', 'Headband', 'Gaming', 'Lithium', 'Battery', 'Yes', 'features', 'Detect', '.', 'React', '.', 'Victory', '.', 'Supercharged', 'hearing', 'a', 'gamechanger']\n",
      "\n",
      "['bdf4b2ca-1717-49da-bf22-8f4b08aef0d9', 'name', 'WH-CH520', 'Wireless', 'Headphones', 'with', 'Microphone', '|', 'Black', 'link', 'https', '//electronics.sony.com/audio/headphones/c/all-headphones/audio/headphones/headband/p/whch520-b', 'price', '$', '59.99', 'specification', 'Headphone', 'Type', 'Closed', 'Driver', 'Unit', '30mm', 'Wearing', 'Style', 'On', 'Ear', 'DSEE', 'Yes', 'Frequency', 'Response', 'Bluetooth®', 'Communication', 'Frequency', 'Range', 'A2DP', 'Yes', 'General', 'Features', 'Active', 'Headphones', 'Volume', 'Control', 'Yes', 'Weight', 'Approx', '.', '147g', 'Battery', 'Charge', 'Method', 'USB', 'BATTERY', 'LIFE', 'CONTINUOUS', 'COMMUNICATION', 'TIME', 'Max', '.', '40', 'hours', 'General', 'Features', 'Active', 'Headphones', 'Max', '.', '50', 'hours', 'Lithium', 'Battery', 'Yes', 'Bluetooth®', 'version', 'BLUETOOTH', 'Specification', 'Version', '5.2', 'Effective', 'Range', '10m', 'FREQUENCY', 'RANGE', '2.4', 'GHz', 'band', '2.400', '0', 'GHz', '-', '2.483', '5', 'GHz', 'Profile', 'A2DP', 'AVRCP', 'HFP', 'HSP', 'Supported', 'Audio', 'Format', 's', 'SBC', 'AAC', 'Supported', 'Content', 'Protection', 'SCMS-T', 'SUPPLIED', 'ACCESSORIES', 'USB', 'Cable', 'features']\n",
      "\n",
      "['ca98f767-4c31-4f30-be15-162ef8e67c9c', 'name', 'MDR-Z7M2', 'Premium', 'Hi-Res', 'Headphones', 'link', 'https', '//electronics.sony.com/audio/headphones/c/all-headphones/audio/headphones/headband/p/mdrz7m2', 'price', '$', '899.99', 'specification', 'Cord', 'Length', 'Headphone', 'cable', 'Approx', '.', '9.84', 'ft', '3', 'm', 'silver-coated', 'OFC', 'strands', 'Gold-plated', 'stereo', 'mini', 'plug', 'Balanced-connection', 'Headphone', 'cable', 'Approx', '.', '3.94', 'ft', '1.2', 'm', 'silver-coated', 'OFC', 'strands', 'L-shaped', 'gold-plated', 'balanced', 'standard', 'plug', 'Cord', 'type', 'Detachable', 'Y-type', 'Diaphragm', 'Aluminum-coated', 'LCP', 'diaphragm', 'Driver', 'Unit', '2.76', 'dome', 'type', 'CCAW', 'Voice', 'Coil', 'Frequency', 'Response', '4', 'Hz–100', '000', 'Hz', 'Headphone', 'Type', 'Closed', 'dynamic', 'circumaural', 'Impedance', 'Ohm', '56', 'ohms', 'at', '1', 'kHz', 'Magnet', 'Neodymium', 'Plug', 'Headphone', 'cable', 'Gold-plated', 'stereo', 'mini', 'plug', 'Balanced-connection', 'headphone', 'cable', 'L-shaped', 'gold-plated', 'balanced', 'standard', 'plug', 'Sensitivities', 'dB/mW', '98', 'dB/mW', 'Wearing', 'Style', 'Circumaural', 'Weight', '12.0', 'oz', 'features', 'Enjoy', 'premium', 'sound', 'with', 'High-Resolution', 'Audio', '2.76', 'HD', 'driver', 'units', 'deliver', 'high-quality', 'sound']\n",
      "\n",
      "['a975bd25-d200-4a48-b9b4-bc91cb08e9a4', 'name', 'MDR-ZX110NC', 'Noise', 'Canceling', 'On-ear', 'Headphones', '|', 'Black', 'link', 'https', '//electronics.sony.com/audio/headphones/c/all-headphones/audio/headphones/headband/p/mdrzx110nc', 'price', '$', '49.99', 'specification', 'Cord', 'Length', '3.94', 'ft', 'Diaphragm', 'PET', 'Driver', 'Unit', '1.18\\\\xa0in', 'dynamic', '–', 'Dome', 'type', 'Frequency', 'Response', '10–22', '000', 'Hz', 'Impedance', 'Ohm', 'Power', 'ON', '220', 'ohm', 'OFF', '45', 'ohm', 'at', '1\\\\xa0kHz', 'Magnet', 'Neodymium', 'Plug', 'L-shaped', 'gold-plated', 'stereo', 'mini', 'Sensitivities', 'dB/mW', '115', 'dB/mW', '–', 'Power', 'on\\\\n110', 'dB/mW', '–', 'Power', 'off', 'Wearing', 'Style', 'On-ear\\\\nHeadband', 'Weight', '5.29\\\\xa0oz', 'including', 'battery', 'and', 'excluding', 'cable', 'features', 'Noise-free', 'audio', 'experience', 'Enjoy', 'rich', 'full', 'frequency', 'response']\n",
      "\n",
      "['a52be876-6bee-4bc8-b7b9-83041e88491e', 'name', 'MDR-ZX110', 'Wired', 'On-Ear', 'Headphones', '|', 'Black', 'link', 'https', '//electronics.sony.com/audio/headphones/c/all-headphones/audio/headphones/headband/p/mdrzx110-blk', 'price', '$', '9.99', 'specification', 'Closed', 'Type', 'Yes', 'Cord', 'Length', '3.94', 'ft', 'Cord', 'type', 'Y-Shape', 'Driver', 'Unit', '1.18\\\\xa0in', 'dynamic', '–', 'Dome', 'type', 'Dynamic', 'Type', 'Yes', 'Frequency', 'Response', '12–22', '000Hz', 'Impedance', 'Ohm', '24', 'ohm', '1KHz', 'Plug', 'L-shaped', 'stereo', 'mini', 'Sensitivities', 'dB/mW', '98', 'dB/mW', 'Wearing', 'Style', 'Over-ear\\\\nHeadband', 'Weight', '4.23', 'oz', 'features', 'Neodymium', 'dynamic', 'drivers', 'deliver', 'precise', 'sound', 'Swivel', 'folding', 'design', 'makes', 'travel', 'easy']\n",
      "\n",
      "['d9213e93-a383-413c-8712-96cd4906d1a9', 'name', 'MDR-Z1R', 'Signature', 'Series', 'Premium', 'Hi-Res', 'Headphones', 'link', 'https', '//electronics.sony.com/audio/headphones/c/all-headphones/audio/headphones/headband/p/mdrz1r', 'price', '$', '1', '799.99', 'specification', 'Charge', 'Time', 'N/A', 'Cord', 'Length', 'Headphone', 'cable', 'approx', '.', '9.84', 'ft', '3', 'm', 'silver-coated', 'OFC', 'strands', 'gold-plated', 'stereo', 'mini', 'plug', 'balanced', 'connection', 'headphone', 'cable', 'approx', '.', '3.94', 'ft', '1.2', 'm', 'silver-coated', 'OFC', 'strands', 'L-shaped', 'gold-plated', 'balanced', 'standard', 'plug', 'Cord', 'type', 'Detachable', 'Y-type', 'Driver', 'Unit', '2.76', 'dome', 'type', 'CCAW', 'Voice', 'Coil', 'Dynamic', 'Type', 'Closed', 'dynamic', 'circumaural', 'Frequency', 'Response', '4', 'Hz–120', '000', 'Hz', 'Impedance', 'Ohm', '64', 'Ω', 'at', '1', 'kHz', 'Magnet', 'Neodymium', 'Plug', 'Headphone', 'cable', 'Gold-plated', 'stereo', 'mini', 'plug', 'Balanced-connection', 'headphone', 'cable', 'L-shaped', 'gold-plated', 'balanced', 'standard', 'plug', 'Sensitivities', 'dB/mW', '100', 'dB/mW', 'Usage', 'Time', 'N/A', 'Volume', 'Control', 'N/A', 'Wearing', 'Style', 'Circumaural', 'Weight', 'Approx', '.', '14', 'oz', '385', 'g', 'without', 'cable', 'features', 'Every', 'note', 'every', 'nuance', '.', 'Pure', 'sound', 'no', 'added', 'noise']\n",
      "\n",
      "['b34e2688-cd49-4cf8-94bc-9e3a80a07d7f', 'name', 'LinkBuds', 'Fit', 'Truly', 'Wireless', 'Noise', 'Canceling', 'Earbuds', '|', 'Black', 'link', 'https', '//electronics.sony.com/audio/headphones/c/all-headphones/audio/headphones/all-headphones/p/wfls910n-b', 'price', '$', '199.99', 'specification', 'Headphone', 'Type', 'Closed', 'Driver', 'Unit', '8.4', 'mm', 'Wearing', 'Style', 'Yes', 'IPX4', 'Frequency', 'Response', 'Bluetooth®', 'Communication', '20', 'Hz', '-', '20', '000', 'Hz', '44.1', 'kHz', 'sampling', '20', 'Hz', '-', '40', '000', 'Hz', 'LDAC', '96', 'kHz', 'sampling', '990', 'kbps', 'Ambient', 'Sound', 'Mode', 'Yes', 'General', 'Features', 'Active', 'Headphones', 'Yes', 'Weight', 'Approx', '.', '4.9', 'g', 'x', '2', 'including', 'earbud', 'tips', 'M', 'Weight', 'Approx', '.', '41', 'g', 'Dimension', 'Approx', '.', '47.2', 'x', '47.2', 'x', '32.6', 'mm', 'Battery', 'Charge', 'Method', 'USB', 'charge', 'with', 'case', 'BATTERY', 'LIFE', 'CONTINUOUS', 'COMMUNICATION', 'TIME', 'Max', '.', '4', 'hrs', 'NC', 'ON', '/', 'Max', '.', '4', 'hrs', 'NC', 'OFF', 'Battery', 'Life', 'Waiting', 'Time', 'Max', '.', '6.5', 'hrs', 'NC', 'ON', '/', 'Max', '.', '14', 'hrs', 'NC', 'OFF', 'General', 'Features', 'Active', 'Headphones', 'Max', '.', '5.5', 'hrs', 'NC', 'ON', '/', 'Max', '.', '8', 'hrs', 'NC', 'OFF', 'Bluetooth®', 'version', 'BLUETOOTH', 'Specification', 'Version', '5.3', 'Effective', 'Range', '10m', 'FREQUENCY', 'RANGE', '2.4', 'GHz', 'band', '2.400', '0', 'GHz', '-', '2.483', '5', 'GHz', 'Profile', 'A2DP', 'AVRCP', 'HFP', 'HSP', 'TMAP', 'CSIP', 'MCP', 'VCP', 'CCP', 'Supported', 'Audio', 'Format', 's', 'SBC', 'AAC', 'LDAC', 'LC3', 'Supported', 'Content', 'Protection', 'SCMS-T', 'Personal', 'NC', 'Optimizer', 'Yes', 'Ambient', 'Sound', 'Mode', 'Yes', 'SUPPLIED', 'ACCESSORIES', 'Earbuds', 'Charging', 'Case', 'USB', 'Cable', 'Air', 'Fitting', 'Supporters', 'Pair', '4', 'Different', 'Sized', 'Earbud', 'Tips', 'features', 'Always', 'On', 'Keep', 'every', 'world', 'on']\n",
      "\n",
      "['50e5fdb3-39ba-4fc8-9104-acd911879a03', 'name', 'LinkBuds', 'Truly', 'Wireless', 'Earbuds', '|', 'Gray', 'link', 'https', '//electronics.sony.com/audio/headphones/c/all-headphones/audio/headphones/truly-wireless-earbuds/p/wfl900-h', 'price', '$', '129.99', 'specification', 'BATTERY', 'LIFE', 'CONTINUOUS', 'COMMUNICATION', 'TIME', 'Max', '.', '2.5', 'hrs', 'Battery', 'Charge', 'Method', 'USB', 'Charging', 'with', 'Case', 'Battery', 'Life', 'Waiting', 'Time', 'Max', '.', '10', 'hrs', 'Battery', 'Life', 'continuous', 'music', 'playback', 'time', 'Buds+Case', 'Max', '.', '17.5hrs', '5.5hrs+12hrs', 'Bluetooth®', 'version', 'Bluetooth', 'Specification', 'Version', '5.2', 'Effective', 'Range', '32.81', 'ft', 'FREQUENCY', 'RANGE', '2.4\\\\xa0GHz', 'band', '2.4000\\\\xa0GHz–2.4835\\\\xa0GHz', 'Profile', 'A2DP', 'AVRCP', 'HFP', 'HSP', 'Supported', 'Audio', 'Format', 's', 'SBC', 'AAC', 'Supported', 'Content', 'Protection', 'SCMS-T', 'Dimension', 'Approx', '.', '1.63', 'x', '1.91', 'x', '1.22', '41.4', 'x', '48.5', 'x', '30.9\\\\xa0mm', 'Weight', 'Approx', '.', '1.2\\\\xa0oz', '34', 'g', 'DSEE', 'Yes', 'Frequency', 'Response', 'Bluetooth®', 'Communication', '20\\\\xa0Hz–20', '000\\\\xa0Hz', '44.1\\\\xa0kHz', 'sampling', 'Headphone', 'Type', 'Open', 'Dynamic', 'Magnet', 'High-power', 'neodymium', 'magnets', 'Waterproof', 'Yes', 'IPX4', 'Weight', 'Approx', '.', '0.14\\\\xa0oz', '4.1', 'g', 'x2', 'Adaptive', 'Control', 'Yes', 'Speak', 'to', 'Chat', 'Yes', 'Quick', 'Access', 'Spotify', 'Yes', '360', 'Reality', 'Audio', 'Yes', 'Wide', 'Area', 'Tap', 'Yes', 'Wearing', 'Detection', 'Yes', 'Google', 'Assistant', 'Yes', 'Siri', 'and', 'Amazon', 'Alexa', 'Yes', 'features', 'Quick', 'Access', 'A', 'new', 'sound', 'experience', 'for', 'AR', 'gaming']\n",
      "\n",
      "['9778ac96-65ce-40a9-9042-c9c23e689280', 'name', 'WF-1000XM5', 'The', 'Best', 'Truly', 'Wireless', 'Noise', 'Canceling', 'Earbuds', '|', 'Black', 'link', 'https', '//electronics.sony.com/audio/headphones/c/all-headphones/audio/headphones/truly-wireless-earbuds/p/wf1000xm5-b', 'price', '$', '249.99', 'specification', 'BATTERY', 'LIFE', 'CONTINUOUS', 'COMMUNICATION', 'TIME', 'Max', '.', '6', 'hrs', 'NC', 'ON', '|', 'Max', '.', '7', 'hrs', 'NC', 'OFF', 'Battery', 'Charge', 'Method', 'USB', 'charger', '|', 'Wireless', 'charger', 'with', 'case', 'General', 'Features', 'Active', 'Headphones', 'Max', '.', '8', 'hrs', 'NC', 'ON', '|', 'Max', '.', '12', 'hrs', 'NC', 'OFF', 'Bluetooth®', 'version', 'Bluetooth', 'Specification', 'Version', '5.3', 'Effective', 'Range', '10', 'm', 'FREQUENCY', 'RANGE', '2.4', 'GHz', 'band', '2.4000', 'GHz', '-', '2.4835', 'GHz', 'Profile', 'A2DP', 'AVRCP', 'HFP', 'HSP', 'TMAP', 'CSIP', 'MCP', 'VCP', 'CCP', 'Supported', 'Audio', 'Format', 's', 'SBC', 'AAC', 'LDAC', 'LC3', 'Supported', 'Content', 'Protection', 'SCMS-T', 'Dimension', 'Approx', '.', '64.6', 'x', '40.0', 'x', '26.5', 'mm', 'Weight', 'Approx', '.', '39', 'g', 'Driver', 'Unit', '8.4', 'mm', 'Frequency', 'Response', 'Bluetooth®', 'Communication', '20–20', '000', 'Hz', '44.1', 'kHz', 'sampling', '|', '20–40', '000', 'Hz', 'LDAC', '96', 'kHz', 'sampling', '990', 'kbps', 'Headphone', 'Type', 'Closed', 'dynamic', 'Wearing', 'Style', 'Yes', 'IPX4', 'equivalent', 'Ambient', 'Sound', 'Mode', 'Yes', 'General', 'Features', 'Active', 'Headphones', 'Yes', 'Ambient', 'Sound', 'Mode', 'Yes', 'Quick', 'Attention', 'Yes', 'Weight', 'Approx', '.', '5.9', 'g', 'x', '2', 'including', 'earbud', 'tips', 'M', 'features', 'AT', 'A', 'GLANCE', 'Small', 'and', 'beautifully', 'designed']\n",
      "\n",
      "['b9bca399-60e8-471b-bc8a-53fdccbcd3ce', 'name', 'Starting', '$', '15/mo', 'link', 'https', '//electronics.sony.com/audio/headphones/c/all-headphones/audio/gaming-audio/inzone-headsets/p/mdrg300-w', 'price', '$', '59.99', 'specification', 'Headphone', 'Type', 'Open-air', 'dynamic', 'Driver', 'Unit', '40mm', 'dome', 'type', 'CCAW', 'Voice', 'coil', 'Magnet', 'Neodymium', 'Wearing', 'Style', 'Circum', 'Aural', 'Sensitivity', '92', 'dB/mW', 'Frequency', 'Response', '10', 'Hz', '-', '20', '000', 'Hz', 'JEITA', 'Impedance', '35ohm', '1kHz', 'CableLength', 'm', '1.2m', 'gold-plated', '4', 'pole', 'mini', 'plug', 'Cable', 'Type', 'Sngle-sided', 'Plug', 'Gold-plated', '4', 'pole', 'mini', 'plug', 'Weights', 'Approx', '.', '*', 'excl.cable', 'erights', 'Approx', '299g', 'without', 'cable', 'Waterproof', '-', 'Diaphragm', '-', 'Power', 'Handling', 'Capacity', '1500mW', 'IEC', 'Unit', 'of', 'Microphone', 'ECM', 'Direction', 'of', 'Microphone', 'Uni-directional', 'Effective', 'Frequency', 'of', 'Microphone', '100Hz-8', '000Hz', 'Volume', 'Control', 'Yes', 'Battery', 'Charge', 'Method', '-', 'Battery', 'Life', 'continuous', 'music', 'playback', 'time', '-', 'Battery', 'Life', 'continuous', 'communication', 'time', '-', 'Battery', 'Life', 'Waiting', 'Time', '-', 'Frequency', 'Response', '-', 'Passive', 'Operation', '-', 'DSEE', '-', 'DSEE', 'HX', '-', 'S-Master', 'HX', '-', 'Main', 'unit', 'operation', '-', 'Ambient', 'sound', 'mode', '-', 'Warranty', 'card', 'Yes', 'USB', 'audio', 'box', 'Yes', 'Reference', 'Guide', 'Yes', 'Color1', 'White', 'Country', 'of', 'Origin', 'Vietnam', 'Serial', 'Nr', 'Yes', 'Individual', 'Package', 'Dimension', 'Length', 'cm', '26.2', 'Individual', 'Package', 'Dimension', 'Width', 'cm', '7.65', 'Individual', 'Package', 'Dimension', 'Height', 'cm', '23.25', 'Sub', 'Master', 'Carton', 'Qty', '-', 'Sub', 'Master', 'Carton', 'Length', 'cm', '-', 'Sub', 'Master', 'Carton', 'Width', 'cm', '-', 'Sub', 'Master', 'Carton', 'Height', 'cm', '-', 'Master', 'Carton', 'Qty', '4', 'Master', 'Carton', 'Length', 'cm', '32.4', 'Master', 'Carton', 'Width', 'cm', '27.8', 'Master', 'Carton', 'Height', 'cm', '26.2', 'Individual', 'Package', 'Weight', 'kg', '0.677', 'Master', 'Carton', 'Weight', 'kg', '3.23', 'Sub', 'Master', 'Carton', 'Weight', 'kg', '-', 'series', 'INZONE', 'type', 'Headband', 'Gaming', 'features', 'Be', 'the', 'first', 'to', 'react', 'with', 'precise', 'target', 'detection', 'Discover', '360', 'Spatial', 'Sound', 'for', 'gaming']\n",
      "\n",
      "['dae78cf9-d9e9-4556-87fc-5d5e6bf54ebe', 'name', 'MDR-EX155AP', 'Wired', 'In-ear', 'Headphones', 'with', 'Microphone', '|', 'Black', 'link', 'https', '//electronics.sony.com/audio/headphones/c/all-headphones/audio/headphones/in-ear/p/mdrex155ap-b', 'price', '$', '29.99', 'specification', 'Headphone', 'Type', 'Closed', 'Dynamic', 'Driver', 'Unit', '9', 'mm', 'dome', 'type', 'CCAW', 'Voice', 'Coil', 'Magnet', 'Neodymium', 'Impedance', 'Ohm', '16', 'ohm', '1kHz', 'Frequency', 'Response', '5Hz-24', '000Hz', 'Sensitivities', 'dB/mW', '103dB', '/', 'mW', 'Cord', 'Length', 'Approx', '.', '1.2', 'm', 'Litz', 'cable', 'Y-type', 'Plug', 'L-shaped', 'gold-plated', '4-pole', 'mini', 'plug', 'Wearing', 'Style', 'In-ear', 'Weight', 'Approx', '.', '3g', 'Color', 'Options', 'Black', 'White', 'In', 'the', 'Box', 'Hybrid', 'earpiece', 'SS/S/M/L', 'Cable', 'adjuster\\\\nPlaceholder', 'features']\n",
      "\n",
      "Headphones :  2442\n",
      "['4eb61b0d-4615-46fb-8ead-3c9e4b097d81', 'name', 'BRAVIA', 'Theater', 'Quad', 'with', '16', 'total', 'speakers', 'Dolby', 'Atmos®/DTS', 'X®', 'link', 'https', '//electronics.sony.com/audio/soundbars/c/all-soundbars/audio/soundbars/all-soundbars/p/hta9m2', 'price', '$', '2', '499.99', 'specification', 'Color', 'Gray', 'Speaker', 'Structure', '4.0.4', 'ch', 'Full', 'Range', 'Number', 'of', 'speaker', '2', '\\\\nEnclosure', 'Type', 'Acoustic', 'suspension', '\\\\nUnit', 'size', 'mm', '60', 'mm', '\\\\nUnit', 'size', 'inch', '2', '3/8', 'in', 'Woofer', 'Enclosure', 'Type', 'Bass', 'reflex', '\\\\nUnit', 'size', 'mm', '85', 'mm', 'x', '85', 'mm', '\\\\nUnit', 'size', 'inch', '3', '3/8', 'in', 'x', '3', '3/8', 'in', '\\\\nX-Balanced', 'Speaker', 'Unit', 'Yes', 'Tweeter', 'Unit', 'size', 'mm', '19', 'mm', '\\\\nUnit', 'size', 'inch', '3/4', 'in', '\\\\nImpedance', '6', 'ohms', 'Upfiring', 'Speaker', 'Number', 'of', 'speaker', '2', '\\\\nUnit', 'size', 'mm', '36', 'mm', 'x', '79', 'mm', '\\\\nUnit', 'size', 'inch', '1', '7/16', 'in', 'x', '3', '1/8', 'in', '\\\\nX-Balanced', 'Speaker', 'Unit', 'Yes', 'Display', 'Display', 'Yes', '\\\\nDimmer', 'Yes', '\\\\nLED', 'indicator', 'Yes', '\\\\nLED', 'Indicator', 'OFF', 'Mode', 'Yes', 'Button', 'on', 'main', 'unit', 'Power', 'Yes', 'Button', 'on', 'Speaker', 'Unit', 'Front', 'Link', 'Yes', 'Button', 'on', 'Speaker', 'Unit', 'Rear', 'Link', 'Yes', 'HDMI', 'HDMI', 'control', 'Yes', '\\\\nBRAVIA', 'Sync', 'Yes', '\\\\nHDMI', 'CEC', 'Yes', '\\\\nHDMI', 'standby', 'through', 'Yes', 'Ethernet', 'Yes', 'Wi-fi', 'method', 'Yes', 'Wi-Fi', 'IEEE802.11', 'version', 'a/b/g/n/ac', 'Speaker', 'Terminal', 'S-Center', 'out', 'Yes', 'FREQUENCY', 'RANGE', '2.4000', '-', '2.4835', 'GHz', 'Supported', 'Content', 'Protection', 'Yes', 'Bluetooth®', 'communication', 'RX', '/', 'TX', '¹²', 'RX', 'A2DP', 'Yes', 'A2DP', 'version', '1.3.2', 'AVRCP', 'Yes', 'AVRCP', 'version', '1.5', 'Bluetooth®', 'low', 'energy', '¹²', 'Yes', 'Bluetooth®', 'version', '¹²', '5.2', 'Bluetooth®', 'Standby', '¹²', 'Yes', 'Bluetooth®', 'Technology', '¹²', 'FHSS', 'Power', 'Output', '2', 'dBm', 'Effective', 'Range', 'm', 'Line', 'of', 'sight', 'approx', '.', '30', 'm', 'Effective', 'Range', 'feet', 'Line', 'of', 'sight', 'approx', '.', '98.4', 'ft', 'Modulation', 'GFSK/π/4-DQPSK/8-DPSK', 'Interface', 'A2DP', '¹³', 'Yes', 'Interface', 'AVRCP', '¹³', 'Yes', 'Supported', 'Audio', 'Format', 's', 'SBC', '¹⁴', 'Yes', 'Supported', 'Audio', 'Format', 's', 'AAC', '¹⁴', 'Yes', 'Supported', 'Audio', 'Format', 's', 'LDAC', '¹⁴', 'Yes', 'Frequency', 'Range', 'A2DP', 'Yes', 'AAC', 'Yes', 'SBC', 'Yes', 'LDAC', 'Yes', 'Sound', 'Mode', 'Sound', 'Field', 'Yes', '\\\\nMuting', 'Yes', 'Sound', 'Effect', 'Night', 'Mode', 'Yes', '\\\\nVoice', 'Mode', 'Yes', 'Sound', 'Adjustment', 'Bass', 'level', 'Yes', '\\\\nAV', 'Sync', 'Yes', '\\\\nAdvanced', 'Auto', 'Volume', 'AAV', 'Yes', '\\\\nAudio', 'DRC', 'Yes', '\\\\nRear', 'level', 'Yes', 'Sound', 'Enhancement', 'DSEE', 'Ultimate', 'Yes', '\\\\nSound', 'optimizer', 'Yes', 'Surround', '360', 'Spatial', 'Sound', 'Mapping', 'Yes', '\\\\nDolby', 'Speaker', 'Virtual', 'Yes', '\\\\nDolby', 'Surround', 'Yes', '\\\\nNeural', 'X', 'Yes', 'ACOUSTIC', 'CENTER', 'SYNC', 'Yes', 'Quick', 'Setting', 'Menu', 'Yes', 'Spotify', 'Connect', 'Yes', 'AirPlay', '2', 'Yes', 'Control', 'Features', 'CIS', 'IP', 'Control', 'Yes', 'Built', 'in', 'Demo', 'Yes', 'USB', 'playback', 'demo', 'Yes', 'DEMO', 'mode', '1/2/3/4', 'Yes', 'via', 'Network', 'Yes', 'Front', 'Speaker', 'Left', 'WxHxD', 'mm', '289', 'mm', 'x', '275', 'mm', 'x', '55', 'mm', 'Front', 'Speaker', 'Left', 'WxHxD', 'inch', '11', '1/2', 'in', 'x', '10', '7/8', 'in', 'x', '2', '1/4', 'in', 'Front', 'Speaker', 'Right', 'WxHxD', 'mm', '289', 'mm', 'x', '275', 'mm', 'x', '55', 'mm', 'Front', 'Speaker', 'Right', 'WxHxD', 'inch', '11', '1/2', 'in', 'x', '10', '7/8', 'in', 'x', '2', '1/4', 'in', 'Rear', 'Speaker', 'Left', 'WxHxD', 'mm', '289', 'mm', 'x', '275', 'mm', 'x', '55', 'mm', 'Rear', 'Speaker', 'Left', 'WxHxD', 'inch', '11', '1/2', 'in', 'x', '10', '7/8', 'in', 'x', '2', '1/4', 'in', 'Rear', 'Speaker', 'Right', 'WxHxD', 'mm', '289', 'mm', 'x', '275', 'mm', 'x', '55', 'mm', 'Rear', 'Speaker', 'Right', 'WxHxD', 'inch', '11', '1/2', 'in', 'x', '10', '7/8', 'in', 'x', '2', '1/4', 'in', 'Speaker', 'with', 'supplied', 'table', 'stand', 'W', 'x', 'H', 'x', 'D', 'mm', '289', 'mm', 'x', '306', 'mm', 'x', '129', 'mm', 'Speaker', 'with', 'supplied', 'table', 'stand', 'W', 'x', 'H', 'x', 'D', 'inch', '11', '1/2', 'in', 'x', '12', '1/8', 'in', 'x', '5', '1/8', 'in', 'Speaker', 'with', 'supplied', 'wall', 'mounting', 'bracket', 'W', 'x', 'H', 'x', 'D', 'mm', '289', 'mm', 'x', '279', 'mm', 'x', '73', 'mm', 'Speaker', 'with', 'supplied', 'wall', 'mounting', 'bracket', 'W', 'x', 'H', 'x', 'D', 'inch', '11', '1/2', 'in', 'x', '11', 'in', 'x', '2', '7/8', 'in', 'Control', 'box', 'WxHxD', 'mm', '160', 'mm', 'x', '56', 'mm', 'x', '160', 'mm', 'Control', 'box', 'WxHxD', 'inch', '6', '3/8', 'in', 'x', '2', '1/4', 'in', 'x', '6', '3/8', 'in', 'carton', 'type', 'Box', 'Carton', 'WxHxD', 'mm', '891mm', 'x', '664', 'mm', 'x', '146', 'mm', 'Carton', 'WxHxD', 'inch', '35', '1/8', 'in', 'x', '26', '1/4', 'in', 'x', '5', '3/4', 'in', 'Power', 'Consumption', 'Power', 'consumption', 'Network', 'standby', 'mode', '*', 'approx', 'Control', 'Box', '2.8', 'W/Speaker', '1.1', 'W', '\\\\nPower', 'consumption', 'off', '*', 'approx', 'Speaker', '0.5', 'W', 'Power', 'Supply', 'Power', 'Requirement', '120', 'V', '\\\\nPower', 'frequency', '60', 'Hz', 'Power', 'Cable', 'Length', 'Control', 'box', 'mm', '1500', 'mm', '\\\\nControl', 'box', 'inch', '59', '1/8', 'in', '\\\\nFront', 'Speaker', 'mm', '3000', 'mm', '\\\\nFront', 'Speaker', 'inch', '118', '1/8', 'in', '\\\\nRear', 'Speker', 'mm', '3000', 'mm', '\\\\nRear', 'Speker', 'inch', '118', '1/8', 'in', 'Power', 'Setting', 'Auto', 'Standby', 'Yes', '\\\\nNetwork', '/', 'Bluetooth®', 'Standby', 'Mode¹⁶', 'Yes', '\\\\nAuto', 'Power', 'OFF', 'Yes', 'AUTO', 'HDR', 'TONE', 'MAPPING', 'compatible', 'Pass-through', '¹⁵', 'Yes', 'AUTO', 'GENRE', 'PICTURE', 'MODE', 'compatible', 'Pass-through', '¹⁵', 'Yes', 'Easy', 'Setup', 'Yes', 'Speaker', 'Grill', 'Front', 'Front', 'Speaker', 'Grill', 'type', 'Fixed', '\\\\nFront', 'Speaker', 'Grill', 'Material', 'Metal', 'punching', 'top', '/', 'Fabric', 'side', 'Speaker', 'Grill', 'Rear', 'Front', 'Speaker', 'Grill', 'type', 'Fixed', '\\\\nFront', 'Speaker', 'Grill', 'Material', 'Metal', 'punching', 'top', '/', 'Fabric', 'side', 'Front', 'Speaker', 'Left', 'kg', '2.4', 'kg', 'Front', 'Speaker', 'Left', 'oz', '5', 'lb', '5', 'oz', 'Front', 'Speaker', 'Right', 'kg', '2.4', 'kg', 'Front', 'Speaker', 'Right', 'oz', '5', 'lb', '5', 'oz', 'Rear', 'Speaker', 'Left', 'kg', '2.4', 'kg', 'Rear', 'Speaker', 'Left', 'oz', '5', 'lb', '5', 'oz', 'Rear', 'Speaker', 'Right', 'kg', '2.4', 'kg', 'Rear', 'Speaker', 'Right', 'oz', '5', 'lb', '5', 'oz', 'SPEAKER', 'with', 'supplied', 'table', 'stand', 'kg', '2.6', 'kg', 'Speaker', 'with', 'supplied', 'table', 'stand', 'oz', '5', 'lb', '12', 'oz', 'Speaker', 'with', 'wall', 'mounting', 'bracket', 'kg', '2.7', 'kg', 'Speaker', 'with', 'wall', 'mounting', 'bracket', 'oz', '5', 'lb', '16', 'oz', 'Control', 'box', 'kg', '770', 'g', 'Control', 'box', 'oz', '1', 'lb', '12', 'oz', 'Gross', 'weight', 'kg', '18.2', 'kg', 'Gross', 'weight', 'oz', '40', 'lb', '2', 'oz', 'Full', 'Range', 'Number', 'of', 'speaker', '2', '\\\\nEnclosure', 'Type', 'Acoustic', 'suspension', '\\\\nUnit', 'size', 'mm', '60', 'mm', '\\\\nUnit', 'size', 'inch', '2', '3/8', 'in', 'Woofer', 'Number', 'of', 'speaker', '2', '\\\\nEnclosure', 'Type', 'Bass', 'reflex', '\\\\nUnit', 'size', 'mm', '85', 'mm', 'x', '85', 'mm', '\\\\nUnit', 'size', 'inch', '3', '3/8', 'in', 'x', '3', '3/8', 'in', '\\\\nX-Balanced', 'Speaker', 'Unit', 'Yes', 'Tweeter', 'Number', 'of', 'speaker', '2', '\\\\nUnit', 'size', 'mm', '19', 'mm', '\\\\nUnit', 'size', 'inch', '3/4', 'in', 'Upfiring', 'Speaker', 'Number', 'of', 'speaker', '2', '\\\\nUnit', 'size', 'mm', '36', 'mm', 'x', '79', 'mm', '\\\\nUnit', 'size', 'inch', '1', '7/16', 'in', 'x', '3', '1/8', 'in', '\\\\nX-Balanced', 'Speaker', 'Unit', 'Yes', 'Amplifier', 'Type', 'Digital', 'Amplifier', 'Yes', '\\\\nS-Master', 'HX', 'Yes', 'Number', 'of', 'Channel', '16', 'ch', 'Sony', '|', 'Home', 'Entertainment', 'Connect', 'Sony', '|', 'Home', 'Entertainment', 'Connect', 'via', 'Wi-Fi', 'Yes', 'High', 'Resolution', 'Audio', 'Yes', '360', 'Reality', 'Audio', 'Yes', 'HDMI', 'input', 'DTS', '96/24', 'Yes', '\\\\nDTS', 'XYes', '\\\\nLPCM', 'Yes', '\\\\nLPCM', 'fs', '-192kHz/24bit', '\\\\nMPEG-H', '3D', 'Audio', 'BL', 'profile', 'Level3/Level4', 'Yes', '\\\\n360', 'Reality', 'Audio', 'Yes', 'HDMI', 'ARC', 'Dolby', 'Digital', 'Yes', '\\\\nDolby', 'Digital', 'Plus', 'Yes', '\\\\nDolby', 'Digital', 'Plus/Atmos', 'Yes', '\\\\nDolby', 'Dual', 'mono', 'Yes', '\\\\nDTS', 'Yes', '\\\\nDTS', '96/24', 'Yes', '\\\\nLPCM', '2', 'ch', 'Yes', '\\\\nLPCM', 'fs', '-48kHz/24bit', 'HDMI', 'eARC', 'DTS', '96/24', 'Yes', '\\\\nDTS', 'X', 'Yes', '\\\\nLPCM', 'Yes', '\\\\nLPCM', 'fs', '-192kHz/24bit', 'Remote', 'Commander', 'Model', 'Name', 'RMT-AH513U', '\\\\nBatteries', 'for', 'remote', 'commander', 'Yes', 'Cable', 'TV', 'center', 'speaker', 'mode', 'cable', 'Yes', '\\\\nHDMI', 'Cable', 'Yes', '\\\\nAC', 'Adaptor', 'Yes', 'Control', 'Box', '\\\\nAC', 'Cord', 'Yes', 'Front/Rear', 'Speaker', 'Quick', 'Setup', 'Guide', 'Chinese', 'Traditional', 'Thai', 'Greek', 'Czech', 'Hungarian', 'Bulgarian', 'Slovak', 'Arabic', 'Romanian', 'Instruction', 'Manual', '/', 'Reference', 'Guide', 'English', 'US', 'or', 'English', 'GB', 'Yes', '\\\\nFrench', 'or', 'French', 'CA', 'Yes', '\\\\nSpanish', 'or', 'Spanish', 'LA', 'Yes', 'Card', 'Warranty', 'Card', 'Yes', 'Others', 'Table', 'stand', 'Yes', '\\\\nWall', 'mounting', 'bracket', 'Yes', 'features', 'The', 'true', 'sound', 'of', 'cinema', 'Revolutionary', 'home', 'theater', 'surround', 'sound']\n",
      "\n",
      "['0d00e9cb-7d5a-488a-9fad-59a8d0ce8794', 'name', 'SA-RS3S', 'Wireless', 'Rear', 'Speakers', 'for', 'Bar', '9/Bar', '8/HT-A7000/HT-A5000/HT-A3000', 'link', 'https', '//electronics.sony.com/audio/soundbars/c/all-soundbars/audio/soundbars/all-soundbars/p/sars3s', 'price', '$', '349.99', 'specification', 'Amplifier', 'Type', 'Digital', 'Amplifier', 'S-Master', 'Amplifier', 'Channels', '2ch', 'L+R', 'Power', 'Consumption', '11W', 'Main', 'Unit', 'Size', '-', 'Body', 'Only', 'W', 'x', 'H', 'x', 'D', 'INCH', '3.9', '”', 'x', '7.3', '”', 'x', '3.9', '”', 'MAIN', 'UNIT', 'WEIGHT', '–', 'BODY', 'ONLY', 'OZ', '7', 'lbs', 'each', 'speaker', 'features', 'Boost', 'your', 'surround', 'sound', 'experience', 'Clear', 'expansive', 'sound']\n",
      "\n",
      "['983efcc3-0b96-4817-844a-244ac63506b7', 'name', 'HT-S100F', '2ch', 'Built-in', 'Tweeter', 'Soundbar', 'link', 'https', '//electronics.sony.com/audio/soundbars/c/all-soundbars/audio/soundbars/all-soundbars/p/hts100f', 'price', '$', '99.99', 'specification', 'Bluetooth®', 'Receiver', 'SBC', 'HDMI', 'input', 'Dolby®', 'Digital', 'Dolby®', 'Dual', 'mono', 'LPCM', '2ch', 'Optical', 'Input', 'Dolby®', 'Digital', 'Dolby®', 'Dual', 'mono', 'LPCM', '2ch', 'USB', 'WAV', 'MP3', 'WMA', 'Dolby', 'Atmos', '/', 'DTS', 'X', 'Yes', '360', 'Reality', 'Audio', 'No', 'Hi-Res', 'Audio', 'No', 'BRAVIA', 'Sync', 'Yes', 'HDMI', 'CEC', 'Yes', 'Number', 'of', 'Input/Output', '0/1', 'ARC', '4K/120', 'No', 'Input', 'and', 'Output', 'Terminals', 'HDMI™', 'ARC', 'Optical-audio', 'input', 'USB', 'type', 'A', 'Bluetooth®', 'RX', 'receiver', 'NFC', 'No', 'Wi-Fi®', 'Connectivity', 'No', 'Bluetooth®', 'version', 'version', '4.2', 'Sound', 'Effect', 'Night', 'Mode', 'Voice', 'Mode', 'Sound', 'Mode', 'Auto', 'Sound', 'Theater', 'Music', 'Standard', 'Virtual', 'Surround', 'Technology', 'S-Force', 'Sound', 'Field', 'Optimization', 'No', 'Speaker', 'Structure', '2.0ch', 'bar', 'speaker', '1', 'Wireless', 'Multi-room', 'No', 'Wireless', 'Surround', 'No', 'Wireless', 'Surround', 'with', 'optional', 'wireless', 'speakers', 'No', 'Amplifier', 'Type', 'S-Master™', 'Power', 'Consumption', '30', 'W', 'Power', 'consumption', 'on', 'Remote', 'Start', 'mode', '0.5', 'W', 'Bluetooth®', 'standby', 'off/Control', 'for', 'HDMI™', 'off', 'Wall-mountable', 'Yes', 'MAIN', 'UNIT', 'SIZE', '–', 'BODY', 'ONLY', 'W', 'X', 'H', 'X', 'D', '35-1/2', 'x', '2-1/2', 'x', '3-1/2', 'MAIN', 'UNIT', 'WEIGHT', '–', 'BODY', 'ONLY', '5.29\\\\xa0lb', 'features']\n",
      "\n",
      "['bfdb07b9-3117-4f7e-bd42-89af36d86753', 'name', 'HT-S40R', '5.1ch', 'Home', 'Cinema', 'Soundbar', 'System', 'link', 'https', '//electronics.sony.com/audio/soundbars/c/all-soundbars/audio/soundbars/all-soundbars/p/hts40r', 'price', '$', '299.99', 'specification', 'Bluetooth®', 'Receiver', 'SBC', 'HDMI', 'input', 'Dolby', 'Digital', 'LPCM', '2ch', 'Dolby', 'Dual', 'mono', 'Optical', 'Input', 'Dolby', 'Digital', 'LPCM', '2ch', 'USB', 'WAV', 'MP3', 'WMA', 'Dolby', 'Atmos', '/', 'DTS', 'X', 'No', '360', 'Reality', 'Audio', 'No', 'Hi-Res', 'Audio', 'No', 'HDMI', 'CEC', 'Yes', 'Number', 'of', 'Input/Output', 'Input/Output', '0/1', 'ARC', '4K/120', 'No', 'Input', 'and', 'Output', 'Terminals', 'Analog', 'audio', 'input', 'stereo', 'mini', 'USB', 'type', 'A', 'FAT32', '/', 'NTFS', 'Optical-audio', 'input', 'Wi-Fi®', 'Connectivity', 'No', 'Bluetooth®', 'version', 'version', '5.0', 'Sound', 'Effect', 'Night', 'Mode', 'Voice', 'Mode', 'Sound', 'Mode', 'Auto', 'Sound', 'Cinema', 'Music', 'Sound', 'Field', 'Optimization', 'No', 'Subwoofer', 'Type', 'Wired', 'Amplifier', 'Type', 'Digital', 'Amplifier', 'S-Master', 'Amplifier', 'Channels', '5.1ch', 'Power', 'Consumption', 'SW', '55\\\\xa0W', '/', 'SUR', '20\\\\xa0W', 'Power', 'consumption', 'on', 'Remote', 'Start', 'mode', 'SW', '2\\\\xa0W', '/', 'SUR', '0.5\\\\xa0W', 'Power', 'consumption', 'on', 'QuickStart', 'mode', 'SW', '0.5\\\\xa0W', '/', 'SUR', '0.5\\\\xa0W', 'MAIN', 'UNIT', 'SIZE', '–', 'BODY', 'ONLY', 'W', 'X', 'H', 'X', 'D', '35.5', 'x', '2.13', 'x', '3', 'MAIN', 'UNIT', 'WEIGHT', '–', 'BODY', 'ONLY', '4', 'lb', '7', 'oz', 'SUBWOOFER', 'WEIGHT', '17.20', 'lb', 'AMP', 'BOX', 'OZ', '1', 'lb', '13', 'oz', 'AMP', 'BOX', 'W', 'x', 'H', 'x', 'D', 'INCH', '6.38', 'x', '2.13', 'x', '6.38', 'Rear', 'speaker', 'size', 'W', 'X', 'H', 'X', 'D', 'MM', '3.38', 'x', '7.13', 'x', '3', 'features']\n",
      "\n",
      "['8036e937-4a58-490c-bbac-cc856ffc2ce8', 'name', 'SA-SW5', 'Wireless', 'Subwoofer', 'for', 'QUAD/Bar', '9/Bar', '8/HT-A9/HT-A7000/HT-A5000/HT-A3000/HT-S2000', 'link', 'https', '//electronics.sony.com/audio/soundbars/c/all-soundbars/audio/soundbars/all-soundbars/p/sasw5', 'price', '$', '499.99', 'specification', 'Subwoofer', 'Type', 'Wireless', 'Amplifier', 'Type', 'Digital', 'Amplifier', 'S-Master', 'Amplifier', 'Channels', '1ch', 'Power', 'Consumption', '43W', 'Subwoofer', 'Size', 'W', 'X', 'H', 'X', 'D', '277', 'X', '409', 'X', '422mm', 'Subwoofer', 'Weight', '13kg', 'features', 'Amplify', 'your', 'entertainment', 'with', 'powerful', 'booming', 'bass', 'Deep', 'explosive', 'bass']\n",
      "\n",
      "['836d9db6-b54d-48eb-be1d-37d3d28c4574', 'name', 'HT-A5000', '5.1.2ch', 'Dolby', 'Atmos®', 'Soundbar', 'link', 'https', '//electronics.sony.com/audio/soundbars/c/all-soundbars/audio/soundbars/all-soundbars/p/hta5000', 'price', '$', '749.99', 'specification', 'Input', 'and', 'Output', 'Terminals', 'Optical-audio', 'input', 'USB', 'typeA', 'File', 'System', 'exFAT/FAT12/16/32', 'vFAT', 'Wi-Fi®', 'Connectivity', 'Yes', 'Bluetooth', 'Yes', 'IEEE802.11', 'version', 'a/b/g/n/ac', 'HDCP2.2', 'Yes', 'Bluetooth', 'version', 'Version', '5.0', 'Number', 'of', 'Input/Output', '1/1', 'eARC/ARC', 'eARC', 'Yes', '4K/60p/YUV4', '4', '4', 'Yes', 'HDR', 'Yes', 'Dolby', 'Vision™', 'Compatible', 'Yes', 'HLG', 'hybrid', 'log', 'gamma', 'Yes', 'BRAVIA', 'Sync', 'Yes', 'HDMI', 'CEC', 'Yes', '4K/120', 'Yes', 'HDMI', 'input', 'Dolby', 'Digital', 'Dolby', 'Digital', 'plus', 'Dolby', 'TrueHD', 'Dolby', 'Atmos', 'Dolby', 'Dual', 'mono', 'DTS', 'DTS', 'HD', 'High', 'Resolution', 'Audio', 'DTS', 'HD', 'Master', 'Audio', 'DTS', 'ES', 'DTS', '96/24', 'DTS', 'X', 'LPCM', 'HDMI', 'eARC', 'Dolby', 'Digital', 'Dolby', 'Digital', 'plus', 'Dolby', 'TrueHD', 'Dolby', 'Atmos', 'Dolby', 'Dual', 'mono', 'DTS', 'DTS', 'HD', 'High', 'Resolution', 'Audio', 'DTS', 'HD', 'Master', 'Audio', 'DTS', 'ES', 'DTS', '96/24', 'DTS', 'X', 'LPCM', 'Optical', 'Input', 'Dolby', 'Digital', 'Dolby', 'Dual', 'mono', 'DTS', 'LPCM', '2ch', 'USB', 'DSD', '.dsf', '/', '.dff', 'Wav', 'Flac', 'ALAC', '.m4a', '.mov', 'AIFF', '.aiff', '.aif', 'HE', 'AAC', 'AAC', 'mp3', 'Monkey', 'Audio', 'WMA', 'Ogg', 'Vorbis', 'BLUETOOTH', 'RECEIVER', 'AAC', 'SBC', 'LDAC', 'BLUETOOTH', 'TRANSMITTER', 'SBC', 'LDAC', 'Dolby', 'Atmos', '/', 'DTS', 'X', 'Yes', '360', 'Reality', 'Audio', 'Yes', 'Hi-Res', 'Audio', 'Yes', 'Sound', 'Mode', 'Standard', 'Sound', 'Filed', 'Sound', 'Effect', 'Night', 'Mode', 'Voice', 'Mode', 'Virtual', 'Surround', 'Technology', 'S-Force', 'PRO', 'Vertical', 'Surround', 'Engine', 'Dolby', 'Speaker', 'Virtual', 'Dolby', 'Surround', 'Neural', 'X', 'Sound', 'Field', 'Optimization', 'Yes', 'Speaker', 'Structure', '5.1.2ch', 'Built-in-Subwoofer', 'Network', 'Function', 'Chromecast', 'built-in', 'Spotify', 'Connect', 'Music', 'Service', 'Button', 'Works', 'with', 'Google', 'Assistant', 'AirPlay2', 'Wireless', 'Surround', 'with', 'optional', 'wireless', 'speakers', 'Yes', 'TV', 'Wireless', 'connection', 'Yes', 'Features', 'for', 'PlayStation®5', 'AUTO', 'TONE', 'HDR', 'MAPPING', 'compatible', 'Pass-through', '*', '\\\\nAUTO', 'GENRE', 'PICTURE', 'MODE', 'compatible', 'Pass-through', '*', '\\\\n', '*', 'Requires', 'firmware', 'update', 'released', 'Spring', '2022', 'Whats', 'In', 'The', 'Box', 'Remote', 'Commander\\\\nHDMI', 'Cable\\\\nAudio', 'Cable', 'MINI', '↔MINI', '\\\\nAC', 'Cord', 'Subwoofer', 'Type', 'Built-in', 'Amplifier', 'Type', 'Digital', 'Amplifier', 'S-Master', 'HX', 'Amplifier', 'Channels', '9ch', 'Power', 'Consumption', '86W', 'POWER', 'CONSUMPTION', 'ON', 'QUICKSTART', 'MODE', 'Less', 'than', '0.5W', 'POWER', 'CONSUMPTION', 'ON', 'REMOTE', 'START', 'MODE', 'Less', 'than', '3W', 'Main', 'Unit', 'Size', '–', 'Body', 'Only', 'W', 'x', 'H', 'x', 'D', '1210', 'X', '67', 'X', '140mm', 'Main', 'Unit', 'Size', '-', 'Body', 'Only', 'W', 'x', 'H', 'x', 'D', 'INCH', '47', '3/4', 'inch', 'x', '2', '3/4', 'inch', 'x', '5', '5/8', 'inch', 'Main', 'Unit', 'Weight', '–', 'Body', 'Only', '6.1', 'kg', 'MAIN', 'UNIT', 'WEIGHT', '–', 'BODY', 'ONLY', 'OZ', '13', 'lb', '8', 'oz', 'features', 'Discover', 'the', 'next', 'level', 'of', 'immersion', '360', 'Spatial', 'Sound', 'that', 'adapts', 'to', 'your', 'environment12']\n",
      "\n",
      "['bfeabc1e-641e-48d9-bf63-c8a0b35cbd64', 'name', 'HT-S400', '2.1ch', 'Soundbar', 'with', 'Wireless', 'subwoofer', 'link', 'https', '//electronics.sony.com/audio/soundbars/c/all-soundbars/audio/soundbars/all-soundbars/p/hts400', 'price', '$', '259.99', 'specification', 'Bluetooth®', 'Receiver', 'SBC', 'HDMI', 'input', 'Dolby', 'Digital', 'Dolby', 'Dual', 'mono', 'LCPM', '2ch', 'Optical', 'Input', 'Dolby', 'Digital', 'Dolby', 'Dual', 'mono', 'LCPM', '2ch', 'Dolby', 'Atmos', '/', 'DTS', 'X', 'No', '360', 'Reality', 'Audio', 'No', 'Hi-Res', 'Audio', 'No', 'Number', 'of', 'Input/Output', '-', '/', '1', 'ARC', '4K/120', 'No', 'Input', 'and', 'Output', 'Terminals', 'Optical-audio', 'input', 'USB', 'type', 'A', 'only', 'for', 'update', 'Bluetooth®', 'RX', 'receiver', 'Wi-Fi®', 'Connectivity', 'No', 'Bluetooth®', 'version', '5.0', 'Sound', 'Effect', 'Night', 'Mode', 'Voice', 'Mode', 'Sound', 'Mode', 'Sound', 'Field', 'Virtual', 'Surround', 'Technology', 'S-Force', 'PRO', 'Sound', 'Field', 'Optimization', 'No', 'Speaker', 'Structure', '2.1ch', 'wireless', 'Subwoofer', 'TV', 'Wireless', 'connection', 'Yes', 'Subwoofer', 'Type', 'Wireless', 'Amplifier', 'Type', 'Digital', 'Amplifier', 'S-Master', 'Amplifier', 'Channels', '2.1\\\\xa0ch', 'Power', 'Consumption', 'BAR', '35\\\\xa0W', '/', 'SW', '20\\\\xa0W', 'Power', 'consumption', 'on', 'QuickStart', 'mode', 'BAR', '0.5\\\\xa0W', '/', 'SW', '0.5\\\\xa0W', 'MAIN', 'UNIT', 'SIZE', '–', 'BODY', 'ONLY', 'W', 'X', 'H', 'X', 'D', '35.5', 'x', '2.63', 'x', '3.5', 'MAIN', 'UNIT', 'WEIGHT', '–', 'BODY', 'ONLY', '5\\\\xa0lb', '5\\\\xa0oz', 'SUBWOOFER', 'SIZE', 'W', 'X', 'H', 'X', 'D', '7.63', 'x', '15.25', 'x', '15.75', 'SUBWOOFER', 'WEIGHT', '16\\\\xa0lb', '2\\\\xa0oz', 'features']\n",
      "\n",
      "['c66b053e-7cf1-4e11-8e12-8b274a6b551a', 'name', 'BRAVIA', 'Theater', 'Bar', '9', 'with', '13', 'speakers', 'Dolby', 'Atmos®/DTS', 'X®', 'link', 'https', '//electronics.sony.com/audio/soundbars/c/all-soundbars/audio/soundbars/all-soundbars/p/hta9000', 'price', '$', '1', '199.99', 'specification', 'AAC', 'Yes', 'SBC', 'Yes', 'LDAC', 'Yes', 'Color', 'Black', 'via', 'Network', 'Yes', 'Control', 'Features', 'CIS', 'IP', 'Control', 'Yes', 'Controller', 'Connectivity', 'Certification', 'Crestron/Control4/Savant', 'Yes', '\\\\nCertification', 'IHIJI', 'Yes', 'ACOUSTIC', 'CENTER', 'SYNC', 'Yes', 'VOICE', 'ZOOM', 'Yes', 'Quick', 'Setting', 'Menu', 'Yes', 'Display', 'LED', 'indicator', 'Yes', '\\\\nLED', 'Indicator', 'OFF', 'Mode', 'Yes', 'Button', 'on', 'main', 'unit', 'Power', 'Yes', 'HDMI', 'HLG', 'hybrid', 'log', 'gamma', 'Yes', '\\\\nHDCP2.2', 'Yes', '\\\\nHDCP2.3', 'Yes', '\\\\n18Gbps', 'Yes', '\\\\n40Gbps', 'Yes', '\\\\nx.v.Color', 'xvYCC', 'Yes', '\\\\nHDMI', 'control', 'Yes', '\\\\nScene', 'Select', 'Sync', 'Yes', '\\\\nHome', 'Theater', 'Control', 'Yes', '\\\\nBRAVIA', 'Sync', 'Yes', '\\\\nHDMI', 'CEC', 'Yes', '\\\\nHDMI', 'standby', 'through', 'Yes', 'Speaker', 'Terminal', 'S-Center', 'out', 'Yes', 'WI-FI', 'Wi-Fi', 'method', 'Yes', '\\\\nIEEE802.11', 'version', 'a/b/g/n/ac', 'Spotify', 'Connect', 'Yes', 'AirPlay', '2', 'Yes', 'Power', 'Consumption', 'Power', 'Consumption', 'On', 'Operation', '*', 'approx', '62W', '\\\\nPower', 'Consumption', 'On', 'Standby', 'mode', '*', 'approx', 'Less', 'than', '0.5W', '\\\\nPower', 'consumption', 'Bluetooth®', 'standby', 'mode', '*', 'approx¹³', 'Less', 'than', '2.3W\\\\nPower', 'consumption', 'Network', 'standby', 'mode', '*', 'approx', 'Less', 'than', '2.3W', 'Power', 'Supply', 'Power', 'Requirement', '120', 'V', '\\\\nPower', 'frequency', '60', 'Hz', 'Power', 'Cable', 'Length', 'Bar', 'Speaker', 'mm', '1600', 'Plug', 'details', 'AC', 'plug', 'type', 'A', 'Power', 'Setting', 'Auto', 'Standby', 'Yes', '\\\\nNetwork', '/', 'Bluetooth®', 'Standby', 'Mode¹³', 'Yes', 'Built', 'in', 'Demo', 'Yes', 'USB', 'playback', 'demo', 'Yes', 'DEMO', 'mode', '1/2/3/4', 'Yes', 'Yes/Yes/-/-', 'Sound', 'Mode', 'Sound', 'Field', 'Yes', 'Sound', 'Effect', 'Night', 'Mode', 'Yes', '\\\\nVoice', 'Mode', 'Yes', 'Sound', 'Adjustment', 'Subwoofer', 'volume', 'Yes', 'w', 'Option', 'Woofer', '\\\\nBass', 'level', 'Yes', '\\\\nAV', 'Sync', 'Yes', '\\\\nRear', 'Speaker', 'volume', 'Yes', 'w', 'Option', 'Rear', '\\\\nAdvanced', 'Auto', 'Volume', 'AAV', 'Yes', '\\\\nAudio', 'DRC', 'Yes', '\\\\nMute', 'Yes', '\\\\nRear', 'level', 'Yes', 'Sound', 'Enhancement', 'DSEE', 'Ultimate', 'Yes', 'Surround', 'Dolby', 'Speaker', 'Virtual', 'Yes', '\\\\nDolby', 'Surround', 'Yes', '\\\\nNeural', 'X', 'Yes', 'DCAC', 'Feature', 'Sound', 'Field', 'Optimization', 'Yes', '\\\\nmic', 'for', 'DCAC', 'Yes', 'built-in', 'Speaker', 'Structure', '13', 'units', 'Full', 'Range', 'Number', 'of', 'speaker', '2', '\\\\nEnclosure', 'Type', 'Acoustic', 'suspension', '\\\\nUnit', 'size', 'mm', '46', 'x', '54', '\\\\nUnit', 'size', 'inch', '1', '13/16', 'x', '2', '1/4', '\\\\nDriver', 'Unit', 'cone', '\\\\nX-Balanced', 'Speaker', 'Unit', 'Yes', 'Easy', 'Setup', 'Yes', 'BCA', 'Woofer', 'Number', 'of', 'speaker', '2', '\\\\nEnclosure', 'Type', 'Acoustic', 'suspension', '\\\\nUnit', 'size', 'mm', '45', 'x', '90', '\\\\nUnit', 'size', 'inch', '1', '13/16', 'x', '3', '5/8', '\\\\nDriver', 'Unit', 'cone', '\\\\nX-Balanced', 'Speaker', 'Unit', 'Yes', 'Tweeter', 'Number', 'of', 'speaker', '2', '\\\\nUnit', 'size', 'mm', '10', '\\\\nUnit', 'size', 'inch', '13/32', '\\\\nDriver', 'Unit', 'soft', 'dome', 'Upfiring', 'Speaker', 'Upfiring', 'Speaker', '2', '\\\\nUnit', 'size', 'mm', '46', 'x', '54', '\\\\nUnit', 'size', 'inch', '1', '13/16', 'x', '2', '1/4', '\\\\nDriver', 'Unit', 'cone', '\\\\nX-Balanced', 'Speaker', 'Unit', 'Yes', 'Beam', 'Tweeter', 'Number', 'of', 'speaker', '2', 'Passive', 'Radiator', 'Passive', 'Radiator', 'Yes', '\\\\nNr', 'of', 'Passive', 'Radiator', '2', 'Speaker', 'Grill', 'Bar', 'Bar', 'grill', 'type', 'fixed', '\\\\nFront', 'Grille', 'Material', 'Fabric', 'Woofer', 'Number', 'of', 'speaker', '2', '\\\\nEnclosure', 'Type', 'Acoustic', 'suspension', '\\\\nUnit', 'size', 'mm', '45', 'x', '90', '\\\\nUnit', 'size', 'inch', '1', '13/16', 'x', '3', '5/8', '\\\\nDriver', 'Unit', 'cone', '\\\\nX-Balanced', 'Speaker', 'Unit', 'Yes', 'Tweeter', 'Number', 'of', 'speaker', '1', '\\\\nUnit', 'size', 'mm', '22', '\\\\nUnit', 'size', 'inch', '7/8', '\\\\nDriver', 'Unit', 'soft', 'dome', 'Wireles', 'Surround', 'with', 'optional', 'wireless', 'speakers', 'Yes', 'Amplifier', 'Type', 'Digital', 'Amplifier', 'Yes', '\\\\nS-Master', 'HX', 'Yes', 'Number', 'of', 'Channel', '13ch', 'Bluetooth®', 'communication', 'RX', '/', 'TX', '¹³', 'RX/-', 'A2DP', 'Yes', 'AVRCP', 'Yes', 'Bluetooth®', 'version¹³', '5.2', 'Bluetooth®', 'Standby¹³', 'Yes', 'Sony', '|', 'BRAVIA', 'Connect', 'Sony', '|', 'Home', 'Entertainment', 'Connect', 'via', 'Wi-Fi', 'Yes', 'Dimensions', 'Approx', '.', 'bar', 'speaker', 'WxHxD', 'mm', '1300', 'x', '64', 'x', '113', '\\\\nbar', 'speaker', 'WxHxD', 'inch', '51', '1/4', 'x', '2', '5/8', 'x', '4', '1/2', '\\\\ncarton', 'type', 'Box', '\\\\nCarton', 'WxHxD', 'mm', 'W1404', 'x', 'H137', 'x', 'D250', 'Weight', 'Approx', '.', 'bar', 'speaker', 'kg', '5.5', '\\\\nbar', 'speaker', 'oz', '12', 'lb', '3', 'oz', 'High', 'Resolution', 'Audio', 'Yes', '360', 'Reality', 'Audio', 'Yes', 'HDMI', 'input', 'IMAX', 'ENHANCED', 'future', 'update', '\\\\nLPCM', '2ch/5.1ch/7.1ch', '\\\\nLPCM', 'fs', '-192kHz/24bit', '\\\\nMPEG-H', '3D', 'Audio', 'BL', 'profile', 'Level3/Level4', 'Yes', '\\\\n360', 'Reality', 'Audio', 'Yes', 'HDMI', 'ARC', 'Dolby', 'Digital', 'Yes', '\\\\nDolby', 'Digital', 'Plus', 'Yes', '\\\\nDolby', 'Digital', 'Plus/Atmos', 'Yes', '\\\\nDolby', 'Dual', 'mono', 'Yes', '\\\\nDTS', 'Yes', '\\\\nDTS', '96/24', 'Yes', '\\\\nLPCM', '2ch', 'Yes', '\\\\nLPCM', 'fs', '48kHz/24bit', 'HDMI', 'eARC', 'DTS', 'Yes', '\\\\nDTS', 'HD', 'High', 'Resolution', 'Audio', 'Yes', '\\\\nDTS', 'HD', 'Master', 'Audio', 'Yes', '\\\\nDTS', 'ES', 'Yes', '\\\\nDTS', '96/24', 'Yes', '\\\\nDTS', 'X', 'Yes', '\\\\nIMAX', 'ENHANCED', 'future', 'update', '\\\\nLPCM', '192kHz/24bit', 'Remote', 'Commander', 'Model', 'Name', 'RHT-AH513U', '\\\\nBatteries', 'for', 'remote', 'commander', 'Yes', 'Cable', 'TV', 'center', 'speaker', 'mode', 'cable', '\\\\nHDMI', 'Cable', '\\\\nAC', 'Cord', 'Instruction', 'Manual', '/', 'Reference', 'Guide', 'English', 'US', 'or', 'English', 'GB', 'Yes', '\\\\nFrench', 'or', 'French', 'CA', 'Yes', '\\\\nSpanish', 'or', 'Spanish', 'LA', 'Yes', 'Card', 'Warranty', 'Card', 'Others', 'Wall', 'mounting', 'bracket', 'Yes', '\\\\nWall', 'mounting', 'template', 'Yes', '\\\\nFoot', 'Yes', 'HDMI', 'Number', 'of', 'Input/Output', '1', '/', '1', 'eARC/ARC', '\\\\neARC', 'Yes', '\\\\n3D', 'pass', 'through', 'Yes', '\\\\n4K/60p/YUV4', '4', '4', 'Yes', '\\\\n8K/60', 'YUV', '4-2-0', '10bit', 'Non', 'compression', 'Yes', '\\\\n4K/120', 'YUV4-4-4', '10bit', 'Non', 'compression', 'Yes', '\\\\nHDR', 'Yes', '\\\\nDolby', 'Vision', 'Yes', 'features', 'Taking', 'sound', 'aboveand', 'beyond', 'Rewriting', 'the', 'rules', 'of', 'surround', 'sound']\n",
      "\n",
      "['b6d2004a-f0c6-438c-b6be-0675fb80ebbe', 'name', 'BRAVIA', 'Theater', 'Bar', '8', 'with', '11', 'speakers', 'Dolby', 'Atmos®/DTS', 'X®', 'link', 'https', '//electronics.sony.com/audio/soundbars/c/all-soundbars/audio/soundbars/all-soundbars/p/hta8000', 'price', '$', '649.99', 'specification', 'AAC', 'Yes', 'SBC', 'Yes', 'LDAC', 'Yes', 'Color', 'Black', 'via', 'Network', 'Yes', 'Control', 'Features', 'CIS', 'IP', 'Control', 'Yes', 'Controller', 'Connectivity', 'Certification', 'Crestron/Control4/Savant', 'Yes', '\\\\nCertification', 'IHIJI', 'Yes', 'ACOUSTIC', 'CENTER', 'SYNC', 'Yes', 'VOICE', 'ZOOM', 'Yes', 'Quick', 'Setting', 'Menu', 'Yes', 'Display', 'LED', 'indicator', 'Yes', '\\\\nLED', 'Indicator', 'OFF', 'Mode', 'Yes', 'Button', 'on', 'main', 'unit', 'Power', 'Yes', 'HDMI', 'Number', 'of', 'Input/Output', '1', '/', '1', 'eARC/ARC', '\\\\neARC', 'Yes', '\\\\n3D', 'pass', 'through', 'Yes', '\\\\n4K/60p/YUV4', '4', '4', 'Yes', '\\\\n8K/60', 'YUV', '4-2-0', '10bit', 'Non', 'compression', 'Yes', '\\\\n4K/120', 'YUV4-4-4', '10bit', 'Non', 'compression', 'Yes', '\\\\nHDR', 'Yes', '\\\\nDolby', 'Vision', 'Yes', '\\\\nHLG', 'hybrid', 'log', 'gamma', 'Yes', 'Wi-Fi', 'Wi-fi', 'method', 'Yes', '\\\\nIEEE802.11', 'version', 'a/b/g/n/ac', 'Speaker', 'Terminal', 'S-Center', 'out', 'Yes', 'Spotify', 'Connect', 'Yes', 'AirPlay', '2', 'Yes', 'Power', 'Consumption', 'Power', 'Consumption', 'On', 'Operation', '*', 'approx', '60W', '\\\\nPower', 'Consumption', 'On', 'Standby', 'mode', '*', 'approx', 'Less', 'than', '0.5W', '\\\\nPower', 'consumption', 'Bluetooth®', 'standby', 'mode', '*', 'approx¹³', 'Less', 'than', '2.3W\\\\nPower', 'consumption', 'Network', 'standby', 'mode', '*', 'approx', 'Less', 'than', '2.3W', 'Power', 'Supply', 'Power', 'Requirement', '120', 'V', '\\\\nPower', 'frequency', '60', 'Hz', 'Power', 'Cable', 'Length', 'Bar', 'Speaker', 'mm', '1600', 'Plug', 'details', 'AC', 'plug', 'type', 'A', 'Power', 'Setting', 'Auto', 'Standby', 'Yes', '\\\\nNetwork', '/', 'Bluetooth®', 'Standby', 'Mode¹³', 'Yes', 'Built', 'in', 'Demo', 'Yes', 'USB', 'playback', 'demo', 'Yes', 'DEMO', 'mode', '1/2/3/4', 'Yes', 'Yes/Yes/-/-', 'Sound', 'Mode', 'Sound', 'Field', 'Yes', 'Sound', 'Effect', 'Night', 'Mode', 'Yes', '\\\\nVoice', 'Mode', 'Yes', 'Sound', 'Adjustment', 'Subwoofer', 'volume', 'Yes', 'w', 'Option', 'Woofer', '\\\\nBass', 'level', 'Yes', '\\\\nAV', 'Sync', 'Yes', '\\\\nRear', 'Speaker', 'volume', 'Yes', 'w', 'Option', 'Rear', '\\\\nAdvanced', 'Auto', 'Volume', 'AAV', 'Yes', '\\\\nAudio', 'DRC', 'Yes', '\\\\nMute', 'Yes', '\\\\nRear', 'level', 'Yes', 'Sound', 'Enhancement', 'DSEE', 'Ultimate', 'Yes', 'Surround', 'Dolby', 'Speaker', 'Virtual', 'Yes', '\\\\nDolby', 'Surround', 'Yes', '\\\\nNeural', 'X', 'Yes', 'DCAC', 'Feature', 'Sound', 'Field', 'Optimization', 'Yes', '\\\\nmic', 'for', 'DCAC', 'Yes', 'built-in', 'Speaker', 'Structure', '11', 'units', 'Full', 'Range', 'Number', 'of', 'speaker', '2', '\\\\nEnclosure', 'Type', 'Acoustic', 'suspension', '\\\\nUnit', 'size', 'mm', '46', 'x', '54', '\\\\nUnit', 'size', 'inch', '1', '13/16', 'x', '2', '1/4', '\\\\nDriver', 'Unit', 'cone', '\\\\nX-Balanced', 'Speaker', 'Unit', 'Yes', 'Easy', 'Setup', 'Yes', 'BCA', 'Woofer', 'Number', 'of', 'speaker', '2', '\\\\nEnclosure', 'Type', 'Acoustic', 'suspension', '\\\\nUnit', 'size', 'mm', '45', 'x', '90', '\\\\nUnit', 'size', 'inch', '1', '13/16', 'x', '3', '5/8', '\\\\nDriver', 'Unit', 'cone', '\\\\nX-Balanced', 'Speaker', 'Unit', 'Yes', 'Tweeter', 'Number', 'of', 'speaker', '2', '\\\\nUnit', 'size', 'mm', '10', '\\\\nUnit', 'size', 'inch', '13/32', '\\\\nDriver', 'Unit', 'soft', 'dome', 'Upfiring', 'Speaker', 'Upfiring', 'Speaker', '2', '\\\\nUnit', 'size', 'mm', '46', 'x', '54', '\\\\nUnit', 'size', 'inch', '1', '13/16', 'x', '2', '1/4', '\\\\nDriver', 'Unit', 'cone', '\\\\nX-Balanced', 'Speaker', 'Unit', 'Yes', 'Speaker', 'Grill', 'Bar', 'Bar', 'grill', 'type', 'fixed', '\\\\nFront', 'Grille', 'Material', 'Fabric', 'Woofer', 'Number', 'of', 'speaker', '2', '\\\\nEnclosure', 'Type', 'Acoustic', 'suspension', '\\\\nUnit', 'size', 'mm', '45', 'x', '90', '\\\\nUnit', 'size', 'inch', '1', '13/16', 'x', '3', '5/8', '\\\\nDriver', 'Unit', 'cone', '\\\\nX-Balanced', 'Speaker', 'Unit', 'Yes', 'Tweeter', 'Number', 'of', 'speaker', '1', '\\\\nUnit', 'size', 'mm', '22', '\\\\nUnit', 'size', 'inch', '7/8', '\\\\nDriver', 'Unit', 'soft', 'dome', 'Wireles', 'Surround', 'with', 'optional', 'wireless', 'speakers', 'Yes', 'Amplifier', 'Type', 'Digital', 'Amplifier', 'Yes', '\\\\nS-Master', 'HX', 'Yes', 'Number', 'of', 'Channel', '11ch', 'Bluetooth®', 'Communication', 'RX', '/', 'TX', '¹³', 'RX/-', 'A2DP', 'Yes', 'AVRCP', 'Yes', 'Bluetooth®', 'version', '¹³', '5.2', 'Bluetooth®', 'Standby', '¹³', 'Yes', 'Sony', '|', 'BRAVIA', 'Connect', 'Sony', '|', 'Home', 'Entertainment', 'Connect', 'via', 'Wi-Fi', 'Yes', 'Dimensions', 'Approx', '.', 'bar', 'speaker', 'WxHxD', 'mm', '1100', 'x', '64', 'x', '113', '\\\\nbar', 'speaker', 'WxHxD', 'inch', '43', '3/8', 'x', '2', '5/8', 'x', '4', '1/2', '\\\\ncarton', 'type', 'Box', '\\\\nCarton', 'WxHxD', 'mm', 'W1204', 'x', 'H137', 'x', 'D250', 'Weight', 'Approx', '.', 'bar', 'speaker', 'kg', '4.7', '\\\\nbar', 'speaker', 'oz', '10', 'lb', '6', 'oz', 'High', 'Resolution', 'Audio', 'Yes', '360', 'Reality', 'Audio', 'Yes', 'HDMI', 'input', 'DTS', '96/24', 'Yes', '\\\\nDTS', 'X', 'Yes', '\\\\nIMAX', 'ENHANCED', 'future', 'update', '\\\\nLPCM', '2ch/5.1ch/7.1ch', '\\\\nLPCM', 'fs', '-192kHz/24bit', '\\\\nMPEG-H', '3D', 'Audio', 'BL', 'profile', 'Level3/Level4', 'Yes', '\\\\n360', 'Reality', 'Audio', 'Yes', 'HDMI', 'ARC', 'Dolby', 'Digital', 'Yes', '\\\\nDolby', 'Digital', 'Plus', 'Yes', '\\\\nDolby', 'Digital', 'Plus/Atmos', 'Yes', '\\\\nDolby', 'Dual', 'mono', 'Yes', '\\\\nDTS', 'Yes', '\\\\nDTS', '96/24', 'Yes', '\\\\nLPCM', '2ch', 'Yes', '\\\\nLPCM', 'fs', '48kHz/24bit', 'HDMI', 'eARC', 'DTS', 'ES', 'Yes', '\\\\nDTS', '96/24', 'Yes', '\\\\nDTS', 'X', 'Yes', '\\\\nIMAX', 'ENHANCED', 'future', 'update', '\\\\nLPCM', '192kHz/24bit', 'Remote', 'Commander', 'Model', 'Name', 'RHT-AH513U', '\\\\nBatteries', 'for', 'remote', 'commander', 'Yes', 'Cable', 'TV', 'center', 'speaker', 'mode', 'cable', '\\\\nHDMI', 'Cable', '\\\\nAC', 'Cord', 'Instruction', 'Manual', '/', 'Reference', 'Guide', 'English', 'US', 'or', 'English', 'GB', 'Yes', '\\\\nFrench', 'or', 'French', 'CA', 'Yes', '\\\\nSpanish', 'or', 'Spanish', 'LA', 'Yes', 'Card', 'Warranty', 'Card', 'Others', 'Wall', 'mounting', 'bracket', 'Yes', '\\\\nWall', 'mounting', 'template', 'Yes', '\\\\nFoot', 'Yes', 'HDMI', 'HDCP2.2', 'Yes', '\\\\nHDCP2.3', 'Yes', '\\\\n18Gbps', 'Yes', '\\\\n40Gbps', 'Yes', '\\\\nx.v.Color', 'xvYCC', 'Yes', '\\\\nHDMI', 'control', 'Yes', '\\\\nScene', 'Select', 'Sync', 'Yes', '\\\\nHome', 'Theater', 'Control', 'Yes', '\\\\nBRAVIA', 'Sync', 'Yes', '\\\\nHDMI', 'CEC', 'Yes', '\\\\nHDMI', 'standby', 'through', 'Yes', 'features', 'Enjoy', 'cinematicmoments', 'together', 'All', 'your', 'favorite', 'features', 'in', 'the', 'box']\n",
      "\n",
      "['7c431ed3-92a7-42a8-b70b-fea4ba5e2ebd', 'name', 'NS7', 'Wireless', 'Wearable', 'TV', 'Speaker', 'link', 'https', '//electronics.sony.com/audio/soundbars/c/all-soundbars/audio/speakers/wearable-speakers/p/srsns7', 'price', '$', '299.99', 'specification', 'Speaker', 'type', 'Full', 'Range', 'Speaker', 'Size', '32ΦX33mm', 'DSEE', 'Yes', 'Preset', 'EQ', 'Yes', 'Custom', 'EQ', '5', 'band', 'Output', 'Power', '3W+3W', 'Dimensions', 'W', 'x', 'H', 'x', 'D', '244x53x185mm', '9', '5/8', 'x', '2', '1/8', 'x', '7', '3/8in', 'Weight', '0lb', '12oz', 'Approx.319g', 'Communication', 'System', 'Version', '5.0', 'Max', '.', 'Communication', 'Range', '30m', '98feet', 'Compatible', 'Profiles', 'A2DP', 'AVRCP', 'HFP', 'HSP', 'SPP', 'Supported', 'Codecs', 'SBC', 'AAC', 'LADC', 'Frequency', 'Transmission', 'Range', '20', 'Hz', '-', '20', '000', 'Hz', '44.1', 'kHz', 'sampling', 'Input', 'and', 'Output', 'Terminals', 'USB', 'Type-C®', 'COMPATIBLE', 'SMARTPHONE', 'APPS', 'Music', 'Center', 'Headphone', 'Connect', '360', 'Spatial', 'Sound', 'Personalizer', 'Battery', 'Life', 'Approx', '.', '12h', 'Power', 'Consumption', '7.5W', '*', 'Charging', 'Built-in', 'microphone', 'Hands', 'Free', 'Calling', 'Yes', 'Whats', 'In', 'The', 'Box', 'Optical', 'Cable\\\\nUSB', 'Cable', 'features', 'Your', 'wearable', 'personal', 'theater', '360', 'Spatial', 'Sound', 'that', 'adapts', 'to', 'your', 'ears', 'with', 'BRAVIA', 'XR™']\n",
      "\n",
      "['ac46d871-cc4f-494d-8d99-ccdb88b99d5a', 'name', 'HT-A9', 'High', 'Performance', 'Home', 'Theater', 'System', 'link', 'https', '//electronics.sony.com/audio/soundbars/c/all-soundbars/audio/soundbars/all-soundbars/p/hta9', 'price', '$', '1', '499.99', 'specification', 'Input', 'and', 'Output', 'Terminals', 'USB', 'typeA', 'FW', 'Update', 'only', 'Ethernet', 'S-Center', 'Out', 'Wi-Fi®', 'Connectivity', 'Yes', 'Bluetooth', 'RX', 'receiver', '/TX', 'transmitter', 'IEEE802.11', 'version', 'IEEE', '802.11', 'a/b/g/n/ac', 'HDCP2.2', 'Yes', 'Number', 'of', 'Input/Output', '1', '/', '1', 'eARC/ARC', 'eARC', 'Yes', '4K/60p/YUV4', '4', '4', 'Yes', 'HDR', 'Yes', 'Dolby', 'Vision™', 'Compatible', 'Yes', 'HLG', 'hybrid', 'log', 'gamma', 'Yes', 'BRAVIA', 'Sync', 'Yes', 'HDMI', 'CEC', 'Yes', '4K/120', 'Yes', 'HDMI', 'input', 'Dolby', 'Digital', 'Dolby', 'Digital', 'plus', 'Dolby', 'TrueHD', 'Dolby', 'Atmos', 'Dolby', 'Dual', 'mono', 'DTS', 'DTS', 'HD', 'High', 'Resolution', 'Audio', 'DTS', 'HD', 'Master', 'Audio', 'DTS', 'ES', 'DTS', '96/24', 'DTS', 'X', 'LPCM', 'HDMI', 'eARC', 'Dolby', 'Digital', 'Dolby', 'Digital', 'plus', 'Dolby', 'TrueHD', 'Dolby', 'Atmos', 'Dolby', 'Dual', 'mono', 'DTS', 'DTS', 'HD', 'High', 'Resolution', 'Audio', 'DTS', 'HD', 'Master', 'Audio', 'DTS', 'ES', 'DTS', '96/24', 'DTS', 'X', 'LPCM', 'Bluetooth', 'Receiver', 'AAC', 'SBC', 'LDAC', 'Bluetooth', 'Transmitter', 'SBC', 'LDAC', 'Dolby', 'Atmos', '/', 'DTS', 'X', 'Yes', '360', 'Reality', 'Audio', 'Yes', 'Hi-Res', 'Audio', 'Yes', 'Sound', 'Mode', 'Auto', 'Sound', 'Cinema', 'Music', 'Sound', 'Effect', 'Night', 'Mode', 'Voice', 'Mode', 'Immersive', 'Audio', 'Enhancement', 'Virtual', 'Surround', 'Technology', '360', 'Spatial', 'Sound', 'Mapping', 'Dolby', 'Surround', 'Nural', 'X', 'Sound', 'Field', 'Optimization', 'Yes', 'Speaker', 'Structure', '4.0.4ch', 'Network', 'Function', 'Chromecast', 'built-in', 'Spotify', 'Connect', 'Music', 'Service', 'Button', 'Google', 'Home', 'Works', 'with', 'Google', 'Assistant', 'Features', 'for', 'PlayStation®5', 'AUTO', 'TONE', 'HDR', 'MAPPING', 'compatible', 'Pass-through', '*', '\\\\nAUTO', 'GENRE', 'PICTURE', 'MODE', 'compatible', 'Pass-through', '*', '\\\\n', '*', 'Requires', 'firmware', 'update', 'released', 'Spring', '2022', 'Amplifier', 'Type', 'Digital', 'Amplifier', 'S-Master', 'HX', 'Amplifier', 'Channels', '12ch', 'Power', 'Output', 'Total', '504W', 'Power', 'Consumption', 'Control', 'Box', '15W', '/', 'Speaker', '22W', 'features', 'A', 'new', 'frontier', 'of', 'surround', 'sound', '360', 'Spatial', 'Sound', 'that', 'adapts', 'to', 'your', 'environment']\n",
      "\n",
      "['d9991284-9be5-4254-8673-31c6d749036e', 'name', 'SA-RS5', 'Wireless', 'Rear', 'Speakers', 'with', 'Built-in', 'Battery', 'for', 'Bar', '9/Bar', '8/HT-A7000/HT-A5000/HT-A3000', 'link', 'https', '//electronics.sony.com/audio/soundbars/c/all-soundbars/audio/soundbars/a-series-soundbars/p/sars5', 'price', '$', '599.99', 'specification', 'Battery', 'Life', '10h', 'Built-in', 'battery', 'Yes', 'PLAY', 'TIME', 'IN', '10MIN', 'QUICK', 'CHARGE', '90min', 'Charge', 'Time', '4h', 'Amplifier', 'Type', 'Digital', 'Amplifier', 'S-Master', 'Amplifier', 'Channels', '6ch', 'L', '3ch+R', '3ch', 'Rear', 'speaker', 'size', 'W', 'X', 'H', 'X', 'D', 'MM', '145x250x134mm', '5', '3/4', 'in', 'x', '9', '7/8', 'in', 'x', '5', '3/8', 'in', 'REAR', 'SPEAKER', 'WEIGHT', 'KG', '2.4kg', '5lb', '5oz', 'Whats', 'In', 'The', 'Box', 'AC', 'Adaptor\\\\nWarranty', 'Card', 'features']\n",
      "\n",
      "['8050563f-febc-4b7f-b16c-7e56df9d1df2', 'name', 'HT-S2000', '3.1ch', 'Dolby', 'Atmos®', 'Soundbar', 'link', 'https', '//electronics.sony.com/audio/soundbars/c/all-soundbars/audio/soundbars/all-soundbars/p/hts2000-uc2', 'price', '$', '299.99', 'specification', 'Speaker', 'Structure', '3.1ch', 'Built-in-Subwoofer', 'bar', 'speaker', 'HT-S2000', 'Number', 'of', 'Input/Output', '-', '/', '1', 'eARC/ARC', 'eARC', 'Yes', 'BRAVIA', 'Sync', 'Yes', 'HDMI', 'CEC', 'Yes', 'Input', 'and', 'Output', 'Terminals', 'Optical', 'audio', 'input', 'Yes', '\\\\nUSB', 'typeA', 'Yes', '\\\\nFile', 'System', 'FAT32', 'Bluetooth', 'RX', 'IEEE802.11', 'version', 'a/b/g/n/ac', 'Bluetooth', 'version', '5.2', 'HDMI', 'eARC', 'Dolby', 'Digital', '\\\\nDolby', 'Digital', 'plus', '\\\\nDolby', 'TrueHD', '\\\\nDolby', 'Atmos', '\\\\nDolby', 'Dual', 'mono', '\\\\nDTS', '\\\\nDTS', 'HD', 'High', 'Resolution', 'Audio', '\\\\nDTS', 'HD', 'Master', 'Audio', '\\\\nDTS', 'ES', '\\\\nDTS', '96/24', '\\\\nDTS', 'X', '\\\\nLPCM', '2ch/5.1ch/7.1ch', '\\\\nLPCM', 'fs', '-192kHz/24bit', 'Optical', 'Input', 'Dolby', 'Digital', 'Yes', '\\\\nDolby', 'Dual', 'mono', 'Yes', '\\\\nDTS', 'Yes', '\\\\nLPCM', '2ch', 'Yes', '\\\\nLPCM', 'fs', '-48kHz/24bit', 'USB', 'Wav', 'Yes', 'BLUETOOTH', 'RECEIVER', 'AAC', '\\\\nSBC', 'Sound', 'Effect', 'Night', 'Mode', '\\\\nVoice', 'Mode', 'Virtual', 'Surround', 'Technology', 'S-Force', 'PRO\\\\nVertical', 'Surround', 'Engine\\\\nDTS', 'Virtual', 'X', 'Wireless', 'Surround', 'with', 'optional', 'wireless', 'speakers', 'Yes', 'Amplifier', 'Type', 'Digital', 'Amplifier', '\\\\nS-Master', 'Amplifier', 'Channels', 'Number', 'of', 'Channel', '5ch', 'SUPPLIED', 'ACCESSORIES', 'Batteries', 'for', 'remote', 'commander', '\\\\nHDMI', 'Cable', '\\\\nAC', 'Adaptor', '\\\\nAC', 'Cord', '\\\\nWall', 'Mount', 'Template', '\\\\nCustomer', 'Registration', 'Card', '\\\\nWarranty', 'Card', 'Model', 'name', 'RMT-AH513U', 'Power', 'Consumption', 'On', 'Operation', '*', 'approx', '50W', 'Main', 'Unit', 'Size', '-', 'Body', 'Only', 'W', 'x', 'H', 'x', 'D', 'INCH', '31', '1/2', 'in\\\\n×', '2', '5/8', 'in', '×', '5', 'in', 'Main', 'Unit', 'Size', '-', 'Body', 'Only', 'W', 'x', 'H', 'x', 'D', 'MM', '800', 'X', '64', 'X', '124', 'Main', 'Unit', 'Weight', '-', 'Body', 'Only', 'KG', '3.7kg', 'Main', 'Unit', 'Weight', '-', 'Body', 'Only', 'OZ', '8', 'lb', '3', 'oz', 'features', 'Clear', 'dialogue', '.', 'Deep', 'bass', '.', 'Powerful', 'sound', '.', 'Immersive', 'surround', 'sound']\n",
      "\n",
      "['e79cd32e-b634-4ea7-abf3-dd7ca14362cf', 'name', 'HT-X8500', '2.1ch', 'Dolby', 'Atmos®/DTS', 'X®', 'Soundbar', 'with', 'built-in', 'subwoofer', 'link', 'https', '//electronics.sony.com/audio/soundbars/c/all-soundbars/audio/soundbars/all-soundbars/p/htx8500', 'price', 'Price', 'not', 'found', 'specification', 'Dimensions', 'Approx', '.', 'Bar', 'speaker', '35', '1/8', '×2', '5/8', '×', '3', '7/8', 'in', '890', 'x', '64', 'x', '96', 'mm', '\\\\nCarton', '949', 'x', '160', 'x', '170', 'mm', 'WxHxD', 'Weight', 'Approx', '.', 'Bar', 'speaker', '6', 'lb', '13', '2/5', 'oz', '3.1', 'kg', '\\\\nGross', 'weight', '5kg', 'Wi-Fi®', 'Connectivity', 'No', 'Power', 'Consumption', 'in', 'Operation', '32W', '4K/120', 'No', 'Dolby', 'Atmos', '/', 'DTS', 'X', 'Yes', '360', 'Reality', 'Audio', 'No', 'Hi-Res', 'Audio', 'No', 'Sound', 'Field', 'Optimization', 'No', 'features']\n",
      "\n",
      "['67070596-5061-4dd1-a80c-32fbc48a23e0', 'name', 'SA-SW3', 'Wireless', 'Subwoofer', 'for', 'QUAD/Bar', '9/Bar', '8/HT-A9/HT-A7000/HT-A5000/HT-A3000/HT-S2000', 'link', 'https', '//electronics.sony.com/audio/soundbars/c/all-soundbars/audio/soundbars/all-soundbars/p/sasw3', 'price', '$', '299.99', 'specification', 'Subwoofer', 'Type', 'Wireless', 'Amplifier', 'Type', 'Digital', 'Amplifier', 'S-Master', 'Amplifier', 'Channels', '1ch', 'Power', 'Consumption', '40W', 'Subwoofer', 'Size', 'W', 'X', 'H', 'X', 'D', '201x382.5x402mm', '8x15-1/8x15-7/8in', 'Subwoofer', 'Weight', '10.5kg', 'features', 'Feel', 'the', 'power', 'of', 'deep', 'bass', 'Rich', 'deep', 'bass']\n",
      "\n",
      "['267986d5-c0e0-44c9-abd2-6874f66290ce', 'name', 'HT-A7000', '7.1.2ch', 'Dolby', 'Atmos®', 'Soundbar', 'link', 'https', '//electronics.sony.com/audio/soundbars/c/all-soundbars/audio/soundbars/all-soundbars/p/hta7000', 'price', '$', '999.99', 'specification', 'Input', 'and', 'Output', 'Terminals', 'Optical-audio', 'input', 'Analogue', 'audio', 'input', 'stereo', 'mini', 'USB', 'typeA', 'File', 'System', 'exFAT/FAT12/16/32', 'vFAT', 'Wi-Fi®', 'Connectivity', 'Yes', 'Bluetooth', 'Yes', 'IEEE802.11', 'version', 'a/b/g/n/ac', 'HDCP2.2', 'Yes', 'Bluetooth', 'version', 'Ver5.0', 'Number', 'of', 'Input/Output', '2', '/', '1', 'eARC/ARC', 'eARC', 'Yes', '4K/60p/YUV4', '4', '4', 'Yes', 'HDR', 'Yes', 'Dolby', 'Vision™', 'Compatible', 'Yes', 'HLG', 'hybrid', 'log', 'gamma', 'Yes', 'BRAVIA', 'Sync', 'Yes', 'HDMI', 'CEC', 'Yes', '4K/120', 'Yes', 'HDMI', 'input', 'Dolby', 'Digital', 'Dolby', 'TrueHD', 'Dolby', 'Atmos', 'Dolby', 'Dual', 'mono', 'DTS', 'DTS', 'HD', 'High', 'Resolution', 'Audio', 'DTS', 'HD', 'Master', 'Audio', 'DTS', 'ES', 'DTS', '96/24', 'DTS', 'X', 'LPCM', 'HDMI', 'eARC', 'Dolby', 'Digital', 'Dolby', 'TrueHD', 'Dolby', 'Atmos', 'Dolby', 'Dual', 'mono', 'DTS', 'DTS', 'HD', 'High', 'Resolution', 'Audio', 'DTS', 'HD', 'Master', 'Audio', 'DTS', 'ES', 'DTS', '96/24', 'DTS', 'X', 'LPCM', 'Optical', 'Input', 'Dolby', 'Digital', 'Dolby', 'Dual', 'mono', 'DTS', 'LPCM', '2c', 'USB', 'DSD', '.dsf', '/', '.dff', 'Wav', 'Flac', 'ALAC', '.m4a', '.mov', 'AIFF', '.aiff', '.aif', 'HE', 'AAC', 'AAC', 'mp3', 'Monkey', 'Audio', 'WMA', 'Ogg', 'Vorbis', 'Bluetooth', 'Receiver', 'AAC', 'SBC', 'LDAC', 'Bluetooth', 'Transmitter', 'SBC', 'LDAC', 'Dolby', 'Atmos', '/', 'DTS', 'X', 'Yes', '360', 'Reality', 'Audio', 'Yes', 'Hi-Res', 'Audio', 'Yes', 'Sound', 'Mode', 'Auto', 'Sound', 'Cinema', 'Music', 'Standard', 'Sound', 'Effect', 'Night', 'Mode', 'Voice', 'Mode', 'Immersive', 'Audio', 'Enhancement', 'Virtual', 'Surround', 'Technology', 'S-Force', 'PRO', 'Vertical', 'Surround', 'Engine', 'Dolby', 'Speaker', 'Virtual', 'Dolby', 'Surround', 'Neural', 'X', 'Sound', 'Field', 'Optimization', 'Yes', 'Speaker', 'Structure', '7.1.2ch', 'Built-in-Subwoofer', 'Network', 'Function', 'Chromecast', 'built-in', 'Spotify', 'Connect', 'Music', 'Service', 'Button', 'Works', 'with', 'Google', 'Assistant', 'AirPlay2', 'Wireless', 'Surround', 'with', 'optional', 'wireless', 'speakers', 'Yes', 'TV', 'Wireless', 'connection', 'Yes', 'Features', 'for', 'PlayStation®5', 'AUTO', 'TONE', 'HDR', 'MAPPING', 'compatible', 'Pass-through', '*', '\\\\nAUTO', 'GENRE', 'PICTURE', 'MODE', 'compatible', 'Pass-through', '*', '\\\\n', '*', 'Requires', 'firmware', 'update', 'released', 'Spring', '2022', 'Subwoofer', 'Type', 'Built-in', 'In', 'the', 'Box', 'Remote', 'Commander\\\\nAudio', 'Cable', 'MINI', '↔MINI', '\\\\nHDMI', 'Cable\\\\nAC', 'Cord', 'Amplifier', 'Type', 'Digital', 'Amplifier', 'S-Master', 'HX', 'Amplifier', 'Channels', '11ch', 'Power', 'Output', 'Total', '500W', 'Power', 'Consumption', '65W', 'Power', 'consumption', 'on', 'Remote', 'Start', 'mode', '2.4W', 'Main', 'Unit', 'Size', '–', 'Body', 'Only', 'W', 'x', 'H', 'x', 'D', '1300x80x142mm', 'Main', 'Unit', 'Size', '-', 'Body', 'Only', 'W', 'x', 'H', 'x', 'D', 'INCH', '51', '1/4x3', '1/4x5', '5/8', 'in', 'Main', 'Unit', 'Weight', '–', 'Body', 'Only', '8.7', 'kg', 'MAIN', 'UNIT', 'WEIGHT', '–', 'BODY', 'ONLY', 'OZ', '19lb', '2oz', 'features']\n",
      "\n",
      "['9bac58f5-d1f5-4a78-9428-9be06a3be019', 'name', 'HT-A3000', '3.1ch', 'Dolby', 'Atmos®', 'Soundbar', 'link', 'https', '//electronics.sony.com/audio/soundbars/c/all-soundbars/audio/soundbars/a-series-soundbars/p/hta3000', 'price', '$', '429.99', 'specification', 'Bluetooth®', 'Receiver', 'AAC', 'SBC', 'LDAC', 'Bluetooth®', 'Transmitter', 'SBC', 'LDAC', 'HDMI', 'eARC', 'Dolby', 'Digital', 'Dolby', 'Digital', 'plus', 'Dolby', 'TrueHD', 'Dolby', 'Atmos', 'Dolby', 'Dual', 'mono', 'DTS', 'DTS', 'HD', 'High', 'Resolution', 'Audio', 'DTS', 'HD', 'Master', 'Audio', 'DTS', 'ES', 'DTS', '96/24', 'DTS', 'X', 'LPCM', '2ch/5.1ch/7.1ch', 'LPCM', 'fs', '-192kHz/24bit', 'Optical', 'Input', 'Dolby', 'Digital', 'Dolby', 'Dual', 'mono', 'DTS', 'LPCM', '2ch', 'LPCM', 'fs', '-48kHz/24bit', 'USB', 'DSD', '.dsf', '/', '.dff', 'DSD', 'Fs', '5.6MHz', 'Wav', 'Flac', 'ALAC', '.m4a', '.mov', 'AIFF', '.aiff', '.aif', 'HE', 'AAC', 'AAC', 'mp3', 'Monkey', 'Audio', 'WMA', 'Ogg', 'Vorbis', 'Dolby', 'Atmos', '/', 'DTS', 'X', 'Yes', '360', 'Reality', 'Audio', 'Yes', 'Hi-Res', 'Audio', 'Yes', 'BRAVIA', 'Sync', 'Yes', 'HDMI', 'CEC', 'Yes', 'Number', 'of', 'Input/Output', '-', '/', '1', 'eARC/ARC', 'eARC', 'Yes', '4K/120', 'No', 'Input', 'and', 'Output', 'Terminals', 'Optical-audio', 'input', 'USB', 'typeA', 'File', 'System', 'exFAT', 'FAT12/16/32', 'vFAT', 'Bluetooth®', 'RX/TX', 'Wi-Fi®', 'Connectivity', 'Yes', 'Bluetooth®', 'version', '5.0', 'IEEE802.11', 'version', 'a/b/g/n/ac', 'Network', 'Function', 'Chromecast', 'built-in', 'Spotify', 'Connect', 'Music', 'Service', 'Button', 'Works', 'with', 'Google', 'Assistant', 'Sound', 'Effect', 'Night', 'Mode', 'Voice', 'Mode', 'Sound', 'Mode', 'Sound', 'Field', 'Virtual', 'Surround', 'Technology', 'S-Force', 'PRO', 'Vertical', 'Surround', 'Engine', 'Dolby', 'Speaker', 'Virtual', 'DTS', 'Virtual', 'X', 'Sound', 'Field', 'Optimization', 'Yes', 'Speaker', 'Structure', '3.1ch', 'Built-in-Subwoofer', 'bar', 'speaker', 'HT-A3000', 'TV', 'Wireless', 'connection', 'Yes', 'Wireless', 'Surround', 'with', 'optional', 'wireless', 'speakers', 'Yes', 'Whats', 'In', 'The', 'Box', 'model', 'name', 'RMT-AH514U', 'Batteries', 'for', 'remote', 'commander', 'HDMI', 'Cable', 'AC', 'Cord', 'Wall', 'Mount', 'Template', 'Customer', 'Registration', 'Card', 'Warranty', 'Card', 'Amplifier', 'Type', 'Digital', 'Amplifier', 'S-Master', 'Amplifier', 'Channels', '5ch', 'Power', 'Consumption', '50', 'W', 'Main', 'Unit', 'Size', '-', 'Body', 'Only', 'W', 'x', 'H', 'x', 'D', 'INCH', '37', '1/2', 'in\\\\n×', '2', '5/8', 'in', '×', '5', '1/8', 'in', 'Main', 'Unit', 'Size', '-', 'Body', 'Only', 'W', 'x', 'H', 'x', 'D', 'MM', '950', 'X', '64', 'X', '128', 'Main', 'Unit', 'Weight', '-', 'Body', 'Only', 'KG', '4.6kg', 'Main', 'Unit', 'Weight', '-', 'Body', 'Only', 'OZ', '10', 'lb', '3', 'oz', 'features', 'Step', 'inside', 'the', 'sound', '360', 'Spatial', 'Sound', 'that', 'adapts', 'to', 'your', 'environment']\n",
      "\n",
      "Soundbars :  5079\n",
      "['05802a02-e000-4ddf-9407-6c82f0324033', 'name', 'XG500', 'MEGA', 'BASS™', 'Portable', 'Bluetooth®', 'Wireless', 'Speaker', 'link', 'https', '//electronics.sony.com/audio/speakers/c/all-speakers/audio/speakers/wireless-speakers/p/srsxg500', 'price', '$', '499.99', 'specification', 'Speaker', 'Size', 'Diameter', 'of', 'Speaker', 'Unit', 'Tweeter', '2.5cm', 'x', '2', 'Diameter', 'of', 'Speaker', 'Unit', 'woofer', '11cm', 'x', '2', 'Sound', 'Modes', 'Clear', 'Audio+', 'DSEE', 'LIVE', 'SOUND', 'LIVE', 'SOUND', 'Yes', '360', 'Reality', 'Audio', 'No', 'Line-Shape', 'Diffuser', 'No', 'X-Balanced', 'Speaker', 'Unit', 'Yes', 'Passive', 'Radiator', 'Yes', 'Mega', 'Bass', 'Yes', 'Dimensions', 'W', 'x', 'H', 'x', 'D', '460x256x215', 'mm', 'Weight', '5.6kg', 'Input', 'and', 'Output', 'Terminals', 'Stereo', 'Mini', 'Jack', 'IN', 'USB', 'A', 'Mic', 'Input', 'Guitar', 'Input', 'Battery', 'Life', '30', 'HOURS', 'Water', 'Protection', 'IP66', 'Power', 'Supply', 'Internal', 'rechargeable', 'Lighting', 'Yes', 'Portability', 'Yes', 'Echo', 'Canceling', 'No', 'Quick', 'Charge', 'Yes', 'Stereo', 'Mini', 'Jack', 'IN', 'Yes', 'USB', 'Type-C™', 'No', 'USB', 'Power', 'port', 'for', 'smartphone', 'Yes', 'AC', 'power', 'adaptor', 'AC', 'Power', 'Cord', 'Party', 'Chain', 'Yes', 'Bluetooth®', 'Codecs', 'Support', 'SBC', 'AAC', 'LDAC', 'features']\n",
      "\n",
      "['082c3753-7c95-4045-9ce6-99411ef4968c', 'name', 'XV900', 'Portable', 'Bluetooth®', 'Wireless', 'Party', 'Speaker', 'link', 'https', '//electronics.sony.com/audio/speakers/c/all-speakers/audio/speakers/all-speakers/p/srsxv900', 'price', '$', '799.99', 'specification', 'Speaker', 'type', '4-way', 'bass', 'reflex', 'Speaker', 'Size', 'Approx.320mm×320mm', 'Sound', 'Modes', 'LIVE', 'SOUND', 'LIVE', 'SOUND', 'Yes', '360', 'Reality', 'Audio', 'No', 'Line-Shape', 'Diffuser', 'No', 'X-Balanced', 'Speaker', 'Unit', 'Yes', 'Passive', 'Radiator', 'Yes', 'Mega', 'Bass', 'Yes', 'Communication', 'System', 'Version', '5.2', 'FREQUENCY', 'RANGE', '2.4GHz', 'Compatible', 'Profiles', 'Yes', 'Frequency', 'Transmission', 'Range', '20', 'Hz', '-', '20', '000', 'Hz', '44.1', 'kHz', 'sampling', 'Bluetooth®', 'Codecs', 'Support', 'SBC', 'AAC', 'LDAC', 'Input', 'and', 'Output', 'Terminals', 'Stereo', 'Mini', 'Jack', 'IN', 'Power', 'Consumption', 'Approx', '.', '100W', 'Battery', 'Life', 'approx.25H', 'Water', 'Protection', 'No', 'Power', 'Supply', 'AC', 'Lighting', 'Yes', 'Portability', 'Yes', 'Echo', 'Canceling', 'No', 'Quick', 'Charge', 'Yes', 'Stereo', 'Mini', 'Jack', 'IN', 'Yes', 'Power', 'Consumption', 'Standby', 'Mode', 'Approx', '.', '1W', 'COMPATIBLE', 'SMARTPHONE', 'APPS', 'Sony', 'Music', 'Center/Fiestable', 'Party', 'Chain', 'Yes', 'Dimensions', 'W', 'x', 'H', 'x', 'D', 'Approx', '.', '410mm×880mm×439mm', 'Weight', 'Approx', '26.6', 'kg', 'USB', 'Type-C™', 'No', 'USB', 'Power', 'port', 'for', 'smartphone', 'Yes', 'SUPPLIED', 'ACCESSORIES', 'AC', 'Power', 'Cord', 'features', 'The', 'ultimate', 'party', 'speaker', 'Life', 'should', 'be', 'lived', 'at', 'full', 'volume']\n",
      "\n",
      "['cf949865-e941-4582-a496-e91d7b809ed1', 'name', 'SS-CS3', 'Hi-Res', 'Floorstanding', 'Speaker', 'Single', 'link', 'https', '//electronics.sony.com/audio/speakers/c/all-speakers/audio/speakers/home-theater-speakers/p/sscs3', 'price', '$', '229.99', 'specification', 'Front', 'Speaker', 'Dimensions', 'W', 'x', 'H', 'x', 'D', '9.05', 'x', '36.30', 'x', '10.24', 'in', 'Front', 'Speaker', 'Enclosure', 'Type', 'Bass', 'reflex', 'Front', 'Speaker', 'Input', 'terminal', 'Screw', 'type', 'Front', 'Speaker', 'Model', 'name', 'SS-CS3', 'Front', 'Speaker', 'Rated', 'Impedance', '6', 'ohms', 'Front', 'Speaker', 'System', '3-way', '4-driver', 'speaker', 'system', 'Front', 'Speaker', 'Units', 'Tweeter', '0.98', 'in', 'dome', 'type', 'x', '1', 'Front', 'Speaker', 'Units', 'Woofer', '5.12', 'in', 'cone', 'type', 'x', '2', 'Frequency', 'Response', '45', 'Hz–50', 'kHz', 'Dimensions', 'W', 'x', 'H', 'x', 'D', '9.05', 'x', '36.30', 'x', '10.24', 'in', 'Weight', '25.35', 'lb', 'features', 'High-Resolution', 'Audio', 'for', 'uncompromising', 'sound', 'Super', 'tweeters', 'expand', 'your', 'soundstage']\n",
      "\n",
      "['e9a93c2e-e9f5-46e7-a691-05fdf6fcaadd', 'name', 'XE200', 'Portable', 'Bluetooth', 'Speaker', 'link', 'https', '//electronics.sony.com/audio/speakers/c/all-speakers/audio/speakers/wireless-speakers/p/srsxe200-bz', 'price', '$', '129.99', 'specification', 'Speaker', 'type', 'full', 'range', 'Line-Shape', 'Diffuser', 'Sound', 'Modes', 'Yes', '360', 'Reality', 'Audio', 'No', 'LIVE', 'SOUND', 'Yes', 'Line-Shape', 'Diffuser', 'Yes', 'X-Balanced', 'Speaker', 'Unit', 'Yes', 'Passive', 'Radiator', 'Yes', 'Mega', 'Bass', 'No', 'Communication', 'System', 'Version', '5.2', 'FREQUENCY', 'RANGE', '2.4GHz', 'Compatible', 'Profiles', 'Yes', 'Frequency', 'Transmission', 'Range', '20', 'Hz', '-', '20', '000', 'Hz', '44.1', 'kHz', 'sampling', 'Bluetooth®', 'Codecs', 'Support', 'SBC', 'AAC', 'LDAC', 'Power', 'Consumption', 'Approx.7.5W', 'Battery', 'Life', 'Approx', '.', '16H', 'Water', 'Protection', 'IP67', 'Power', 'Supply', 'DC', 'Lighting', 'No', 'Portability', 'Yes', 'Echo', 'Canceling', 'Yes', 'Quick', 'Charge', 'Yes', 'Built-in', 'microphone', 'Hands', 'Free', 'Calling', 'Yes', 'Power', 'Consumption', 'Standby', 'Mode', 'Approx.0.3W', 'COMPATIBLE', 'SMARTPHONE', 'APPS', 'Sony', 'Music', 'Center', 'Party', 'Chain', 'Yes', 'Dimensions', 'W', 'x', 'H', 'x', 'D', 'Approx', '.', '90mm', 'x', '208mm', 'x', '94mm', 'Weight', 'Approx', '.', '800g', 'USB', 'Type-C™', 'Yes', 'USB', 'Power', 'port', 'for', 'smartphone', 'No', 'features', 'Portable', 'wide', 'sound', 'goes', 'anywhere', 'Life', 'should', 'be', 'lived', 'at', 'full', 'volume']\n",
      "\n",
      "['4c67d0f5-3d57-4ddd-b605-68565c5efe5a', 'name', 'ULT', 'POWER', 'SOUND', 'series', '|', 'ULT', 'FIELD', '7', 'Wireless', 'Portable', 'Speaker', 'link', 'https', '//electronics.sony.com/audio/speakers/c/all-speakers/audio/speakers/party-speakers/p/srsult70', 'price', '$', '399.99', 'specification', 'COMPATIBLE', 'SMARTPHONE', 'APPS', 'Sony', 'Music', 'Center/Fiestable', 'Bluetooth®', 'Technology', 'Ver', '.', '5.2', 'FREQUENCY', 'RANGE', '2.4', 'GHz', 'Compatible', 'Profiles', 'AVRCP', 'SPP', 'Supported', 'Codecs', 'AAC', 'LDAC', 'Frequency', 'Transmission', 'Range', '20', 'Hz', '-', '20', '000', 'Hz', '44.1', 'kHz', 'sampling', 'Power', 'Consumption', 'Standby', 'Mode', '2', 'W', 'or', 'less', 'Power', 'Consumption', 'Approx', '.', '45', 'W', 'Battery', 'Life', 'Approx.30', 'H', 'Water', 'Protection', 'IP67', 'Power', 'Supply', 'AC', 'Input', 'and', 'Output', 'Terminals', 'Stereo', 'Mini', 'Jack', 'IN', 'YES', '\\\\nUSB', 'A', 'YES', '\\\\nGuitar/MIC', 'Input', 'YES', 'Dimensions', 'W', 'x', 'H', 'x', 'D', 'Approx', '.', '512', 'mm', 'x', '224', 'mm', 'x', '222', 'mm', 'Weight', 'Approx', '.', '6.3', 'kg', 'Speaker', 'type', 'Woofer', 'L/R', '/Tweeter', 'L/R', 'Diameter', 'of', 'Speaker', 'Unit', 'Tweeter', 'Approx', '.', '46', 'mm', 'Diameter/Size', 'of', 'Speaker', 'Unit', 'woofer', 'Approx', '.', '114-114', 'mm', 'SUPPLIED', 'ACCESSORIES', 'AC', 'Power', 'Cord', 'features', 'Bring', 'the', 'party', 'anywhere', '.', 'Massive', 'bass', '.', 'Ultimate', 'vibe', '.']\n",
      "\n",
      "['31383b71-b8ef-46f6-948f-ad3fe6f3e5d3', 'name', 'HT-AX7', 'Portable', 'Theater', 'System', 'with', '360', 'Spatial', 'Sound', 'Mapping', 'link', 'https', '//electronics.sony.com/audio/speakers/c/all-speakers/audio/speakers/all-speakers/p/htax7', 'price', '$', '499.99', 'specification', 'Bluetooth®', 'Receiver', 'AAC', 'SBC', 'USB', 'WAV', 'MP3', 'WMA', 'Battery', 'Life', 'Approx', '.', '30', 'hours', 'Charge', 'Time', 'Front', 'Speaker', 'Approx', '.', '4', 'hours', 'Rear', 'Speaker', 'Approx', '.', '4.5', 'hours', 'Play', 'Time', 'in', '10', 'min', 'Quick', 'Charge', 'Approx', '.', '150', 'minutes', 'Sound', 'Effect', 'Night', 'Mode', 'Voice', 'Mode', 'Sound', 'Mode', 'Sound', 'Field', 'Virtual', 'Surround', 'Technology', '360', 'Spatial', 'Sound', 'Mapping', 'Amplifier', 'Type', 'S-Master', 'Power', 'Consumption', 'Front', 'Speaker', 'Approx', '.', '45', 'W', 'Power', 'Consumption', 'Rear', 'Speaker', 'Approx', '.', '3', 'W', 'Bluetooth®', 'version', 'Bluetooth®', 'version', '5.2', 'Bluetooth®', 'Compatible', 'Profiles', 'A2DP', 'AVRCP', 'HFP', 'HSP', 'SPP', 'Front', 'Speaker', 'size', 'W', 'X', 'H', 'X', 'D', '12.04', 'x', '3.81', 'x', '4.84', 'Front', 'Speaker', 'Weight', '3.09', 'lb', 'Rear', 'speaker', 'size', 'W', 'X', 'H', 'X', 'D', '4.8', 'x', '1.53', 'x', '4.8', 'Rear', 'Speaker', 'Weight', '0.65', 'lb', 'Rear', 'Speakers', 'on', 'Front', 'Speaker', 'size', 'W', 'X', 'H', 'X', 'D', '12.04', 'x', '5.24', 'x', '4.84', 'Rear', 'Speakers', 'on', 'Front', 'Speaker', 'Weight', '4.41', 'lb', 'features']\n",
      "\n",
      "['53dabd7a-f667-4a41-8fcb-a011bd7df4f7', 'name', 'XG300', 'MEGA', 'BASS™', 'Portable', 'Bluetooth®', 'Wireless', 'Speaker', 'link', 'https', '//electronics.sony.com/audio/speakers/c/all-speakers/audio/speakers/wireless-speakers/p/srsxg300-bz', 'price', '$', '199.99', 'specification', 'Speaker', 'type', 'Woofer', 'L/R', '/Tweeter', 'L/R', 'Speaker', 'Size', 'Approx.61mm×68mm', 'Sound', 'Modes', 'Yes', 'LIVE', 'SOUND', 'Yes', '360', 'Reality', 'Audio', 'No', 'Line-Shape', 'Diffuser', 'No', 'X-Balanced', 'Speaker', 'Unit', 'Yes', 'Passive', 'Radiator', 'Yes', 'Mega', 'Bass', 'Yes', 'Communication', 'System', 'Version', '5.2', 'FREQUENCY', 'RANGE', '2.4GHz', 'Compatible', 'Profiles', 'Yes', 'Frequency', 'Transmission', 'Range', '20', 'Hz', '-', '20', '000', 'Hz', '44.1', 'kHz', 'sampling', 'Bluetooth®', 'Codecs', 'Support', 'SBC', 'AAC', 'LDAC', 'Input', 'and', 'Output', 'Terminals', 'Yes', 'Only', 'for', 'DC', 'OUT', 'Power', 'Consumption', 'Approx', '.', '17W', 'Battery', 'Life', 'approx.25H', 'Water', 'Protection', 'IP67', 'Power', 'Supply', 'DC+AC', 'Adaptor', 'Lighting', 'Yes', 'Portability', 'Yes', 'Echo', 'Canceling', 'Yes', 'Quick', 'Charge', 'Yes', 'Stereo', 'Mini', 'Jack', 'IN', 'Yes', 'Built-in', 'microphone', 'Hands', 'Free', 'Calling', 'Yes', 'Power', 'Consumption', 'Standby', 'Mode', 'Approx', '.', '0.3W', 'COMPATIBLE', 'SMARTPHONE', 'APPS', 'Sony', 'Music', 'Center/Fiestable', 'Party', 'Chain', 'Yes', 'Dimensions', 'W', 'x', 'H', 'x', 'D', 'Approx', '.', '318mm×138mm×136mm', 'Weight', 'Approx', '.', '3', 'kg', 'Whats', 'In', 'The', 'Box', 'Yes', 'USB', 'Type-C™', 'Yes', 'USB', 'Power', 'port', 'for', 'smartphone', 'Yes', 'features', 'Power', 'meets', 'portability', 'Life', 'should', 'be', 'lived', 'at', 'full', 'volume']\n",
      "\n",
      "['b92e08aa-9b6d-4a58-8dfb-be16a406c21b', 'name', 'XP700', 'Portable', 'Bluetooth®', 'Wireless', 'Party', 'Speaker', 'link', 'https', '//electronics.sony.com/audio/speakers/c/all-speakers/audio/speakers/wireless-speakers/p/srsxp700', 'price', '$', '549.99', 'specification', 'Speaker', 'Size', 'Diameter', 'of', 'Speaker', 'Unit', 'Tweeter', 'front', '6cm', 'x', '3', 'rear', '5cm', 'x', '1', 'Diameter', 'of', 'Speaker', 'Unit', 'woofer', '17cm', 'x', '2', 'Sound', 'Modes', 'Clear', 'Audio+', 'DSEE', 'LIVE', 'SOUND', 'Omnidirectional', 'Party', 'Sound', 'LIVE', 'SOUND', 'Yes', '360', 'Reality', 'Audio', 'No', 'Line-Shape', 'Diffuser', 'No', 'X-Balanced', 'Speaker', 'Unit', 'Yes', 'Passive', 'Radiator', 'Yes', 'Mega', 'Bass', 'Yes', 'Dimensions', 'W', 'x', 'H', 'x', 'D', '313x693x367', 'mm', 'Weight', '16.9', 'kg', 'Input', 'and', 'Output', 'Terminals', 'Stereo', 'Mini', 'Jack', 'IN', 'USB', 'A', 'Mic', 'Input', 'Guitar', 'Input', 'Battery', 'Life', '25', 'HOURS', 'Water', 'Protection', 'IPX4', 'Power', 'Supply', 'Internal', 'rechargeable', 'Lighting', 'Yes', 'Portability', 'Yes', 'Echo', 'Canceling', 'No', 'Quick', 'Charge', 'Yes', 'Stereo', 'Mini', 'Jack', 'IN', 'Yes', 'USB', 'Type-C™', 'No', 'USB', 'Power', 'port', 'for', 'smartphone', 'Yes', 'Party', 'Chain', 'Yes', 'Bluetooth®', 'Codecs', 'Support', 'SBC', 'AAC', 'LDAC', 'features']\n",
      "\n",
      "['ac08c5d5-4e79-40a1-9b71-54ea676a5dc0', 'name', 'SS-CSE', 'Dolby', 'Atmos®', 'Enabled', 'Speakers', 'link', 'https', '//electronics.sony.com/audio/speakers/c/all-speakers/audio/speakers/home-theater-speakers/p/sscse', 'price', '$', '199.99', 'specification', 'Enabled', 'Speaker', 'Cabinet', 'Material', 'Wood', 'Enabled', 'Speaker', 'Characteristic', 'Sensitivity', 'Level', '86', 'dB', '2.83', 'V', '1', 'm', 'Enabled', 'Speaker', 'Enclosure', 'Type', 'Acoustic', 'Suspension', 'Enabled', 'Speaker', 'Full', 'Range', '3.94', 'cone', 'type', 'x', '1', 'Enabled', 'Speaker', 'Grille', 'net', 'Detachable/Cloth', 'Enabled', 'Speaker', 'Input', 'Terminal', 'Push', 'type', 'speaker', 'terminal', 'Enabled', 'Speaker', 'Magnetically', 'Shielded', 'type', 'No', 'Enabled', 'Speaker', 'Maximum', 'Input', 'Power', '100', 'W', 'Enabled', 'Speaker', 'Rated', 'Impedance', '6', 'ohms', 'Enabled', 'Speaker', 'System', 'Full', 'range', 'speaker', 'system', 'Dolby', 'Atmos®', 'Enabled', 'Speaker', '2', 'Frequency', 'Response', '70', 'Hz', '–', '32', '000', 'Hz', 'Conforms', 'to', 'Dolby', 'Atmos®', 'Specification', 'Dimensions', 'W', 'x', 'H', 'x', 'D', 'Approx', '.', '7-1/8', '×', '5-3/4', '×', '7-1/8', '178', 'mm', 'x', '145', 'mm', 'x', '180', 'mm', 'without', 'speaker', 'terminal/including', 'grill', 'Weight', 'Approx', '.', '6', 'lb', '10', 'oz', '3', 'kg', 'features', 'Dolby', 'Atmos®', 'Immersive', 'surround', 'sound']\n",
      "\n",
      "['18f096c9-30c4-4263-99bc-c53b939fc600', 'name', 'XV500', 'X-Series', 'Wireless', 'Party', 'Speaker', 'link', 'https', '//electronics.sony.com/audio/speakers/c/all-speakers/audio/speakers/all-speakers/p/srsxv500', 'price', '$', '399.99', 'specification', 'COMPATIBLE', 'SMARTPHONE', 'APPS', 'Sony', 'Music', 'Center/Fiestable', 'Communication', 'System', 'Bluetooth®', 'Technology', 'Ver.5.2', 'FREQUENCY', 'RANGE', '2.4', 'GHz', 'Compatible', 'Profiles', 'Interface', 'A2DP', 'Yes', 'Supported', 'Codecs', 'Yes', 'Frequency', 'Transmission', 'Range', '20', 'Hz', '-', '20', '000', 'Hz', '44.1', 'kHz', 'sampling', 'Power', 'Consumption', 'Standby', 'Mode', '2', 'W', 'or', 'less', 'Power', 'Consumption', 'Approx', '.', '55', 'W', 'Battery', 'Life', 'Approx', '.', '25', 'H', 'Water', 'Protection', 'IPX4', 'Power', 'Supply', 'AC', 'Input', 'and', 'Output', 'Terminals', 'USB', 'A', 'Dimensions', 'W', 'x', 'H', 'x', 'D', 'Approx', '.', '269', 'mm', 'x', '564', 'mm', 'x', '294', 'mm', 'Weight', 'Approx', '.', '11.2', 'kg', 'Speaker', 'type', 'Woofer', 'L/R', '/Tweeter', 'L/R', 'Speaker', 'Size', 'Approx', '.', '140-140', 'mm', 'Sound', 'Modes', 'Clear', 'Audio+', 'Yes', 'Sound', 'Modes', 'DSEE', 'Yes', 'Sound', 'Modes', 'LIVE', 'SOUND', 'Yes', 'SUPPLIED', 'ACCESSORIES', 'AC', 'Power', 'Cord', 'features', 'XV500', 'Travel', 'Backpack']\n",
      "\n",
      "['c011fcea-5d3f-4923-9ca5-a938e31f04f1', 'name', 'SS-CS8', 'Center', 'Channel', 'Speaker', 'link', 'https', '//electronics.sony.com/audio/speakers/c/all-speakers/audio/speakers/home-theater-speakers/p/sscs8', 'price', '$', '169.99', 'specification', 'Center', 'Speaker', 'Finish', 'Cloth', 'grille', 'PP', 'sheet', 'cabinet', 'Center', 'Speaker', 'Maximum', 'Input', 'Power', '145\\\\xa0W', 'Center', 'Speaker', 'Model', 'name', 'SS-CS8', 'Center', 'Speaker', 'Rated', 'Impedance', '6', 'ohms', 'Center', 'Speaker', 'System', '2-way', '3-driver', 'speaker', 'system', 'Center', 'Speaker', 'Type', 'Bass', 'reflex', 'Center', 'Speaker', 'Units', 'Tweeter', '0.98', 'in', 'dome', 'type', 'x', '1', 'Center', 'Speaker', 'Units', 'Woofer', '3.94', 'in', 'cone', 'type', 'x', '1', 'Center', 'Speaker', '1', 'Frequency', 'Response', '55', 'Hz–25', 'kHz', 'Dimensions', 'W', 'x', 'H', 'x', 'D', '16.93', 'x', '5.75', 'x', '8.66', 'in', 'Weight', '11.02', 'lbs', 'features']\n",
      "\n",
      "['41c06a60-ef19-4310-8469-fd1732bd1a32', 'name', 'ULT', 'POWER', 'SOUND', 'series', '|', 'ULT', 'TOWER', '10', 'Party', 'Speaker', 'link', 'https', '//electronics.sony.com/audio/speakers/c/all-speakers/audio/speakers/all-speakers/p/srsult1000', 'price', '$', '1', '199.99', 'specification', 'Speaker', 'type', 'Woofer/Mid', 'L/R', '/Tweeter', 'L/R', 'Speaker', 'Size', 'Approx', '.', '320-320', 'mm', 'Communication', 'System', 'Ver.5.2', 'FREQUENCY', 'RANGE', '2.4', 'GHz', 'Compatible', 'Profiles', 'Interface', 'A2DP', 'Yes', 'Supported', 'Codecs', 'Supported', 'Audio', 'Format', 's', 'SBC', 'Yes', 'Frequency', 'Transmission', 'Range', '20', 'Hz', '-', '20', '000', 'Hz', '44.1', 'kHz', 'sampling', 'Input', 'and', 'Output', 'Terminals', 'Stereo', 'Mini', 'Jack', 'IN', 'Yes', '\\\\nUSB', 'A', 'Yes', '\\\\nOptical', 'Digital', 'Input', 'Yes', 'Power', 'Consumption', 'Approx', '.', '139', 'W', 'Water', 'Protection', 'Splashproof', 'top', 'surface', 'Power', 'Supply', 'AC', 'Power', 'Consumption', 'Standby', 'Mode', '2', 'W', 'or', 'less', 'COMPATIBLE', 'SMARTPHONE', 'APPS', 'Sony', 'Music', 'Center/Fiestable', 'Dimensions', 'W', 'x', 'H', 'x', 'D', 'Approx', '.', '418', 'mm', 'x', '1106', 'mm', 'x', '428', 'mm', 'Weight', 'Approx', '.', '29', 'kg', 'SUPPLIED', 'ACCESSORIES', 'Optical', 'Cable', '\\\\nAC', 'Power', 'Cord', '\\\\nWireless', 'Microphone', 'features', 'The', 'power', 'of', 'live-venue', 'sound', 'in', 'your', 'home', 'Massive', 'bass', '.', 'Ultimate', 'vibe', '.']\n",
      "\n",
      "['5f51d557-c762-4a3a-b160-f7aae4e9c5e5', 'name', 'SRS-NB10', 'Wireless', 'Neckband', 'Speaker', '|', 'Gray', 'link', 'https', '//electronics.sony.com/audio/speakers/c/all-speakers/audio/speakers/wearable-speakers/p/srsnb10-h', 'price', '$', '149.99', 'specification', 'Speaker', 'type', 'Full', 'Range', 'Dimensions', 'W', 'x', 'H', 'x', 'D', 'Approx.191mmx49mmx185mm', 'Weight', 'Approx.113g', 'Communication', 'System', 'Version', '5.1', 'Max', '.', 'Communication', 'Range', '30m', 'Compatible', 'Profiles', 'A2DP/AVRCP/HFP/HSP', 'Supported', 'Codecs', 'SBC', 'AAC', 'Frequency', 'Transmission', 'Range', '20', 'Hz', '-', '20', '000', 'Hz', 'Sampling', 'frequency', '44.1', 'kHz', 'Battery', 'Life', 'Approx', '.', '20H', 'Power', 'Supply', 'Internal', 'rechargeable', 'battery', 'Built-in', 'microphone', 'Hands', 'Free', 'Calling', 'Yes', 'Input', 'and', 'Output', 'Terminals', 'USB', 'Type-C®', 'Color', 'Options', 'Charcoal', 'Gray', 'In', 'the', 'Box', 'USB', 'Type-C®', 'features']\n",
      "\n",
      "['0a3d9ff2-de3f-451f-a729-7d76a8bc78f0', 'name', 'ULT', 'POWER', 'SOUND', 'series', '|', 'ULT', 'FIELD', '1', 'Wireless', 'Portable', 'Speaker', '|', 'Black', 'link', 'https', '//electronics.sony.com/audio/speakers/c/all-speakers/audio/speakers/all-speakers/p/srsult10-b', 'price', '$', '99.99', 'specification', 'Speaker', 'type', 'Woofer/Tweeter', 'Diameter', 'of', 'Speaker', 'Unit', 'Tweeter', 'Approx', '.', 'Φ', '16', 'mm', 'Diameter/Size', 'of', 'Speaker', 'Unit', 'woofer', 'Approx', '.', '83X42', 'mm', 'Communication', 'System', 'Version', '5.3', 'FREQUENCY', 'RANGE', '2.4', 'GHz', 'Compatible', 'Profiles', 'A2DP', 'AVRCP', 'HFP', 'HSP', 'SPP', 'Supported', 'Codecs', 'SBC', 'AAC', 'Frequency', 'Transmission', 'Range', '20', 'Hz', '-', '20', '000', 'Hz\\\\n', '44.1', 'kHz', 'sampling', 'Hands-Free', 'Function', 'Yes', 'Power', 'Consumption', 'Approx', '.', '7.5', 'W\\\\n', 'at', '5', 'V', '1.5', 'A', 'Battery', 'Life', 'Approx', '.', '12', 'H', 'Water', 'Protection', 'IP67', 'Power', 'Supply', 'DC', 'COMPATIBLE', 'SMARTPHONE', 'APPS', 'Sony', 'Music', 'Center', 'Dimensions', 'W', 'x', 'H', 'x', 'D', 'Approx', '.', '206x77x76', 'mm', 'Weight', 'Approx', '.', '650', 'g', 'USB', 'Type-C®', 'Cable¹¹', 'Yes', 'A', 'to', 'C', 'Strap', 'belt', 'Yes', 'features', 'Big', 'sound', '.', 'Compact', 'design', '.', 'Massive', 'bass', '.', 'Ultimate', 'vibe', '.']\n",
      "\n",
      "['1243314f-c216-45fc-a54c-5e0cdf520d4b', 'name', 'XV800', 'X-series', 'Wireless', 'Party', 'Speaker', 'link', 'https', '//electronics.sony.com/audio/speakers/c/all-speakers/audio/speakers/party-speakers/p/srsxv800', 'price', '$', '649.99', 'specification', 'Speaker', 'type', '2-way', 'bass', 'reflex', 'Speaker', 'Size', 'Diameter/Size', 'of', 'Speaker', 'Unit', 'woofer', 'Approx', '.', '170-170mm', 'Sound', 'Modes', 'LIVE', 'SOUND', 'LIVE', 'SOUND', 'Yes', '360', 'Reality', 'Audio', 'No', 'Line-Shape', 'Diffuser', 'No', 'X-Balanced', 'Speaker', 'Unit', 'Yes', 'Passive', 'Radiator', 'No', 'Mega', 'Bass', 'Yes', 'Communication', 'System', 'Ver.5.2', 'FREQUENCY', 'RANGE', '2.4GHz', 'Compatible', 'Profiles', 'Interface', 'A2DP', 'Yes', 'Frequency', 'Transmission', 'Range', '20', 'Hz', '-', '20', '000', 'Hz', '44.1', 'kHz', 'sampling', 'Bluetooth®', 'Codecs', 'Suport', 'SBC', 'AAC', 'LDAC', 'Input', 'and', 'Output', 'Terminals', 'Optical', 'Digital', 'Input', 'Power', 'Consumption', 'Approx', '.', '77W', 'Battery', 'Life', 'Approx.25H', 'Water', 'Protection', 'IPX4', 'when', 'placed\\\\nvertically', '\\\\nIPX2', 'when', 'placed', 'horizontally', 'Power', 'Supply', 'AC', 'Lighting', 'Yes', 'Portability', 'Yes', 'Echo', 'Canceling', 'No', 'Stereo', 'Mini', 'Jack', 'IN', 'Yes', 'Quick', 'Charging', 'Yes', 'Power', 'Consumption', 'Standby', 'Mode', 'Approx', '.', '2W', 'COMPATIBLE', 'SMARTPHONE', 'APPS', 'Sony', 'Music', 'Center/Fiestable', 'Party', 'Connect', 'Yes', 'Dimensions', 'W', 'x', 'H', 'x', 'D', 'Approx', '.', '317mm×720mm×375mm', 'Weight', 'Approx', '18.5', 'kg', 'USB', 'Power', 'port', 'for', 'smartphone', 'Yes', 'USB', 'Type-C®', 'No', 'SUPPLIED', 'ACCESSORIES', 'Optical', 'Cable', '\\\\nAC', 'Power', 'Cord', 'features']\n",
      "\n",
      "['95046899-9ef6-4205-9adb-55731ba6f94b', 'name', 'RA3000', 'Wi-Fi', 'Enabled', '360', 'Reality', 'Audio', 'Speaker', '|', 'Black', 'link', 'https', '//electronics.sony.com/audio/speakers/c/all-speakers/audio/speakers/360-reality-audio/p/srsra3000-b', 'price', '$', '399.99', 'specification', 'Compatible', 'Profiles', 'A2DP', 'AVRCP', 'Absolute', 'Volume', 'SPP', 'Supported', 'Codecs', 'SBC', 'AAC', 'Power', 'Consumption', '20W', 'Input', 'and', 'Output', 'Terminals', 'Audio', 'in', '3.5', 'mm', 'Dimensions', 'W', 'x', 'H', 'x', 'D', '5', '3/4', 'x', '9', '3/4', 'x', '6', '1/8', 'inches', 'Weight', '5', '1/2', 'lb', '360', 'Reality', 'Audio', 'Yes', 'Auto', 'sound', 'calibration', 'Yes', 'Auto', 'volume', 'Yes', 'ON/OFF', 'Custom', 'EQ', 'Yes', 'Digital', 'Sound', 'Enhancement', 'Engine', 'Yes', 'Immersive', 'Audio', 'Enhancement', 'Yes', 'Number', 'of', 'Speaker', 'Tweeter', 'Unit', '2', 'Full-range', '1', 'Passive', 'Radiator', '2', 'Preset', 'EQ', 'Yes', 'OFF/BASS/EXCITED/BRIGHT/VOCAL', 'Speaker', 'Size', 'Tweeter', 'Unit', '11/16', 'Full-range', '3', '1/8', 'Passive', 'Radiator', '4', 'x', '1', '1/2', '360RAcast', 'Yes', 'Chromecast', 'built-in', 'Yes', 'Wi-Fi', 'Specifications', '11a', '11b', '11g', '11n', 'Chromecast', 'built-in', 'Yes', 'Spotify', 'Connect', 'Yes', 'Works', 'with', 'Alexa', 'Yes', 'Works', 'with', 'Google', 'Assistant', 'Yes', 'features']\n",
      "\n",
      "['2fa1c8f6-a768-4ea0-9384-98c9968cbe74', 'name', 'LinkBuds', 'Portable', 'Wireless', 'Speaker', '|', 'Black', 'link', 'https', '//electronics.sony.com/audio/speakers/c/all-speakers/audio/speakers/all-speakers/p/srsls1-b', 'price', '$', '179.99', 'specification', 'Speaker', 'type', 'Woofer', '/', 'Tweeter', 'Number', 'of', 'Speaker', 'Tweeter', 'Unit', '1', '\\\\nWoofer', 'Unit', '1', 'Speaker', 'Size', 'Tweeter', 'Unit', 'Approx', '.', 'Φ', '16', 'mm', '\\\\nWoofer', 'Unit', 'Approx', '.', '48x56', 'mm', 'Sound', 'Modes', 'Volume', 'Step', '50', 'DSEE', 'custom', 'EQ', 'band', '5', 'X-Balanced', 'Speaker', 'Unit', 'Woofer', 'Unit', 'Dimensions', 'W', 'x', 'H', 'x', 'D', 'Approx', '.', '84x110x90', 'mm', 'Weight', 'Approx', '.', '520', 'g', 'Hands-Free', 'Function', 'Yes', 'Input', 'and', 'Output', 'Terminals', 'USB', 'Type-C®', '*', 'Charge', 'only', '\\\\n', '*', 'USB', 'Type-C®', 'and', 'USB-C®', 'are', 'registered', 'trademarks', 'of', 'USB', 'Implementers', 'Forum', '.', 'COMPATIBLE', 'SMARTPHONE', 'APPS', 'Sony', '|', 'Sound', 'Connect', 'Battery', 'Life', 'Approx', '.', '25', 'H', 'Power', 'Consumption', 'Approx', '.', '7.5', 'W', 'at', '5', 'V', '1.5', 'A', 'Water', 'Protection', 'IPX4', 'Power', 'Supply', 'DC', '5V', 'Internal', 'rechargeable', 'USB', 'Type-C®', 'Power', 'Consumption', 'Standby', 'Mode', 'Approx', '.', '0.3', 'W', 'Communication', 'System', 'Version', '5.2', 'Compatible', 'Profiles', 'A2DP', 'AVRCP', 'HFP', 'HSP', 'SPP', 'SPEAKER', 'ADD', 'FUNCTION', 'Stereo', 'Pair', 'Seamless', 'Connection', 'Auto', 'Switch', 'Auto', 'Play', 'Quick', 'Access', 'Supported', 'Codecs', 'SBC', 'AAC', 'Frequency', 'Transmission', 'Range', '20', 'Hz', '-', '20', '000', 'Hz', '44.1', 'kHz', 'sampling', 'FREQUENCY', 'RANGE', '2.4', 'GHz', 'SUPPLIED', 'ACCESSORIES', 'Battery', 'Charge', 'Cradle\\\\nStrap', 'belt\\\\nUSB', 'Type-C®', 'Cable', 'A', 'to', 'C', '*', '\\\\n', '*', 'USB', 'Type-C®', 'and', 'USB-C®', 'are', 'registered', 'trademarks', 'of', 'USB', 'Implementers', 'Forum', '.', 'features', 'Keep', 'every', 'world', 'on']\n",
      "\n",
      "['8b077574-806c-45dc-89ad-6f5bbfb20b1c', 'name', 'BRAVIA', 'Theater', 'U', 'Wearable', 'TV', 'Speaker', 'link', 'https', '//electronics.sony.com/audio/speakers/c/all-speakers/audio/speakers/wearable-speakers/p/htan7', 'price', 'Price', 'not', 'found', 'specification', 'Speaker', 'type', 'Full', 'Range', 'Sound', 'Modes', 'Yes', 'Communication', 'System', 'Version', '5.2', 'FREQUENCY', 'RANGE', '2.4GHz', 'band', 'Compatible', 'Profiles', 'Yes', 'Supported', 'Codecs', 'Yes', 'Frequency', 'Transmission', 'Range', '20', 'Hz', '-', '20', '000', 'Hz', '44.1', 'kHz', 'sampling', 'Hands-Free', 'Function', 'Yes', 'Power', 'Consumption', '5W', '*', 'Charging', 'Battery', 'Life', 'Approx', '.', '12h', 'Water', 'Protection', 'IPX4', 'Power', 'Supply', 'DC', 'COMPATIBLE', 'SMARTPHONE', 'APPS', 'Sony', 'Headphones', 'connect\\\\n360', 'Spatial', 'Sound', 'Personalizer', 'Dimensions', 'W', 'x', 'H', 'x', 'D', 'Approx', '235mmx48mmx178mm', '9.25', 'x', '1.88', 'x', '7.00', 'Weight', 'Approx', '268g', '9.45oz', 'SUPPLIED', 'ACCESSORIES', 'Dedicated', 'audio', 'adaptor', '+\\\\nDedicated', 'audio', 'cable', 'features']\n",
      "\n",
      "['fc527bdb-afd1-4eba-afd8-98d238edd4ed', 'name', 'XP500', 'Portable', 'Bluetooth®', 'Wireless', 'Party', 'Speaker', 'link', 'https', '//electronics.sony.com/audio/speakers/c/all-speakers/audio/speakers/wireless-speakers/p/srsxp500', 'price', '$', '399.99', 'specification', 'Speaker', 'Size', 'Diameter', 'of', 'Speaker', 'Unit', 'Tweeter', '5cm', 'x', '2', 'Diameter', 'of', 'Speaker', 'Unit', 'woofer', '14cm', 'x', '2', 'Sound', 'Modes', 'Clear', 'Audio+', 'DSEE', 'LIVE', 'SOUND', 'LIVE', 'SOUND', 'Yes', '360', 'Reality', 'Audio', 'No', 'Line-Shape', 'Diffuser', 'No', 'X-Balanced', 'Speaker', 'Unit', 'Yes', 'Passive', 'Radiator', 'Yes', 'Mega', 'Bass', 'Yes', 'Dimensions', 'W', 'x', 'H', 'x', 'D', '275x572x295', 'mm', 'Weight', '11.2', 'kg', 'Input', 'and', 'Output', 'Terminals', 'Stereo', 'Mini', 'Jack', 'IN', 'USB', 'A', 'Mic', 'Input', 'Guitar', 'Input', 'Battery', 'Life', '20', 'HOURS', 'Water', 'Protection', 'IPX4', 'Power', 'Supply', 'Internal', 'rechargeable', 'Lighting', 'Yes', 'Portability', 'Yes', 'Echo', 'Canceling', 'No', 'Quick', 'Charge', 'Yes', 'Stereo', 'Mini', 'Jack', 'IN', 'Yes', 'USB', 'Type-C™', 'No', 'USB', 'Power', 'port', 'for', 'smartphone', 'Yes', 'AC', 'power', 'adaptor', 'AC', 'Power', 'Cord', 'Party', 'Chain', 'Yes', 'Bluetooth®', 'Codecs', 'Support', 'SBC', 'AAC', 'LDAC', 'features']\n",
      "\n",
      "Speakers :  2644\n",
      "10165\n"
     ]
    }
   ],
   "source": [
    "total = 0\n",
    "for fold in [\"Headphones\", \"Soundbars\", \"Speakers\"]:\n",
    "    fold_count = 0\n",
    "    for fn in os.listdir(os.path.join(\"./Corpus/\", fold))[:20]:\n",
    "        file_path = os.path.join(\"./Corpus/\", fold, fn)\n",
    "        d =  read_file(file_path)\n",
    "        # del d[fn.strip(\".json\")][\"features\"]\n",
    "        del d[fn.strip(\".json\")][\"about_us\"]\n",
    "        del d[fn.strip(\".json\")][\"emi\"]\n",
    "\n",
    "        features = []\n",
    "        for feat,v in d[fn.strip(\".json\")][\"features\"].items():\n",
    "            if feat == \"All features\":\n",
    "                continue\n",
    "            features.append(feat)\n",
    "        d[fn.strip(\".json\")][\"features\"] = features[:2]\n",
    "\n",
    "        spec = []\n",
    "        try:\n",
    "            for sp,v in d[fn.strip(\".json\")][\"specification\"].items():\n",
    "                spec.extend(v)\n",
    "            d[fn.strip(\".json\")][\"specification\"] = spec\n",
    "        except:\n",
    "            continue\n",
    "\n",
    "\n",
    "\n",
    "        write_path = os.path.join(\"./Final_Corpus/\", fold, fn)\n",
    "        with open(write_path, 'w') as f:\n",
    "            json.dump(d, f, ensure_ascii=False, indent=4)\n",
    "        \n",
    "\n",
    "\n",
    "        tokens = tokenize(d)\n",
    "        tokens = [t for t in tokens]\n",
    "        fold_count += len(tokens)\n",
    "        print()\n",
    "    \n",
    "    total+= fold_count\n",
    "    print(fold, \": \", fold_count)\n",
    "\n",
    "print(total)"
   ]
  },
  {
   "cell_type": "code",
   "execution_count": 40,
   "metadata": {},
   "outputs": [],
   "source": [
    "import os\n",
    "import openai\n",
    "\n",
    "openai.api_key = \"\""
   ]
  },
  {
   "cell_type": "code",
   "execution_count": 41,
   "metadata": {},
   "outputs": [],
   "source": [
    "content = \"\"\"\n",
    "context : \n",
    "\n",
    "Joseph Vissarionovich Stalin[f] (born Dzhugashvili;[g] 18 December [O.S. 6 December] 1878 – 5 March 1953) was a Soviet politician and \n",
    "revolutionary who led the Soviet Union from 1924 until his death in 1953. He held power as General Secretary of the Communist Party \n",
    "from 1922 to 1952 and as Chairman of the Council of Ministers from 1941 until his death. Initially governing as part of a collective \n",
    "leadership, Stalin consolidated power to become a dictator by the 1930s. He codified his Leninist interpretation of Marxism as \n",
    "Marxism–Leninism, while the totalitarian political system he established became known as Stalinism.\n",
    "\n",
    "----\n",
    "\n",
    "question:\n",
    "when was stalin born?\n",
    "\"\"\""
   ]
  },
  {
   "cell_type": "code",
   "execution_count": 42,
   "metadata": {},
   "outputs": [],
   "source": [
    "response = openai.chat.completions.create(\n",
    "    model=\"gpt-3.5-turbo\",  # or \"gpt-4\"\n",
    "    messages=[\n",
    "        {\"role\": \"system\", \"content\": \"Given context answer the question\"},\n",
    "        {\"role\": \"user\", \"content\": content}\n",
    "    ]\n",
    ")\n",
    "\n",
    "# print(response['choices'][0]['message']['content'])"
   ]
  },
  {
   "cell_type": "code",
   "execution_count": 43,
   "metadata": {},
   "outputs": [
    {
     "name": "stdout",
     "output_type": "stream",
     "text": [
      "ChatCompletion(id='chatcmpl-AcJTV6EWUX25XzMQRLw2fIk9plPPL', choices=[Choice(finish_reason='stop', index=0, logprobs=None, message=ChatCompletionMessage(content='Stalin was born on December 18, 1878.', refusal=None, role='assistant', audio=None, function_call=None, tool_calls=None))], created=1733694689, model='gpt-3.5-turbo-0125', object='chat.completion', service_tier=None, system_fingerprint=None, usage=CompletionUsage(completion_tokens=13, prompt_tokens=189, total_tokens=202, completion_tokens_details=CompletionTokensDetails(accepted_prediction_tokens=0, audio_tokens=0, reasoning_tokens=0, rejected_prediction_tokens=0), prompt_tokens_details=PromptTokensDetails(audio_tokens=0, cached_tokens=0)))\n"
     ]
    }
   ],
   "source": [
    "print(response)"
   ]
  },
  {
   "cell_type": "code",
   "execution_count": 44,
   "metadata": {},
   "outputs": [
    {
     "ename": "PineconeApiException",
     "evalue": "(409)\nReason: Conflict\nHTTP response headers: HTTPHeaderDict({'content-type': 'text/plain; charset=utf-8', 'access-control-allow-origin': '*', 'vary': 'origin,access-control-request-method,access-control-request-headers', 'access-control-expose-headers': '*', 'x-pinecone-api-version': '2024-07', 'X-Cloud-Trace-Context': '1bacd4a728c787ff6b44122856cef7b0', 'Date': 'Sun, 08 Dec 2024 21:51:42 GMT', 'Server': 'Google Frontend', 'Content-Length': '85', 'Via': '1.1 google', 'Alt-Svc': 'h3=\":443\"; ma=2592000,h3-29=\":443\"; ma=2592000'})\nHTTP response body: {\"error\":{\"code\":\"ALREADY_EXISTS\",\"message\":\"Resource  already exists\"},\"status\":409}\n",
     "output_type": "error",
     "traceback": [
      "\u001b[0;31m---------------------------------------------------------------------------\u001b[0m",
      "\u001b[0;31mPineconeApiException\u001b[0m                      Traceback (most recent call last)",
      "Cell \u001b[0;32mIn[44], line 18\u001b[0m\n\u001b[1;32m     16\u001b[0m index_name \u001b[38;5;241m=\u001b[39m \u001b[38;5;124m\"\u001b[39m\u001b[38;5;124mjson-vector-index\u001b[39m\u001b[38;5;124m\"\u001b[39m\n\u001b[1;32m     17\u001b[0m \u001b[38;5;28;01mif\u001b[39;00m index_name \u001b[38;5;129;01mnot\u001b[39;00m \u001b[38;5;129;01min\u001b[39;00m pc\u001b[38;5;241m.\u001b[39mlist_indexes():\n\u001b[0;32m---> 18\u001b[0m     \u001b[43mpc\u001b[49m\u001b[38;5;241;43m.\u001b[39;49m\u001b[43mcreate_index\u001b[49m\u001b[43m(\u001b[49m\u001b[43mindex_name\u001b[49m\u001b[43m,\u001b[49m\u001b[43m \u001b[49m\u001b[43mdimension\u001b[49m\u001b[38;5;241;43m=\u001b[39;49m\u001b[38;5;241;43m1536\u001b[39;49m\u001b[43m,\u001b[49m\u001b[43mspec\u001b[49m\u001b[38;5;241;43m=\u001b[39;49m\u001b[43mServerlessSpec\u001b[49m\u001b[43m(\u001b[49m\n\u001b[1;32m     19\u001b[0m \u001b[43m            \u001b[49m\u001b[43mcloud\u001b[49m\u001b[38;5;241;43m=\u001b[39;49m\u001b[38;5;124;43m\"\u001b[39;49m\u001b[38;5;124;43maws\u001b[39;49m\u001b[38;5;124;43m\"\u001b[39;49m\u001b[43m,\u001b[49m\u001b[43m  \u001b[49m\u001b[38;5;66;43;03m# Use 'gcp' or 'aws' based on your environment\u001b[39;49;00m\n\u001b[1;32m     20\u001b[0m \u001b[43m            \u001b[49m\u001b[43mregion\u001b[49m\u001b[38;5;241;43m=\u001b[39;49m\u001b[38;5;124;43m\"\u001b[39;49m\u001b[38;5;124;43mus-east-1\u001b[39;49m\u001b[38;5;124;43m\"\u001b[39;49m\u001b[43m  \u001b[49m\u001b[38;5;66;43;03m# Replace with your desired region\u001b[39;49;00m\n\u001b[1;32m     21\u001b[0m \u001b[43m        \u001b[49m\u001b[43m)\u001b[49m\u001b[43m)\u001b[49m  \u001b[38;5;66;03m# Assuming OpenAI embeddings\u001b[39;00m\n\u001b[1;32m     22\u001b[0m index \u001b[38;5;241m=\u001b[39m pc\u001b[38;5;241m.\u001b[39mIndex(index_name)\n\u001b[1;32m     24\u001b[0m \u001b[38;5;66;03m# Function to extract meaningful content from JSON\u001b[39;00m\n",
      "File \u001b[0;32m~/miniconda3/lib/python3.12/site-packages/pinecone/control/pinecone.py:384\u001b[0m, in \u001b[0;36mPinecone.create_index\u001b[0;34m(self, name, dimension, spec, metric, timeout, deletion_protection)\u001b[0m\n\u001b[1;32m    381\u001b[0m \u001b[38;5;28;01melse\u001b[39;00m:\n\u001b[1;32m    382\u001b[0m     \u001b[38;5;28;01mraise\u001b[39;00m \u001b[38;5;167;01mTypeError\u001b[39;00m(\u001b[38;5;124m\"\u001b[39m\u001b[38;5;124mspec must be of type dict, ServerlessSpec, or PodSpec\u001b[39m\u001b[38;5;124m\"\u001b[39m)\n\u001b[0;32m--> 384\u001b[0m \u001b[43mapi_instance\u001b[49m\u001b[38;5;241;43m.\u001b[39;49m\u001b[43mcreate_index\u001b[49m\u001b[43m(\u001b[49m\n\u001b[1;32m    385\u001b[0m \u001b[43m    \u001b[49m\u001b[43mcreate_index_request\u001b[49m\u001b[38;5;241;43m=\u001b[39;49m\u001b[43mCreateIndexRequest\u001b[49m\u001b[43m(\u001b[49m\n\u001b[1;32m    386\u001b[0m \u001b[43m        \u001b[49m\u001b[43mname\u001b[49m\u001b[38;5;241;43m=\u001b[39;49m\u001b[43mname\u001b[49m\u001b[43m,\u001b[49m\n\u001b[1;32m    387\u001b[0m \u001b[43m        \u001b[49m\u001b[43mdimension\u001b[49m\u001b[38;5;241;43m=\u001b[39;49m\u001b[43mdimension\u001b[49m\u001b[43m,\u001b[49m\n\u001b[1;32m    388\u001b[0m \u001b[43m        \u001b[49m\u001b[43mmetric\u001b[49m\u001b[38;5;241;43m=\u001b[39;49m\u001b[43mmetric\u001b[49m\u001b[43m,\u001b[49m\n\u001b[1;32m    389\u001b[0m \u001b[43m        \u001b[49m\u001b[43mspec\u001b[49m\u001b[38;5;241;43m=\u001b[39;49m\u001b[43mindex_spec\u001b[49m\u001b[43m,\u001b[49m\n\u001b[1;32m    390\u001b[0m \u001b[43m        \u001b[49m\u001b[43mdeletion_protection\u001b[49m\u001b[38;5;241;43m=\u001b[39;49m\u001b[43mdp\u001b[49m\u001b[43m,\u001b[49m\n\u001b[1;32m    391\u001b[0m \u001b[43m    \u001b[49m\u001b[43m)\u001b[49m\u001b[43m,\u001b[49m\n\u001b[1;32m    392\u001b[0m \u001b[43m\u001b[49m\u001b[43m)\u001b[49m\n\u001b[1;32m    394\u001b[0m \u001b[38;5;28;01mdef\u001b[39;00m \u001b[38;5;21mis_ready\u001b[39m():\n\u001b[1;32m    395\u001b[0m     status \u001b[38;5;241m=\u001b[39m \u001b[38;5;28mself\u001b[39m\u001b[38;5;241m.\u001b[39m_get_status(name)\n",
      "File \u001b[0;32m~/miniconda3/lib/python3.12/site-packages/pinecone/core/openapi/shared/api_client.py:761\u001b[0m, in \u001b[0;36mEndpoint.__call__\u001b[0;34m(self, *args, **kwargs)\u001b[0m\n\u001b[1;32m    750\u001b[0m \u001b[38;5;28;01mdef\u001b[39;00m \u001b[38;5;21m__call__\u001b[39m(\u001b[38;5;28mself\u001b[39m, \u001b[38;5;241m*\u001b[39margs, \u001b[38;5;241m*\u001b[39m\u001b[38;5;241m*\u001b[39mkwargs):\n\u001b[1;32m    751\u001b[0m \u001b[38;5;250m    \u001b[39m\u001b[38;5;124;03m\"\"\"This method is invoked when endpoints are called\u001b[39;00m\n\u001b[1;32m    752\u001b[0m \u001b[38;5;124;03m    Example:\u001b[39;00m\n\u001b[1;32m    753\u001b[0m \n\u001b[0;32m   (...)\u001b[0m\n\u001b[1;32m    759\u001b[0m \n\u001b[1;32m    760\u001b[0m \u001b[38;5;124;03m    \"\"\"\u001b[39;00m\n\u001b[0;32m--> 761\u001b[0m     \u001b[38;5;28;01mreturn\u001b[39;00m \u001b[38;5;28;43mself\u001b[39;49m\u001b[38;5;241;43m.\u001b[39;49m\u001b[43mcallable\u001b[49m\u001b[43m(\u001b[49m\u001b[38;5;28;43mself\u001b[39;49m\u001b[43m,\u001b[49m\u001b[43m \u001b[49m\u001b[38;5;241;43m*\u001b[39;49m\u001b[43margs\u001b[49m\u001b[43m,\u001b[49m\u001b[43m \u001b[49m\u001b[38;5;241;43m*\u001b[39;49m\u001b[38;5;241;43m*\u001b[39;49m\u001b[43mkwargs\u001b[49m\u001b[43m)\u001b[49m\n",
      "File \u001b[0;32m~/miniconda3/lib/python3.12/site-packages/pinecone/core/openapi/control/api/manage_indexes_api.py:273\u001b[0m, in \u001b[0;36mManageIndexesApi.__init__.<locals>.__create_index\u001b[0;34m(self, create_index_request, **kwargs)\u001b[0m\n\u001b[1;32m    271\u001b[0m kwargs[\u001b[38;5;124m\"\u001b[39m\u001b[38;5;124m_host_index\u001b[39m\u001b[38;5;124m\"\u001b[39m] \u001b[38;5;241m=\u001b[39m kwargs\u001b[38;5;241m.\u001b[39mget(\u001b[38;5;124m\"\u001b[39m\u001b[38;5;124m_host_index\u001b[39m\u001b[38;5;124m\"\u001b[39m)\n\u001b[1;32m    272\u001b[0m kwargs[\u001b[38;5;124m\"\u001b[39m\u001b[38;5;124mcreate_index_request\u001b[39m\u001b[38;5;124m\"\u001b[39m] \u001b[38;5;241m=\u001b[39m create_index_request\n\u001b[0;32m--> 273\u001b[0m \u001b[38;5;28;01mreturn\u001b[39;00m \u001b[38;5;28;43mself\u001b[39;49m\u001b[38;5;241;43m.\u001b[39;49m\u001b[43mcall_with_http_info\u001b[49m\u001b[43m(\u001b[49m\u001b[38;5;241;43m*\u001b[39;49m\u001b[38;5;241;43m*\u001b[39;49m\u001b[43mkwargs\u001b[49m\u001b[43m)\u001b[49m\n",
      "File \u001b[0;32m~/miniconda3/lib/python3.12/site-packages/pinecone/core/openapi/shared/api_client.py:819\u001b[0m, in \u001b[0;36mEndpoint.call_with_http_info\u001b[0;34m(self, **kwargs)\u001b[0m\n\u001b[1;32m    816\u001b[0m     header_list \u001b[38;5;241m=\u001b[39m \u001b[38;5;28mself\u001b[39m\u001b[38;5;241m.\u001b[39mapi_client\u001b[38;5;241m.\u001b[39mselect_header_content_type(content_type_headers_list)\n\u001b[1;32m    817\u001b[0m     params[\u001b[38;5;124m\"\u001b[39m\u001b[38;5;124mheader\u001b[39m\u001b[38;5;124m\"\u001b[39m][\u001b[38;5;124m\"\u001b[39m\u001b[38;5;124mContent-Type\u001b[39m\u001b[38;5;124m\"\u001b[39m] \u001b[38;5;241m=\u001b[39m header_list\n\u001b[0;32m--> 819\u001b[0m \u001b[38;5;28;01mreturn\u001b[39;00m \u001b[38;5;28;43mself\u001b[39;49m\u001b[38;5;241;43m.\u001b[39;49m\u001b[43mapi_client\u001b[49m\u001b[38;5;241;43m.\u001b[39;49m\u001b[43mcall_api\u001b[49m\u001b[43m(\u001b[49m\n\u001b[1;32m    820\u001b[0m \u001b[43m    \u001b[49m\u001b[38;5;28;43mself\u001b[39;49m\u001b[38;5;241;43m.\u001b[39;49m\u001b[43msettings\u001b[49m\u001b[43m[\u001b[49m\u001b[38;5;124;43m\"\u001b[39;49m\u001b[38;5;124;43mendpoint_path\u001b[39;49m\u001b[38;5;124;43m\"\u001b[39;49m\u001b[43m]\u001b[49m\u001b[43m,\u001b[49m\n\u001b[1;32m    821\u001b[0m \u001b[43m    \u001b[49m\u001b[38;5;28;43mself\u001b[39;49m\u001b[38;5;241;43m.\u001b[39;49m\u001b[43msettings\u001b[49m\u001b[43m[\u001b[49m\u001b[38;5;124;43m\"\u001b[39;49m\u001b[38;5;124;43mhttp_method\u001b[39;49m\u001b[38;5;124;43m\"\u001b[39;49m\u001b[43m]\u001b[49m\u001b[43m,\u001b[49m\n\u001b[1;32m    822\u001b[0m \u001b[43m    \u001b[49m\u001b[43mparams\u001b[49m\u001b[43m[\u001b[49m\u001b[38;5;124;43m\"\u001b[39;49m\u001b[38;5;124;43mpath\u001b[39;49m\u001b[38;5;124;43m\"\u001b[39;49m\u001b[43m]\u001b[49m\u001b[43m,\u001b[49m\n\u001b[1;32m    823\u001b[0m \u001b[43m    \u001b[49m\u001b[43mparams\u001b[49m\u001b[43m[\u001b[49m\u001b[38;5;124;43m\"\u001b[39;49m\u001b[38;5;124;43mquery\u001b[39;49m\u001b[38;5;124;43m\"\u001b[39;49m\u001b[43m]\u001b[49m\u001b[43m,\u001b[49m\n\u001b[1;32m    824\u001b[0m \u001b[43m    \u001b[49m\u001b[43mparams\u001b[49m\u001b[43m[\u001b[49m\u001b[38;5;124;43m\"\u001b[39;49m\u001b[38;5;124;43mheader\u001b[39;49m\u001b[38;5;124;43m\"\u001b[39;49m\u001b[43m]\u001b[49m\u001b[43m,\u001b[49m\n\u001b[1;32m    825\u001b[0m \u001b[43m    \u001b[49m\u001b[43mbody\u001b[49m\u001b[38;5;241;43m=\u001b[39;49m\u001b[43mparams\u001b[49m\u001b[43m[\u001b[49m\u001b[38;5;124;43m\"\u001b[39;49m\u001b[38;5;124;43mbody\u001b[39;49m\u001b[38;5;124;43m\"\u001b[39;49m\u001b[43m]\u001b[49m\u001b[43m,\u001b[49m\n\u001b[1;32m    826\u001b[0m \u001b[43m    \u001b[49m\u001b[43mpost_params\u001b[49m\u001b[38;5;241;43m=\u001b[39;49m\u001b[43mparams\u001b[49m\u001b[43m[\u001b[49m\u001b[38;5;124;43m\"\u001b[39;49m\u001b[38;5;124;43mform\u001b[39;49m\u001b[38;5;124;43m\"\u001b[39;49m\u001b[43m]\u001b[49m\u001b[43m,\u001b[49m\n\u001b[1;32m    827\u001b[0m \u001b[43m    \u001b[49m\u001b[43mfiles\u001b[49m\u001b[38;5;241;43m=\u001b[39;49m\u001b[43mparams\u001b[49m\u001b[43m[\u001b[49m\u001b[38;5;124;43m\"\u001b[39;49m\u001b[38;5;124;43mfile\u001b[39;49m\u001b[38;5;124;43m\"\u001b[39;49m\u001b[43m]\u001b[49m\u001b[43m,\u001b[49m\n\u001b[1;32m    828\u001b[0m \u001b[43m    \u001b[49m\u001b[43mresponse_type\u001b[49m\u001b[38;5;241;43m=\u001b[39;49m\u001b[38;5;28;43mself\u001b[39;49m\u001b[38;5;241;43m.\u001b[39;49m\u001b[43msettings\u001b[49m\u001b[43m[\u001b[49m\u001b[38;5;124;43m\"\u001b[39;49m\u001b[38;5;124;43mresponse_type\u001b[39;49m\u001b[38;5;124;43m\"\u001b[39;49m\u001b[43m]\u001b[49m\u001b[43m,\u001b[49m\n\u001b[1;32m    829\u001b[0m \u001b[43m    \u001b[49m\u001b[43mauth_settings\u001b[49m\u001b[38;5;241;43m=\u001b[39;49m\u001b[38;5;28;43mself\u001b[39;49m\u001b[38;5;241;43m.\u001b[39;49m\u001b[43msettings\u001b[49m\u001b[43m[\u001b[49m\u001b[38;5;124;43m\"\u001b[39;49m\u001b[38;5;124;43mauth\u001b[39;49m\u001b[38;5;124;43m\"\u001b[39;49m\u001b[43m]\u001b[49m\u001b[43m,\u001b[49m\n\u001b[1;32m    830\u001b[0m \u001b[43m    \u001b[49m\u001b[43masync_req\u001b[49m\u001b[38;5;241;43m=\u001b[39;49m\u001b[43mkwargs\u001b[49m\u001b[43m[\u001b[49m\u001b[38;5;124;43m\"\u001b[39;49m\u001b[38;5;124;43masync_req\u001b[39;49m\u001b[38;5;124;43m\"\u001b[39;49m\u001b[43m]\u001b[49m\u001b[43m,\u001b[49m\n\u001b[1;32m    831\u001b[0m \u001b[43m    \u001b[49m\u001b[43m_check_type\u001b[49m\u001b[38;5;241;43m=\u001b[39;49m\u001b[43mkwargs\u001b[49m\u001b[43m[\u001b[49m\u001b[38;5;124;43m\"\u001b[39;49m\u001b[38;5;124;43m_check_return_type\u001b[39;49m\u001b[38;5;124;43m\"\u001b[39;49m\u001b[43m]\u001b[49m\u001b[43m,\u001b[49m\n\u001b[1;32m    832\u001b[0m \u001b[43m    \u001b[49m\u001b[43m_return_http_data_only\u001b[49m\u001b[38;5;241;43m=\u001b[39;49m\u001b[43mkwargs\u001b[49m\u001b[43m[\u001b[49m\u001b[38;5;124;43m\"\u001b[39;49m\u001b[38;5;124;43m_return_http_data_only\u001b[39;49m\u001b[38;5;124;43m\"\u001b[39;49m\u001b[43m]\u001b[49m\u001b[43m,\u001b[49m\n\u001b[1;32m    833\u001b[0m \u001b[43m    \u001b[49m\u001b[43m_preload_content\u001b[49m\u001b[38;5;241;43m=\u001b[39;49m\u001b[43mkwargs\u001b[49m\u001b[43m[\u001b[49m\u001b[38;5;124;43m\"\u001b[39;49m\u001b[38;5;124;43m_preload_content\u001b[39;49m\u001b[38;5;124;43m\"\u001b[39;49m\u001b[43m]\u001b[49m\u001b[43m,\u001b[49m\n\u001b[1;32m    834\u001b[0m \u001b[43m    \u001b[49m\u001b[43m_request_timeout\u001b[49m\u001b[38;5;241;43m=\u001b[39;49m\u001b[43mkwargs\u001b[49m\u001b[43m[\u001b[49m\u001b[38;5;124;43m\"\u001b[39;49m\u001b[38;5;124;43m_request_timeout\u001b[39;49m\u001b[38;5;124;43m\"\u001b[39;49m\u001b[43m]\u001b[49m\u001b[43m,\u001b[49m\n\u001b[1;32m    835\u001b[0m \u001b[43m    \u001b[49m\u001b[43m_host\u001b[49m\u001b[38;5;241;43m=\u001b[39;49m\u001b[43m_host\u001b[49m\u001b[43m,\u001b[49m\n\u001b[1;32m    836\u001b[0m \u001b[43m    \u001b[49m\u001b[43mcollection_formats\u001b[49m\u001b[38;5;241;43m=\u001b[39;49m\u001b[43mparams\u001b[49m\u001b[43m[\u001b[49m\u001b[38;5;124;43m\"\u001b[39;49m\u001b[38;5;124;43mcollection_format\u001b[39;49m\u001b[38;5;124;43m\"\u001b[39;49m\u001b[43m]\u001b[49m\u001b[43m,\u001b[49m\n\u001b[1;32m    837\u001b[0m \u001b[43m\u001b[49m\u001b[43m)\u001b[49m\n",
      "File \u001b[0;32m~/miniconda3/lib/python3.12/site-packages/pinecone/core/openapi/shared/api_client.py:380\u001b[0m, in \u001b[0;36mApiClient.call_api\u001b[0;34m(self, resource_path, method, path_params, query_params, header_params, body, post_params, files, response_type, auth_settings, async_req, _return_http_data_only, collection_formats, _preload_content, _request_timeout, _host, _check_type)\u001b[0m\n\u001b[1;32m    326\u001b[0m \u001b[38;5;250m\u001b[39m\u001b[38;5;124;03m\"\"\"Makes the HTTP request (synchronous) and returns deserialized data.\u001b[39;00m\n\u001b[1;32m    327\u001b[0m \n\u001b[1;32m    328\u001b[0m \u001b[38;5;124;03mTo make an async_req request, set the async_req parameter.\u001b[39;00m\n\u001b[0;32m   (...)\u001b[0m\n\u001b[1;32m    377\u001b[0m \u001b[38;5;124;03m    then the method will return the response directly.\u001b[39;00m\n\u001b[1;32m    378\u001b[0m \u001b[38;5;124;03m\"\"\"\u001b[39;00m\n\u001b[1;32m    379\u001b[0m \u001b[38;5;28;01mif\u001b[39;00m \u001b[38;5;129;01mnot\u001b[39;00m async_req:\n\u001b[0;32m--> 380\u001b[0m     \u001b[38;5;28;01mreturn\u001b[39;00m \u001b[38;5;28;43mself\u001b[39;49m\u001b[38;5;241;43m.\u001b[39;49m\u001b[43m__call_api\u001b[49m\u001b[43m(\u001b[49m\n\u001b[1;32m    381\u001b[0m \u001b[43m        \u001b[49m\u001b[43mresource_path\u001b[49m\u001b[43m,\u001b[49m\n\u001b[1;32m    382\u001b[0m \u001b[43m        \u001b[49m\u001b[43mmethod\u001b[49m\u001b[43m,\u001b[49m\n\u001b[1;32m    383\u001b[0m \u001b[43m        \u001b[49m\u001b[43mpath_params\u001b[49m\u001b[43m,\u001b[49m\n\u001b[1;32m    384\u001b[0m \u001b[43m        \u001b[49m\u001b[43mquery_params\u001b[49m\u001b[43m,\u001b[49m\n\u001b[1;32m    385\u001b[0m \u001b[43m        \u001b[49m\u001b[43mheader_params\u001b[49m\u001b[43m,\u001b[49m\n\u001b[1;32m    386\u001b[0m \u001b[43m        \u001b[49m\u001b[43mbody\u001b[49m\u001b[43m,\u001b[49m\n\u001b[1;32m    387\u001b[0m \u001b[43m        \u001b[49m\u001b[43mpost_params\u001b[49m\u001b[43m,\u001b[49m\n\u001b[1;32m    388\u001b[0m \u001b[43m        \u001b[49m\u001b[43mfiles\u001b[49m\u001b[43m,\u001b[49m\n\u001b[1;32m    389\u001b[0m \u001b[43m        \u001b[49m\u001b[43mresponse_type\u001b[49m\u001b[43m,\u001b[49m\n\u001b[1;32m    390\u001b[0m \u001b[43m        \u001b[49m\u001b[43mauth_settings\u001b[49m\u001b[43m,\u001b[49m\n\u001b[1;32m    391\u001b[0m \u001b[43m        \u001b[49m\u001b[43m_return_http_data_only\u001b[49m\u001b[43m,\u001b[49m\n\u001b[1;32m    392\u001b[0m \u001b[43m        \u001b[49m\u001b[43mcollection_formats\u001b[49m\u001b[43m,\u001b[49m\n\u001b[1;32m    393\u001b[0m \u001b[43m        \u001b[49m\u001b[43m_preload_content\u001b[49m\u001b[43m,\u001b[49m\n\u001b[1;32m    394\u001b[0m \u001b[43m        \u001b[49m\u001b[43m_request_timeout\u001b[49m\u001b[43m,\u001b[49m\n\u001b[1;32m    395\u001b[0m \u001b[43m        \u001b[49m\u001b[43m_host\u001b[49m\u001b[43m,\u001b[49m\n\u001b[1;32m    396\u001b[0m \u001b[43m        \u001b[49m\u001b[43m_check_type\u001b[49m\u001b[43m,\u001b[49m\n\u001b[1;32m    397\u001b[0m \u001b[43m    \u001b[49m\u001b[43m)\u001b[49m\n\u001b[1;32m    399\u001b[0m \u001b[38;5;28;01mreturn\u001b[39;00m \u001b[38;5;28mself\u001b[39m\u001b[38;5;241m.\u001b[39mpool\u001b[38;5;241m.\u001b[39mapply_async(\n\u001b[1;32m    400\u001b[0m     \u001b[38;5;28mself\u001b[39m\u001b[38;5;241m.\u001b[39m__call_api,\n\u001b[1;32m    401\u001b[0m     (\n\u001b[0;32m   (...)\u001b[0m\n\u001b[1;32m    418\u001b[0m     ),\n\u001b[1;32m    419\u001b[0m )\n",
      "File \u001b[0;32m~/miniconda3/lib/python3.12/site-packages/pinecone/core/openapi/shared/api_client.py:187\u001b[0m, in \u001b[0;36mApiClient.__call_api\u001b[0;34m(self, resource_path, method, path_params, query_params, header_params, body, post_params, files, response_type, auth_settings, _return_http_data_only, collection_formats, _preload_content, _request_timeout, _host, _check_type)\u001b[0m\n\u001b[1;32m    185\u001b[0m \u001b[38;5;28;01mexcept\u001b[39;00m PineconeApiException \u001b[38;5;28;01mas\u001b[39;00m e:\n\u001b[1;32m    186\u001b[0m     e\u001b[38;5;241m.\u001b[39mbody \u001b[38;5;241m=\u001b[39m e\u001b[38;5;241m.\u001b[39mbody\u001b[38;5;241m.\u001b[39mdecode(\u001b[38;5;124m\"\u001b[39m\u001b[38;5;124mutf-8\u001b[39m\u001b[38;5;124m\"\u001b[39m)\n\u001b[0;32m--> 187\u001b[0m     \u001b[38;5;28;01mraise\u001b[39;00m e\n\u001b[1;32m    189\u001b[0m \u001b[38;5;28mself\u001b[39m\u001b[38;5;241m.\u001b[39mlast_response \u001b[38;5;241m=\u001b[39m response_data\n\u001b[1;32m    191\u001b[0m return_data \u001b[38;5;241m=\u001b[39m response_data\n",
      "File \u001b[0;32m~/miniconda3/lib/python3.12/site-packages/pinecone/core/openapi/shared/api_client.py:175\u001b[0m, in \u001b[0;36mApiClient.__call_api\u001b[0;34m(self, resource_path, method, path_params, query_params, header_params, body, post_params, files, response_type, auth_settings, _return_http_data_only, collection_formats, _preload_content, _request_timeout, _host, _check_type)\u001b[0m\n\u001b[1;32m    171\u001b[0m     url \u001b[38;5;241m=\u001b[39m _host \u001b[38;5;241m+\u001b[39m resource_path\n\u001b[1;32m    173\u001b[0m \u001b[38;5;28;01mtry\u001b[39;00m:\n\u001b[1;32m    174\u001b[0m     \u001b[38;5;66;03m# perform request and return response\u001b[39;00m\n\u001b[0;32m--> 175\u001b[0m     response_data \u001b[38;5;241m=\u001b[39m \u001b[38;5;28;43mself\u001b[39;49m\u001b[38;5;241;43m.\u001b[39;49m\u001b[43mrequest\u001b[49m\u001b[43m(\u001b[49m\n\u001b[1;32m    176\u001b[0m \u001b[43m        \u001b[49m\u001b[43mmethod\u001b[49m\u001b[43m,\u001b[49m\n\u001b[1;32m    177\u001b[0m \u001b[43m        \u001b[49m\u001b[43murl\u001b[49m\u001b[43m,\u001b[49m\n\u001b[1;32m    178\u001b[0m \u001b[43m        \u001b[49m\u001b[43mquery_params\u001b[49m\u001b[38;5;241;43m=\u001b[39;49m\u001b[43mquery_params\u001b[49m\u001b[43m,\u001b[49m\n\u001b[1;32m    179\u001b[0m \u001b[43m        \u001b[49m\u001b[43mheaders\u001b[49m\u001b[38;5;241;43m=\u001b[39;49m\u001b[43mheader_params\u001b[49m\u001b[43m,\u001b[49m\n\u001b[1;32m    180\u001b[0m \u001b[43m        \u001b[49m\u001b[43mpost_params\u001b[49m\u001b[38;5;241;43m=\u001b[39;49m\u001b[43mpost_params\u001b[49m\u001b[43m,\u001b[49m\n\u001b[1;32m    181\u001b[0m \u001b[43m        \u001b[49m\u001b[43mbody\u001b[49m\u001b[38;5;241;43m=\u001b[39;49m\u001b[43mbody\u001b[49m\u001b[43m,\u001b[49m\n\u001b[1;32m    182\u001b[0m \u001b[43m        \u001b[49m\u001b[43m_preload_content\u001b[49m\u001b[38;5;241;43m=\u001b[39;49m\u001b[43m_preload_content\u001b[49m\u001b[43m,\u001b[49m\n\u001b[1;32m    183\u001b[0m \u001b[43m        \u001b[49m\u001b[43m_request_timeout\u001b[49m\u001b[38;5;241;43m=\u001b[39;49m\u001b[43m_request_timeout\u001b[49m\u001b[43m,\u001b[49m\n\u001b[1;32m    184\u001b[0m \u001b[43m    \u001b[49m\u001b[43m)\u001b[49m\n\u001b[1;32m    185\u001b[0m \u001b[38;5;28;01mexcept\u001b[39;00m PineconeApiException \u001b[38;5;28;01mas\u001b[39;00m e:\n\u001b[1;32m    186\u001b[0m     e\u001b[38;5;241m.\u001b[39mbody \u001b[38;5;241m=\u001b[39m e\u001b[38;5;241m.\u001b[39mbody\u001b[38;5;241m.\u001b[39mdecode(\u001b[38;5;124m\"\u001b[39m\u001b[38;5;124mutf-8\u001b[39m\u001b[38;5;124m\"\u001b[39m)\n",
      "File \u001b[0;32m~/miniconda3/lib/python3.12/site-packages/pinecone/core/openapi/shared/api_client.py:460\u001b[0m, in \u001b[0;36mApiClient.request\u001b[0;34m(self, method, url, query_params, headers, post_params, body, _preload_content, _request_timeout)\u001b[0m\n\u001b[1;32m    450\u001b[0m     \u001b[38;5;28;01mreturn\u001b[39;00m \u001b[38;5;28mself\u001b[39m\u001b[38;5;241m.\u001b[39mrest_client\u001b[38;5;241m.\u001b[39mOPTIONS(\n\u001b[1;32m    451\u001b[0m         url,\n\u001b[1;32m    452\u001b[0m         query_params\u001b[38;5;241m=\u001b[39mquery_params,\n\u001b[0;32m   (...)\u001b[0m\n\u001b[1;32m    457\u001b[0m         body\u001b[38;5;241m=\u001b[39mbody,\n\u001b[1;32m    458\u001b[0m     )\n\u001b[1;32m    459\u001b[0m \u001b[38;5;28;01melif\u001b[39;00m method \u001b[38;5;241m==\u001b[39m \u001b[38;5;124m\"\u001b[39m\u001b[38;5;124mPOST\u001b[39m\u001b[38;5;124m\"\u001b[39m:\n\u001b[0;32m--> 460\u001b[0m     \u001b[38;5;28;01mreturn\u001b[39;00m \u001b[38;5;28;43mself\u001b[39;49m\u001b[38;5;241;43m.\u001b[39;49m\u001b[43mrest_client\u001b[49m\u001b[38;5;241;43m.\u001b[39;49m\u001b[43mPOST\u001b[49m\u001b[43m(\u001b[49m\n\u001b[1;32m    461\u001b[0m \u001b[43m        \u001b[49m\u001b[43murl\u001b[49m\u001b[43m,\u001b[49m\n\u001b[1;32m    462\u001b[0m \u001b[43m        \u001b[49m\u001b[43mquery_params\u001b[49m\u001b[38;5;241;43m=\u001b[39;49m\u001b[43mquery_params\u001b[49m\u001b[43m,\u001b[49m\n\u001b[1;32m    463\u001b[0m \u001b[43m        \u001b[49m\u001b[43mheaders\u001b[49m\u001b[38;5;241;43m=\u001b[39;49m\u001b[43mheaders\u001b[49m\u001b[43m,\u001b[49m\n\u001b[1;32m    464\u001b[0m \u001b[43m        \u001b[49m\u001b[43mpost_params\u001b[49m\u001b[38;5;241;43m=\u001b[39;49m\u001b[43mpost_params\u001b[49m\u001b[43m,\u001b[49m\n\u001b[1;32m    465\u001b[0m \u001b[43m        \u001b[49m\u001b[43m_preload_content\u001b[49m\u001b[38;5;241;43m=\u001b[39;49m\u001b[43m_preload_content\u001b[49m\u001b[43m,\u001b[49m\n\u001b[1;32m    466\u001b[0m \u001b[43m        \u001b[49m\u001b[43m_request_timeout\u001b[49m\u001b[38;5;241;43m=\u001b[39;49m\u001b[43m_request_timeout\u001b[49m\u001b[43m,\u001b[49m\n\u001b[1;32m    467\u001b[0m \u001b[43m        \u001b[49m\u001b[43mbody\u001b[49m\u001b[38;5;241;43m=\u001b[39;49m\u001b[43mbody\u001b[49m\u001b[43m,\u001b[49m\n\u001b[1;32m    468\u001b[0m \u001b[43m    \u001b[49m\u001b[43m)\u001b[49m\n\u001b[1;32m    469\u001b[0m \u001b[38;5;28;01melif\u001b[39;00m method \u001b[38;5;241m==\u001b[39m \u001b[38;5;124m\"\u001b[39m\u001b[38;5;124mPUT\u001b[39m\u001b[38;5;124m\"\u001b[39m:\n\u001b[1;32m    470\u001b[0m     \u001b[38;5;28;01mreturn\u001b[39;00m \u001b[38;5;28mself\u001b[39m\u001b[38;5;241m.\u001b[39mrest_client\u001b[38;5;241m.\u001b[39mPUT(\n\u001b[1;32m    471\u001b[0m         url,\n\u001b[1;32m    472\u001b[0m         query_params\u001b[38;5;241m=\u001b[39mquery_params,\n\u001b[0;32m   (...)\u001b[0m\n\u001b[1;32m    477\u001b[0m         body\u001b[38;5;241m=\u001b[39mbody,\n\u001b[1;32m    478\u001b[0m     )\n",
      "File \u001b[0;32m~/miniconda3/lib/python3.12/site-packages/pinecone/core/openapi/shared/rest.py:345\u001b[0m, in \u001b[0;36mRESTClientObject.POST\u001b[0;34m(self, url, headers, query_params, post_params, body, _preload_content, _request_timeout)\u001b[0m\n\u001b[1;32m    335\u001b[0m \u001b[38;5;28;01mdef\u001b[39;00m \u001b[38;5;21mPOST\u001b[39m(\n\u001b[1;32m    336\u001b[0m     \u001b[38;5;28mself\u001b[39m,\n\u001b[1;32m    337\u001b[0m     url,\n\u001b[0;32m   (...)\u001b[0m\n\u001b[1;32m    343\u001b[0m     _request_timeout\u001b[38;5;241m=\u001b[39m\u001b[38;5;28;01mNone\u001b[39;00m,\n\u001b[1;32m    344\u001b[0m ):\n\u001b[0;32m--> 345\u001b[0m     \u001b[38;5;28;01mreturn\u001b[39;00m \u001b[38;5;28;43mself\u001b[39;49m\u001b[38;5;241;43m.\u001b[39;49m\u001b[43mrequest\u001b[49m\u001b[43m(\u001b[49m\n\u001b[1;32m    346\u001b[0m \u001b[43m        \u001b[49m\u001b[38;5;124;43m\"\u001b[39;49m\u001b[38;5;124;43mPOST\u001b[39;49m\u001b[38;5;124;43m\"\u001b[39;49m\u001b[43m,\u001b[49m\n\u001b[1;32m    347\u001b[0m \u001b[43m        \u001b[49m\u001b[43murl\u001b[49m\u001b[43m,\u001b[49m\n\u001b[1;32m    348\u001b[0m \u001b[43m        \u001b[49m\u001b[43mheaders\u001b[49m\u001b[38;5;241;43m=\u001b[39;49m\u001b[43mheaders\u001b[49m\u001b[43m,\u001b[49m\n\u001b[1;32m    349\u001b[0m \u001b[43m        \u001b[49m\u001b[43mquery_params\u001b[49m\u001b[38;5;241;43m=\u001b[39;49m\u001b[43mquery_params\u001b[49m\u001b[43m,\u001b[49m\n\u001b[1;32m    350\u001b[0m \u001b[43m        \u001b[49m\u001b[43mpost_params\u001b[49m\u001b[38;5;241;43m=\u001b[39;49m\u001b[43mpost_params\u001b[49m\u001b[43m,\u001b[49m\n\u001b[1;32m    351\u001b[0m \u001b[43m        \u001b[49m\u001b[43m_preload_content\u001b[49m\u001b[38;5;241;43m=\u001b[39;49m\u001b[43m_preload_content\u001b[49m\u001b[43m,\u001b[49m\n\u001b[1;32m    352\u001b[0m \u001b[43m        \u001b[49m\u001b[43m_request_timeout\u001b[49m\u001b[38;5;241;43m=\u001b[39;49m\u001b[43m_request_timeout\u001b[49m\u001b[43m,\u001b[49m\n\u001b[1;32m    353\u001b[0m \u001b[43m        \u001b[49m\u001b[43mbody\u001b[49m\u001b[38;5;241;43m=\u001b[39;49m\u001b[43mbody\u001b[49m\u001b[43m,\u001b[49m\n\u001b[1;32m    354\u001b[0m \u001b[43m    \u001b[49m\u001b[43m)\u001b[49m\n",
      "File \u001b[0;32m~/miniconda3/lib/python3.12/site-packages/pinecone/core/openapi/shared/rest.py:279\u001b[0m, in \u001b[0;36mRESTClientObject.request\u001b[0;34m(self, method, url, query_params, headers, body, post_params, _preload_content, _request_timeout)\u001b[0m\n\u001b[1;32m    276\u001b[0m     \u001b[38;5;28;01mif\u001b[39;00m \u001b[38;5;241m500\u001b[39m \u001b[38;5;241m<\u001b[39m\u001b[38;5;241m=\u001b[39m r\u001b[38;5;241m.\u001b[39mstatus \u001b[38;5;241m<\u001b[39m\u001b[38;5;241m=\u001b[39m \u001b[38;5;241m599\u001b[39m:\n\u001b[1;32m    277\u001b[0m         \u001b[38;5;28;01mraise\u001b[39;00m ServiceException(http_resp\u001b[38;5;241m=\u001b[39mr)\n\u001b[0;32m--> 279\u001b[0m     \u001b[38;5;28;01mraise\u001b[39;00m PineconeApiException(http_resp\u001b[38;5;241m=\u001b[39mr)\n\u001b[1;32m    281\u001b[0m \u001b[38;5;28;01mreturn\u001b[39;00m r\n",
      "\u001b[0;31mPineconeApiException\u001b[0m: (409)\nReason: Conflict\nHTTP response headers: HTTPHeaderDict({'content-type': 'text/plain; charset=utf-8', 'access-control-allow-origin': '*', 'vary': 'origin,access-control-request-method,access-control-request-headers', 'access-control-expose-headers': '*', 'x-pinecone-api-version': '2024-07', 'X-Cloud-Trace-Context': '1bacd4a728c787ff6b44122856cef7b0', 'Date': 'Sun, 08 Dec 2024 21:51:42 GMT', 'Server': 'Google Frontend', 'Content-Length': '85', 'Via': '1.1 google', 'Alt-Svc': 'h3=\":443\"; ma=2592000,h3-29=\":443\"; ma=2592000'})\nHTTP response body: {\"error\":{\"code\":\"ALREADY_EXISTS\",\"message\":\"Resource  already exists\"},\"status\":409}\n"
     ]
    }
   ],
   "source": [
    "from pinecone import Pinecone, ServerlessSpec\n",
    "from openai import OpenAI\n",
    "import re\n",
    "import openai\n",
    "import json\n",
    "\n",
    "# Initialize OpenAI API\n",
    "ai = OpenAI(api_key=\"\")\n",
    "\n",
    "# Initialize Pinecone\n",
    "pc = Pinecone(\n",
    "    api_key=\"\"\n",
    ")\n",
    "\n",
    "# Create or connect to a Pinecone index\n",
    "index_name = \"json-vector-index\"\n",
    "if index_name not in pc.list_indexes():\n",
    "    pc.create_index(index_name, dimension=1536,spec=ServerlessSpec(\n",
    "            cloud=\"aws\",  # Use 'gcp' or 'aws' based on your environment\n",
    "            region=\"us-east-1\"  # Replace with your desired region\n",
    "        ))  # Assuming OpenAI embeddings\n",
    "index = pc.Index(index_name)\n",
    "\n",
    "# Function to extract meaningful content from JSON\n",
    "def extract_text_from_json(json_data, fields_to_extract=None):\n",
    "    # if fields_to_extract is None:\n",
    "    #     # If fields are not specified, use all text fields\n",
    "    # fields_to_extract = json_data.keys()\n",
    "    \n",
    "    # text_data = []\n",
    "    # for field in fields_to_extract:\n",
    "    #     if field in json_data and isinstance(json_data[field], str):\n",
    "    #         text_data.append(json_data[field])\n",
    "    # return \" \".join(text_data)\n",
    "    # print(json_data)\n",
    "    # features = []\n",
    "    # for feat,v in json_data[\"features\"].items():\n",
    "    #     features.append(feat)\n",
    "    # json_data[\"features\"] = features\n",
    "\n",
    "    tokens = tokenize(json_data)\n",
    "    return \" \".join(tokens)\n",
    "\n",
    "# Function to generate embeddings\n",
    "def get_embeddings(text, model=\"text-embedding-3-small\"):\n",
    "   text = text.replace(\"\\n\", \" \")\n",
    "   return ai.embeddings.create(input = [text], model=model).data[0].embedding\n",
    "\n",
    "\n",
    "\n",
    "# Function to parse JSONs and upload vectors to Pinecone\n",
    "def process_jsons_and_upload(json_list, fields_to_extract=None):\n",
    "    for idx, json_data in enumerate(json_list):\n",
    "        # Extract text from JSON\n",
    "        content = extract_text_from_json(json_data, fields_to_extract)\n",
    "\n",
    "        \n",
    "        \n",
    "        # Generate embeddings\n",
    "        embedding = get_embeddings(content)\n",
    "        \n",
    "        # Use a unique ID for Pinecone (e.g., index or key)\n",
    "        json_id = f\"doc-{idx}\"\n",
    "        \n",
    "        # Upsert data into Pinecone\n",
    "        index.upsert([(json_id, embedding, {\"text\": content})])\n",
    "        print(f\"Uploaded JSON ID: {json_id}\")\n",
    "\n",
    "# Example JSON list\n",
    "json_list = [\n",
    "    {\"title\": \"Document 1\", \"body\": \"This is the content of the first document.\"},\n",
    "    {\"title\": \"Document 2\", \"body\": \"Here is some other content for the second document.\"},\n",
    "    {\"title\": \"Document 3\", \"description\": \"Description of document 3\", \"body\": \"And its detailed content.\"}\n",
    "]\n",
    "\n",
    "# Specify fields to extract from the JSON (optional)\n",
    "fields_to_extract = [\"about_us\"]\n",
    "\n",
    "total = 0\n",
    "all_jsons = []\n",
    "for fold in [\"Headphones\", \"Soundbars\", \"Speakers\"]:\n",
    "    fold_count = 0\n",
    "    for fn in os.listdir(os.path.join(\"./Final_Corpus/\", fold)):\n",
    "        file_path = os.path.join(\"./Final_Corpus/\", fold, fn)\n",
    "        d =  read_file(file_path)\n",
    "        d = d[fn.strip(\".json\")] \n",
    "        all_jsons.append(d)\n",
    "\n",
    "# Process and upload the JSONs\n",
    "process_jsons_and_upload(all_jsons, fields_to_extract)\n"
   ]
  },
  {
   "cell_type": "code",
   "execution_count": 45,
   "metadata": {},
   "outputs": [],
   "source": [
    "from pinecone import Pinecone, ServerlessSpec\n",
    "from openai import OpenAI\n",
    "import re\n",
    "import openai\n",
    "import json\n",
    "\n",
    "TOKEN_SIZE_35 = 3500\n",
    "TOKEN_SIZE_4 = 15000\n",
    "\n",
    "# Initialize OpenAI API\n",
    "ai = OpenAI(api_key=\"\")\n",
    "\n",
    "# Initialize Pinecone\n",
    "pc = Pinecone(\n",
    "    api_key=\"\"\n",
    ")\n",
    "\n",
    "\n",
    "# Connect to Pinecone index\n",
    "index_name = \"json-vector-index\"\n",
    "index = pc.Index(index_name)\n",
    "\n",
    "# Function to generate embeddings using OpenAI\n",
    "def generate_embeddings(text):\n",
    "    response = ai.embeddings.create(\n",
    "        model=\"text-embedding-ada-002\",  # Use the correct embedding model\n",
    "        input=text\n",
    "    )\n",
    "    return response.data[0].embedding\n",
    "\n",
    "# Function to query Pinecone for similar documents\n",
    "def similarity_search(query, top_k=100):\n",
    "    # Generate embedding for the query\n",
    "    query_embedding = generate_embeddings(query)\n",
    "\n",
    "    # Search Pinecone index for similar vectors\n",
    "    search_results = index.query(\n",
    "        vector=query_embedding,\n",
    "        top_k=top_k,\n",
    "        include_metadata=True  # Include metadata if needed\n",
    "    )\n",
    "    return search_results['matches']\n",
    "\n",
    "# Function to run an LLM on the retrieved documents\n",
    "def run_llm(query, context, model_name = \"3.5\"):\n",
    "    # Combine the query and context\n",
    "    prompt = f\"Query: {query}\\n\\nContext:\\n{context}\\n\\nAnswer:\"\n",
    "    response = \"\"\n",
    "    model = \"gpt-3.5-turbo-0125\" if model_name == \"3.5\" else \"chatgpt-4o-latest\"\n",
    "    # Use OpenAI's LLM to process the input\n",
    "    # response = openai.chat.completions.create(\n",
    "    # model=\"chatgpt-4o-latest\",  # or \"gpt-4\"\n",
    "    #     messages=[\n",
    "    #         {\"role\": \"system\", \"content\": \"Given context answer the question\"},\n",
    "    #         {\"role\": \"user\", \"content\": prompt}\n",
    "    #     ]\n",
    "    # )\n",
    "\n",
    "    response = openai.chat.completions.create(\n",
    "        model= model,  # or \"gpt-4\"\n",
    "        messages=[\n",
    "            {\"role\": \"system\", \"content\": \"Given context answer the question\"},\n",
    "            {\"role\": \"user\", \"content\": prompt}\n",
    "        ]\n",
    "    )\n",
    "    # (\n",
    "    #     model=\"text-davinci-003\",  # Choose an appropriate model\n",
    "    #     prompt=prompt,\n",
    "    #     max_tokens=300,\n",
    "    #     temperature=0.7\n",
    "    # )\n",
    "    return response\n",
    "\n",
    "def fetch_documents_as_string(index, match_result, model_name = \"3.5\"):\n",
    "    token_size = TOKEN_SIZE_35 if model_name == \"3.5\" else TOKEN_SIZE_4\n",
    "    # Extract IDs from match result\n",
    "    doc_ids = [match['id'] for match in match_result]\n",
    "    # print([m atch['score'] for match in match_result])\n",
    "    # Fetch documents from Pinecone\n",
    "    documents = index.fetch(ids=doc_ids)\n",
    "\n",
    "\n",
    "    cur = 0\n",
    "    # Build the result string\n",
    "    result_lines = []\n",
    "    for doc_id, doc_info in documents['vectors'].items():\n",
    "        # print(len(doc_info['metadata'].get('text', \"No text found\").split(\" \")))\n",
    "        cur += len(doc_info['metadata'].get('text', \"No text found\").split(\" \"))\n",
    "        if cur > token_size + 200:\n",
    "            break\n",
    "        content = doc_info['metadata'].get('text', \"No text found\")\n",
    "        result_lines.append(f\"Document ID: {doc_id}\\nContent: {content}\\n\")\n",
    "    \n",
    "    print(cur)\n",
    "\n",
    "    return \"\\n\\n\".join(result_lines)\n",
    "\n",
    "# Complete pipeline: query → similarity search → LLM\n",
    "def query_pipeline(user_query, top_k=100, model_name = \"3.5\"):\n",
    "    # Step 1: Retrieve similar documents\n",
    "    matches = similarity_search(user_query, top_k=top_k)\n",
    "    # print(matches)\n",
    "\n",
    "    # Step 2: Combine retrieved contexts\n",
    "    context = fetch_documents_as_string(index, matches, model_name = model_name)\n",
    "\n",
    "    # Step 3: Run the query with LLM\n",
    "    llm_output = run_llm(user_query, context, model_name = model_name)\n",
    "    return llm_output\n",
    "\n",
    "# Example Usage\n",
    "def prompt_llm(query, model_name= \"3.5\"):\n",
    "    query = query + \", only url links seperated by chracter '|'\"\n",
    "    response = query_pipeline(query, top_k=100, model_name = model_name)\n",
    "    res = response.choices[0].message.content\n",
    "    final = res.split(\"|\")\n",
    "    final = [link.replace(\" \", \"\") for link in final]\n",
    "    if \"\" in final:\n",
    "        final.remove(\"\")\n",
    "    return final\n",
    "\n",
    "\n",
    "# print(\"LLM Response:\", response)\n"
   ]
  },
  {
   "cell_type": "code",
   "execution_count": 46,
   "metadata": {},
   "outputs": [
    {
     "name": "stdout",
     "output_type": "stream",
     "text": [
      "10111\n"
     ]
    },
    {
     "data": {
      "text/plain": [
       "['https://electronics.sony.com/audio/headphones/c/all-headphones/audio/gaming-audio/inzone-headsets/p/mdrg300-w',\n",
       " 'https://electronics.sony.com/audio/headphones/c/all-headphones/audio/headphones/in-ear/p/mdrex155ap-b',\n",
       " 'https://electronics.sony.com/audio/headphones/c/all-headphones/audio/headphones/headband/p/whrf400',\n",
       " 'https://electronics.sony.com/audio/headphones/c/all-headphones/audio/headphones/headband/p/whch520-b',\n",
       " 'https://electronics.sony.com/audio/headphones/c/all-headphones/audio/headphones/headband/p/mdrzx110ap-b',\n",
       " 'https://electronics.sony.com/audio/headphones/c/all-headphones/audio/headphones/all-headphones/p/mdr1am2-b',\n",
       " 'https://electronics.sony.com/audio/headphones/c/all-headphones/audio/headphones/all-headphones/p/wfls910n-b',\n",
       " 'https://electronics.sony.com/audio/headphones/c/all-headphones/audio/headphones/truly-wireless-earbuds/p/wf1000xm5-b',\n",
       " 'https://electronics.sony.com/audio/headphones/c/all-headphones/audio/headphones/truly-wireless-earbuds/p/wfc700n-b',\n",
       " 'https://electronics.sony.com/audio/headphones/c/all-headphones/audio/headphones/in-ear/p/mdrex110ap-b',\n",
       " 'https://electronics.sony.com/audio/headphones/c/all-headphones/audio/headphones/headband/p/mdrzx110-blk',\n",
       " 'https://electronics.sony.com/audio/headphones/c/all-headphones/audio/headphones/headband/p/mdrzx110nc',\n",
       " 'https://electronics.sony.com/audio/headphones/c/all-headphones/audio/headphones/headband/p/mdrz1r',\n",
       " 'https://electronics.sony.com/audio/headphones/c/all-headphones/audio/headphones/headband/p/mdrz7m2',\n",
       " 'https://electronics.sony.com/audio/headphones/c/all-headphones/audio/gaming-audio/all-inzone-headsets/p/whg500-w',\n",
       " 'https://electronics.sony.com/audio/headphones/c/all-headphones/audio/gaming-audio/inzone-headsets/p/whg900n-w',\n",
       " 'https://electronics.sony.com/audio/headphones/c/all-headphones/audio/headphones/truly-wireless-earbuds/p/wfl900-h']"
      ]
     },
     "execution_count": 46,
     "metadata": {},
     "output_type": "execute_result"
    }
   ],
   "source": [
    "prompt_llm(\"Get me links of headphones\", model_name=\"4\")"
   ]
  },
  {
   "cell_type": "code",
   "execution_count": 47,
   "metadata": {},
   "outputs": [],
   "source": [
    "# print(response)"
   ]
  },
  {
   "cell_type": "code",
   "execution_count": 48,
   "metadata": {},
   "outputs": [],
   "source": [
    "res = response.choices[0].message.content\n",
    "final = res.split(\"|\")"
   ]
  },
  {
   "cell_type": "code",
   "execution_count": 92,
   "metadata": {},
   "outputs": [
    {
     "name": "stdout",
     "output_type": "stream",
     "text": [
      "give me url links of headphones and earbuds having frequency response more than 50000 or 50 kHz, only url links seperated by chracter '|'\n",
      "https//electronics.sony.com/audio/headphones/c/all-headphones/audio/headphones/truly-wireless-earbuds/p/wfl900-h \n",
      " https//electronics.sony.com/audio/headphones/c/all-headphones/audio/headphones/truly-wireless-earbuds/p/wfc700n-b\n"
     ]
    }
   ],
   "source": [
    "# print(query)\n",
    "# print(\"\\n\".join(final))\n",
    "\n"
   ]
  },
  {
   "cell_type": "code",
   "execution_count": 93,
   "metadata": {},
   "outputs": [
    {
     "name": "stdout",
     "output_type": "stream",
     "text": [
      "https://electronics.sony.com/audio/headphones/c/all-headphones/audio/headphones/all-headphones/p/mdr1am2-b\n",
      "https://electronics.sony.com/audio/headphones/c/all-headphones/audio/headphones/headband/p/whrf400\n",
      "https://electronics.sony.com/audio/headphones/c/all-headphones/audio/headphones/truly-wireless-earbuds/p/wfc700n-b\n",
      "https://electronics.sony.com/audio/headphones/c/all-headphones/audio/speakers/wearable-speakers/p/srsns7\n",
      "https://electronics.sony.com/audio/headphones/c/all-headphones/audio/headphones/in-ear/p/mdrex110ap-b\n",
      "https://electronics.sony.com/audio/headphones/c/all-headphones/audio/headphones/headband/p/mdrzx110ap-b\n",
      "https://electronics.sony.com/audio/headphones/c/all-headphones/audio/gaming-audio/all-inzone-headsets/p/whg500-w\n",
      "https://electronics.sony.com/audio/headphones/c/all-headphones/audio/gaming-audio/inzone-headsets/p/whg900n-w\n",
      "https://electronics.sony.com/audio/headphones/c/all-headphones/audio/headphones/headband/p/whch520-b\n",
      "https://electronics.sony.com/audio/headphones/c/all-headphones/audio/headphones/headband/p/mdrz7m2\n",
      "https://electronics.sony.com/audio/headphones/c/all-headphones/audio/headphones/headband/p/mdrzx110nc\n",
      "https://electronics.sony.com/audio/headphones/c/all-headphones/audio/headphones/headband/p/mdrzx110-blk\n",
      "https://electronics.sony.com/audio/headphones/c/all-headphones/audio/headphones/headband/p/mdrz1r\n",
      "https://electronics.sony.com/audio/headphones/c/all-headphones/audio/headphones/all-headphones/p/wfls910n-b\n",
      "https://electronics.sony.com/audio/headphones/c/all-headphones/audio/headphones/truly-wireless-earbuds/p/wfl900-h\n",
      "https://electronics.sony.com/audio/headphones/c/all-headphones/audio/headphones/truly-wireless-earbuds/p/wf1000xm5-b\n",
      "https://electronics.sony.com/audio/headphones/c/all-headphones/audio/gaming-audio/inzone-headsets/p/mdrg300-w\n",
      "https://electronics.sony.com/audio/headphones/c/all-headphones/audio/headphones/in-ear/p/mdrex155ap-b\n",
      "\n",
      "https://electronics.sony.com/audio/soundbars/c/all-soundbars/audio/soundbars/all-soundbars/p/hta9m2\n",
      "https://electronics.sony.com/audio/soundbars/c/all-soundbars/audio/soundbars/all-soundbars/p/sars3s\n",
      "https://electronics.sony.com/audio/soundbars/c/all-soundbars/audio/soundbars/all-soundbars/p/hts100f\n",
      "https://electronics.sony.com/audio/soundbars/c/all-soundbars/audio/soundbars/all-soundbars/p/hts40r\n",
      "https://electronics.sony.com/audio/soundbars/c/all-soundbars/audio/soundbars/all-soundbars/p/sasw5\n",
      "https://electronics.sony.com/audio/soundbars/c/all-soundbars/audio/soundbars/all-soundbars/p/hta5000\n",
      "https://electronics.sony.com/audio/soundbars/c/all-soundbars/audio/soundbars/all-soundbars/p/hts400\n",
      "https://electronics.sony.com/audio/soundbars/c/all-soundbars/audio/soundbars/all-soundbars/p/hta9000\n",
      "https://electronics.sony.com/audio/soundbars/c/all-soundbars/audio/soundbars/all-soundbars/p/hta8000\n",
      "https://electronics.sony.com/audio/soundbars/c/all-soundbars/audio/speakers/wearable-speakers/p/srsns7\n",
      "https://electronics.sony.com/audio/soundbars/c/all-soundbars/audio/soundbars/all-soundbars/p/hta9\n",
      "https://electronics.sony.com/audio/soundbars/c/all-soundbars/audio/soundbars/a-series-soundbars/p/sars5\n",
      "https://electronics.sony.com/audio/soundbars/c/all-soundbars/audio/soundbars/all-soundbars/p/hts2000-uc2\n",
      "https://electronics.sony.com/audio/soundbars/c/all-soundbars/audio/soundbars/all-soundbars/p/htx8500\n",
      "https://electronics.sony.com/audio/soundbars/c/all-soundbars/audio/soundbars/all-soundbars/p/sasw3\n",
      "https://electronics.sony.com/audio/soundbars/c/all-soundbars/audio/soundbars/all-soundbars/p/hta7000\n",
      "https://electronics.sony.com/audio/soundbars/c/all-soundbars/audio/soundbars/a-series-soundbars/p/hta3000\n",
      "\n",
      "https://electronics.sony.com/audio/speakers/c/all-speakers/audio/speakers/wireless-speakers/p/srsxg500\n",
      "https://electronics.sony.com/audio/speakers/c/all-speakers/audio/speakers/all-speakers/p/srsxv900\n",
      "https://electronics.sony.com/audio/speakers/c/all-speakers/audio/speakers/home-theater-speakers/p/sscs3\n",
      "https://electronics.sony.com/audio/speakers/c/all-speakers/audio/speakers/wireless-speakers/p/srsxe200-bz\n",
      "https://electronics.sony.com/audio/speakers/c/all-speakers/audio/speakers/party-speakers/p/srsult70\n",
      "https://electronics.sony.com/audio/speakers/c/all-speakers/audio/speakers/all-speakers/p/htax7\n",
      "https://electronics.sony.com/audio/speakers/c/all-speakers/audio/speakers/wireless-speakers/p/srsxg300-bz\n",
      "https://electronics.sony.com/audio/speakers/c/all-speakers/audio/speakers/wireless-speakers/p/srsxp700\n",
      "https://electronics.sony.com/audio/speakers/c/all-speakers/audio/speakers/home-theater-speakers/p/sscse\n",
      "https://electronics.sony.com/audio/speakers/c/all-speakers/audio/speakers/all-speakers/p/srsxv500\n",
      "https://electronics.sony.com/audio/speakers/c/all-speakers/audio/speakers/home-theater-speakers/p/sscs8\n",
      "https://electronics.sony.com/audio/speakers/c/all-speakers/audio/speakers/all-speakers/p/srsult1000\n",
      "https://electronics.sony.com/audio/speakers/c/all-speakers/audio/speakers/wearable-speakers/p/srsnb10-h\n",
      "https://electronics.sony.com/audio/speakers/c/all-speakers/audio/speakers/all-speakers/p/srsult10-b\n",
      "https://electronics.sony.com/audio/speakers/c/all-speakers/audio/speakers/party-speakers/p/srsxv800\n",
      "https://electronics.sony.com/audio/speakers/c/all-speakers/audio/speakers/360-reality-audio/p/srsra3000-b\n",
      "https://electronics.sony.com/audio/speakers/c/all-speakers/audio/speakers/all-speakers/p/srsls1-b\n",
      "https://electronics.sony.com/audio/speakers/c/all-speakers/audio/speakers/wearable-speakers/p/htan7\n",
      "https://electronics.sony.com/audio/speakers/c/all-speakers/audio/speakers/wireless-speakers/p/srsxp500\n",
      "\n"
     ]
    }
   ],
   "source": [
    "\n",
    "\n",
    "total = 0\n",
    "all_jsons = []\n",
    "for fold in [\"Headphones\", \"Soundbars\", \"Speakers\"]:\n",
    "    fold_count = 0\n",
    "    for fn in os.listdir(os.path.join(\"./Final_Corpus/\", fold)):\n",
    "        file_path = os.path.join(\"./Final_Corpus/\", fold, fn)\n",
    "        d =  read_file(file_path)\n",
    "        print(d[fn.strip(\".json\")][\"link\"])\n",
    "    print()"
   ]
  },
  {
   "cell_type": "code",
   "execution_count": 102,
   "metadata": {},
   "outputs": [
    {
     "name": "stdout",
     "output_type": "stream",
     "text": [
      "{'Simple:': {'Get me links of headphones:': ['https://electronics.sony.com/audio/headphones/c/all-headphones/audio/headphones/all-headphones/p/mdr1am2-b', 'https://electronics.sony.com/audio/headphones/c/all-headphones/audio/headphones/headband/p/whrf400', 'https://electronics.sony.com/audio/headphones/c/all-headphones/audio/headphones/truly-wireless-earbuds/p/wfc700n-b', 'https://electronics.sony.com/audio/headphones/c/all-headphones/audio/speakers/wearable-speakers/p/srsns7', 'https://electronics.sony.com/audio/headphones/c/all-headphones/audio/headphones/in-ear/p/mdrex110ap-b', 'https://electronics.sony.com/audio/headphones/c/all-headphones/audio/headphones/headband/p/mdrzx110ap-b', 'https://electronics.sony.com/audio/headphones/c/all-headphones/audio/gaming-audio/all-inzone-headsets/p/whg500-w', 'https://electronics.sony.com/audio/headphones/c/all-headphones/audio/gaming-audio/inzone-headsets/p/whg900n-w', 'https://electronics.sony.com/audio/headphones/c/all-headphones/audio/headphones/headband/p/whch520-b', 'https://electronics.sony.com/audio/headphones/c/all-headphones/audio/headphones/headband/p/mdrz7m2', 'https://electronics.sony.com/audio/headphones/c/all-headphones/audio/headphones/headband/p/mdrzx110nc', 'https://electronics.sony.com/audio/headphones/c/all-headphones/audio/headphones/headband/p/mdrzx110-blk', 'https://electronics.sony.com/audio/headphones/c/all-headphones/audio/headphones/headband/p/mdrz1r', 'https://electronics.sony.com/audio/headphones/c/all-headphones/audio/headphones/all-headphones/p/wfls910n-b', 'https://electronics.sony.com/audio/headphones/c/all-headphones/audio/headphones/truly-wireless-earbuds/p/wfl900-h', 'https://electronics.sony.com/audio/headphones/c/all-headphones/audio/headphones/truly-wireless-earbuds/p/wf1000xm5-b', 'https://electronics.sony.com/audio/headphones/c/all-headphones/audio/gaming-audio/inzone-headsets/p/mdrg300-w', 'https://electronics.sony.com/audio/headphones/c/all-headphones/audio/headphones/in-ear/p/mdrex155ap-b'], 'Get me links of speakers:': ['https://electronics.sony.com/audio/speakers/c/all-speakers/audio/speakers/wireless-speakers/p/srsxg500', 'https://electronics.sony.com/audio/speakers/c/all-speakers/audio/speakers/all-speakers/p/srsxv900', 'https://electronics.sony.com/audio/speakers/c/all-speakers/audio/speakers/home-theater-speakers/p/sscs3', 'https://electronics.sony.com/audio/speakers/c/all-speakers/audio/speakers/wireless-speakers/p/srsxe200-bz', 'https://electronics.sony.com/audio/speakers/c/all-speakers/audio/speakers/party-speakers/p/srsult70', 'https://electronics.sony.com/audio/speakers/c/all-speakers/audio/speakers/all-speakers/p/htax7', 'https://electronics.sony.com/audio/speakers/c/all-speakers/audio/speakers/wireless-speakers/p/srsxg300-bz', 'https://electronics.sony.com/audio/speakers/c/all-speakers/audio/speakers/wireless-speakers/p/srsxp700', 'https://electronics.sony.com/audio/speakers/c/all-speakers/audio/speakers/home-theater-speakers/p/sscse', 'https://electronics.sony.com/audio/speakers/c/all-speakers/audio/speakers/all-speakers/p/srsxv500', 'https://electronics.sony.com/audio/speakers/c/all-speakers/audio/speakers/home-theater-speakers/p/sscs8', 'https://electronics.sony.com/audio/speakers/c/all-speakers/audio/speakers/all-speakers/p/srsult1000', 'https://electronics.sony.com/audio/speakers/c/all-speakers/audio/speakers/wearable-speakers/p/srsnb10-h', 'https://electronics.sony.com/audio/speakers/c/all-speakers/audio/speakers/all-speakers/p/srsult10-b', 'https://electronics.sony.com/audio/speakers/c/all-speakers/audio/speakers/party-speakers/p/srsxv800', 'https://electronics.sony.com/audio/speakers/c/all-speakers/audio/speakers/360-reality-audio/p/srsra3000-b', 'https://electronics.sony.com/audio/speakers/c/all-speakers/audio/speakers/all-speakers/p/srsls1-b', 'https://electronics.sony.com/audio/speakers/c/all-speakers/audio/speakers/wearable-speakers/p/htan7', 'https://electronics.sony.com/audio/speakers/c/all-speakers/audio/speakers/wireless-speakers/p/srsxp500']}, 'Numbers:': {'Get me headphones with frequency response more than 50000 Hz or 50 kHz': ['https://electronics.sony.com/audio/headphones/c/all-headphones/audio/headphones/all-headphones/p/mdr1am2-b', 'https://electronics.sony.com/audio/headphones/c/all-headphones/audio/headphones/headband/p/mdrz7m2', 'https://electronics.sony.com/audio/headphones/c/all-headphones/audio/headphones/headband/p/mdrz1r'], 'Speakers in less than 200 $': ['https://electronics.sony.com/audio/speakers/c/all-speakers/audio/speakers/all-speakers/p/srsult10-b', 'https://electronics.sony.com/audio/speakers/c/all-speakers/audio/speakers/all-speakers/p/srsls1-b', 'https://electronics.sony.com/audio/speakers/c/all-speakers/audio/speakers/wearable-speakers/p/srsnb10-h', 'https://electronics.sony.com/audio/speakers/c/all-speakers/audio/speakers/wireless-speakers/p/srsxg300-bz', 'https://electronics.sony.com/audio/speakers/c/all-speakers/audio/speakers/home-theater-speakers/p/sscse', 'https://electronics.sony.com/audio/speakers/c/all-speakers/audio/speakers/home-theater-speakers/p/sscs8', 'https://electronics.sony.com/audio/speakers/c/all-speakers/audio/speakers/wireless-speakers/p/srsxe200-bz']}, 'Word search:': {'Soundbars having input and output terminal USB typeA': ['https://electronics.sony.com/audio/soundbars/c/all-soundbars/audio/soundbars/a-series-soundbars/p/hta3000', 'https://electronics.sony.com/audio/soundbars/c/all-soundbars/audio/soundbars/all-soundbars/p/hta5000', 'https://electronics.sony.com/audio/soundbars/c/all-soundbars/audio/soundbars/all-soundbars/p/hts100f', 'https://electronics.sony.com/audio/soundbars/c/all-soundbars/audio/soundbars/all-soundbars/p/hta7000', 'https://electronics.sony.com/audio/soundbars/c/all-soundbars/audio/soundbars/all-soundbars/p/hts2000-uc2', 'https://electronics.sony.com/audio/soundbars/c/all-soundbars/audio/soundbars/all-soundbars/p/hta9', 'https://electronics.sony.com/audio/soundbars/c/all-soundbars/audio/soundbars/all-soundbars/p/hts40r', 'https://electronics.sony.com/audio/soundbars/c/all-soundbars/audio/soundbars/all-soundbars/p/hts400'], 'Gaming type headphone:': ['https://electronics.sony.com/audio/headphones/c/all-headphones/audio/gaming-audio/inzone-headsets/p/whg900n-w', 'https://electronics.sony.com/audio/headphones/c/all-headphones/audio/gaming-audio/all-inzone-headsets/p/whg500-w', 'https://electronics.sony.com/audio/headphones/c/all-headphones/audio/gaming-audio/inzone-headsets/p/mdrg300-w']}}\n"
     ]
    }
   ],
   "source": [
    "def parse_txt_to_dict(file_path):\n",
    "    result_dict = {}\n",
    "    current_category = None\n",
    "    current_query = None\n",
    "    \n",
    "    with open(file_path, 'r') as file:\n",
    "        for line in file:\n",
    "            line = line.strip()\n",
    "            \n",
    "            if line.startswith('# ') and not line.startswith('##'):\n",
    "                # Set category\n",
    "                current_category = line[2:].strip()\n",
    "                result_dict[current_category] = {}\n",
    "            elif line.startswith('##'):\n",
    "                # Set query\n",
    "                current_query = line[2:].strip()\n",
    "                if current_category:\n",
    "                    result_dict[current_category][current_query] = []\n",
    "            elif line and current_category and current_query:\n",
    "                # Add link to the current query\n",
    "                result_dict[current_category][current_query].append(line)\n",
    "    \n",
    "    return result_dict\n",
    "\n",
    "# Example usage\n",
    "file_path = 'Proj_data.txt'  # Replace with your file path\n",
    "parsed_data = parse_txt_to_dict(file_path)\n",
    "print(parsed_data)\n"
   ]
  },
  {
   "cell_type": "code",
   "execution_count": 114,
   "metadata": {},
   "outputs": [
    {
     "name": "stdout",
     "output_type": "stream",
     "text": [
      "3857\n",
      "10111\n",
      "3795\n",
      "10111\n",
      "3782\n",
      "10111\n",
      "3806\n",
      "10111\n",
      "4781\n",
      "10111\n",
      "3927\n",
      "10111\n"
     ]
    }
   ],
   "source": [
    "from collections import defaultdict\n",
    "ans35 = defaultdict(dict)\n",
    "ans4 = defaultdict(dict)\n",
    "\n",
    "for type, ques in parsed_data.items():\n",
    "    for q in ques:\n",
    "        ans35[type][q] = prompt_llm(q )\n",
    "        ans4[type][q] = prompt_llm(q, \"4\")"
   ]
  },
  {
   "cell_type": "code",
   "execution_count": 115,
   "metadata": {},
   "outputs": [],
   "source": [
    "def get_acurracy_mat(query_data, query_res):\n",
    "    accuracy = defaultdict(dict)\n",
    "    for type, ques in parsed_data.items():\n",
    "        for q in ques:\n",
    "            \n",
    "            pred = set(query_res[type][q])\n",
    "            truth = set(query_data[type][q])\n",
    "            accuracy[type][q] = {\"true_positive\" : 0, \"false_positive\" : 0, \"total\" : len(truth)}\n",
    "            for p in pred:\n",
    "                if p in truth:\n",
    "                    accuracy[type][q][\"true_positive\"]+= 1\n",
    "                else :\n",
    "                    accuracy[type][q][\"false_positive\"]+= 1\n",
    "    \n",
    "    return accuracy"
   ]
  },
  {
   "cell_type": "code",
   "execution_count": 117,
   "metadata": {},
   "outputs": [
    {
     "data": {
      "text/plain": [
       "defaultdict(dict,\n",
       "            {'Simple:': {'Get me links of headphones:': {'true_positive': 0,\n",
       "               'false_positive': 9,\n",
       "               'total': 18},\n",
       "              'Get me links of speakers:': {'true_positive': 3,\n",
       "               'false_positive': 3,\n",
       "               'total': 19}},\n",
       "             'Numbers:': {'Get me headphones with frequency response more than 50000 Hz or 50 kHz': {'true_positive': 0,\n",
       "               'false_positive': 6,\n",
       "               'total': 3},\n",
       "              'Speakers in less than 200 $': {'true_positive': 2,\n",
       "               'false_positive': 3,\n",
       "               'total': 7}},\n",
       "             'Word search:': {'Soundbars having input and output terminal USB typeA': {'true_positive': 0,\n",
       "               'false_positive': 2,\n",
       "               'total': 8},\n",
       "              'Gaming type headphone:': {'true_positive': 1,\n",
       "               'false_positive': 1,\n",
       "               'total': 3}}})"
      ]
     },
     "execution_count": 117,
     "metadata": {},
     "output_type": "execute_result"
    }
   ],
   "source": [
    "get_acurracy_mat(parsed_data, ans35)"
   ]
  },
  {
   "cell_type": "code",
   "execution_count": 118,
   "metadata": {},
   "outputs": [
    {
     "data": {
      "text/plain": [
       "defaultdict(dict,\n",
       "            {'Simple:': {'Get me links of headphones:': {'true_positive': 13,\n",
       "               'false_positive': 1,\n",
       "               'total': 18},\n",
       "              'Get me links of speakers:': {'true_positive': 14,\n",
       "               'false_positive': 4,\n",
       "               'total': 19}},\n",
       "             'Numbers:': {'Get me headphones with frequency response more than 50000 Hz or 50 kHz': {'true_positive': 3,\n",
       "               'false_positive': 0,\n",
       "               'total': 3},\n",
       "              'Speakers in less than 200 $': {'true_positive': 3,\n",
       "               'false_positive': 4,\n",
       "               'total': 7}},\n",
       "             'Word search:': {'Soundbars having input and output terminal USB typeA': {'true_positive': 4,\n",
       "               'false_positive': 0,\n",
       "               'total': 8},\n",
       "              'Gaming type headphone:': {'true_positive': 3,\n",
       "               'false_positive': 0,\n",
       "               'total': 3}}})"
      ]
     },
     "execution_count": 118,
     "metadata": {},
     "output_type": "execute_result"
    }
   ],
   "source": [
    "get_acurracy_mat(parsed_data, ans4)"
   ]
  },
  {
   "cell_type": "code",
   "execution_count": 119,
   "metadata": {},
   "outputs": [
    {
     "ename": "KeyError",
     "evalue": "'Word search'",
     "output_type": "error",
     "traceback": [
      "\u001b[0;31m---------------------------------------------------------------------------\u001b[0m",
      "\u001b[0;31mKeyError\u001b[0m                                  Traceback (most recent call last)",
      "Cell \u001b[0;32mIn[119], line 1\u001b[0m\n\u001b[0;32m----> 1\u001b[0m d \u001b[39m=\u001b[39m {\u001b[39m'\u001b[39m\u001b[39mWord search\u001b[39m\u001b[39m'\u001b[39m : {\u001b[39m'\u001b[39m\u001b[39mSoundbars having input and output terminal USB typeA or type A\u001b[39m\u001b[39m'\u001b[39m : parsed_data[\u001b[39m'\u001b[39;49m\u001b[39mWord search\u001b[39;49m\u001b[39m'\u001b[39;49m][\u001b[39m\"\u001b[39m\u001b[39mSoundbars having input and output terminal USB typeA\u001b[39m\u001b[39m\"\u001b[39m]}}\n",
      "\u001b[0;31mKeyError\u001b[0m: 'Word search'"
     ]
    }
   ],
   "source": [
    "d = {'Word search' : {'Soundbars having input and output terminal USB typeA or type A' : parsed_data['Word search:'][\"Soundbars having input and output terminal USB typeA\"]}}"
   ]
  },
  {
   "cell_type": "code",
   "execution_count": null,
   "metadata": {},
   "outputs": [],
   "source": []
  }
 ],
 "metadata": {
  "kernelspec": {
   "display_name": "Python 3 (ipykernel)",
   "language": "python",
   "name": "python3"
  },
  "language_info": {
   "codemirror_mode": {
    "name": "ipython",
    "version": 3
   },
   "file_extension": ".py",
   "mimetype": "text/x-python",
   "name": "python",
   "nbconvert_exporter": "python",
   "pygments_lexer": "ipython3",
   "version": "3.12.4"
  }
 },
 "nbformat": 4,
 "nbformat_minor": 4
}
